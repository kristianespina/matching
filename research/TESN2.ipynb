{
 "cells": [
  {
   "cell_type": "markdown",
   "metadata": {},
   "source": [
    "# Top N Recommendations\n"
   ]
  },
  {
   "cell_type": "code",
   "execution_count": 1,
   "metadata": {},
   "outputs": [],
   "source": [
    "import pandas as pd\n",
    "import numpy as np\n",
    "import xgboost as xgb\n",
    "from sklearn.model_selection import train_test_split\n",
    "from sklearn.metrics import accuracy_score\n",
    "import pickle\n",
    "import matplotlib.pyplot as plt\n",
    "%matplotlib inline"
   ]
  },
  {
   "cell_type": "markdown",
   "metadata": {},
   "source": [
    "Load the data and make sure that all of the empty strings have been filled."
   ]
  },
  {
   "cell_type": "code",
   "execution_count": 2,
   "metadata": {},
   "outputs": [
    {
     "data": {
      "text/html": [
       "<div>\n",
       "<style scoped>\n",
       "    .dataframe tbody tr th:only-of-type {\n",
       "        vertical-align: middle;\n",
       "    }\n",
       "\n",
       "    .dataframe tbody tr th {\n",
       "        vertical-align: top;\n",
       "    }\n",
       "\n",
       "    .dataframe thead th {\n",
       "        text-align: right;\n",
       "    }\n",
       "</style>\n",
       "<table border=\"1\" class=\"dataframe\">\n",
       "  <thead>\n",
       "    <tr style=\"text-align: right;\">\n",
       "      <th></th>\n",
       "      <th>feature1</th>\n",
       "      <th>feature2</th>\n",
       "      <th>feature3</th>\n",
       "      <th>feature4</th>\n",
       "      <th>feature5</th>\n",
       "      <th>feature6</th>\n",
       "      <th>Longitude</th>\n",
       "      <th>Latitude</th>\n",
       "      <th>LongitudeFake</th>\n",
       "      <th>LatitudeLis</th>\n",
       "      <th>ServingCell_Lon</th>\n",
       "      <th>ServingCell_Lat</th>\n",
       "      <th>ServingCell_Distance</th>\n",
       "      <th>Speed</th>\n",
       "      <th>RSRP</th>\n",
       "      <th>RSRQ</th>\n",
       "      <th>feature7</th>\n",
       "      <th>feature8</th>\n",
       "      <th>target</th>\n",
       "    </tr>\n",
       "  </thead>\n",
       "  <tbody>\n",
       "    <tr>\n",
       "      <td>0</td>\n",
       "      <td>10</td>\n",
       "      <td>20</td>\n",
       "      <td>30</td>\n",
       "      <td>40</td>\n",
       "      <td>50</td>\n",
       "      <td>1</td>\n",
       "      <td>-8.501373</td>\n",
       "      <td>51.893359</td>\n",
       "      <td>-9.152339</td>\n",
       "      <td>38.736946</td>\n",
       "      <td>-8.491719</td>\n",
       "      <td>51.893905</td>\n",
       "      <td>665.24</td>\n",
       "      <td>0</td>\n",
       "      <td>-102</td>\n",
       "      <td>-12</td>\n",
       "      <td>0</td>\n",
       "      <td>0</td>\n",
       "      <td>1</td>\n",
       "    </tr>\n",
       "    <tr>\n",
       "      <td>1</td>\n",
       "      <td>11</td>\n",
       "      <td>20</td>\n",
       "      <td>31</td>\n",
       "      <td>41</td>\n",
       "      <td>51</td>\n",
       "      <td>1</td>\n",
       "      <td>-8.501291</td>\n",
       "      <td>51.893462</td>\n",
       "      <td>-9.152257</td>\n",
       "      <td>38.737049</td>\n",
       "      <td>-8.491719</td>\n",
       "      <td>51.893905</td>\n",
       "      <td>658.68</td>\n",
       "      <td>1</td>\n",
       "      <td>-102</td>\n",
       "      <td>-12</td>\n",
       "      <td>0</td>\n",
       "      <td>0</td>\n",
       "      <td>1</td>\n",
       "    </tr>\n",
       "    <tr>\n",
       "      <td>2</td>\n",
       "      <td>11</td>\n",
       "      <td>20</td>\n",
       "      <td>31</td>\n",
       "      <td>41</td>\n",
       "      <td>51</td>\n",
       "      <td>1</td>\n",
       "      <td>-8.501291</td>\n",
       "      <td>51.893462</td>\n",
       "      <td>-9.152257</td>\n",
       "      <td>38.737049</td>\n",
       "      <td>-8.491719</td>\n",
       "      <td>51.893905</td>\n",
       "      <td>658.68</td>\n",
       "      <td>1</td>\n",
       "      <td>-102</td>\n",
       "      <td>-13</td>\n",
       "      <td>1</td>\n",
       "      <td>0</td>\n",
       "      <td>2</td>\n",
       "    </tr>\n",
       "    <tr>\n",
       "      <td>3</td>\n",
       "      <td>11</td>\n",
       "      <td>20</td>\n",
       "      <td>31</td>\n",
       "      <td>41</td>\n",
       "      <td>51</td>\n",
       "      <td>1</td>\n",
       "      <td>-8.501291</td>\n",
       "      <td>51.893462</td>\n",
       "      <td>-9.152257</td>\n",
       "      <td>38.737049</td>\n",
       "      <td>-8.491719</td>\n",
       "      <td>51.893905</td>\n",
       "      <td>658.68</td>\n",
       "      <td>1</td>\n",
       "      <td>-100</td>\n",
       "      <td>-12</td>\n",
       "      <td>2</td>\n",
       "      <td>1</td>\n",
       "      <td>3</td>\n",
       "    </tr>\n",
       "    <tr>\n",
       "      <td>4</td>\n",
       "      <td>11</td>\n",
       "      <td>20</td>\n",
       "      <td>31</td>\n",
       "      <td>41</td>\n",
       "      <td>51</td>\n",
       "      <td>1</td>\n",
       "      <td>-8.501291</td>\n",
       "      <td>51.893462</td>\n",
       "      <td>-9.152257</td>\n",
       "      <td>38.737049</td>\n",
       "      <td>-8.491719</td>\n",
       "      <td>51.893905</td>\n",
       "      <td>658.68</td>\n",
       "      <td>1</td>\n",
       "      <td>-99</td>\n",
       "      <td>-13</td>\n",
       "      <td>3</td>\n",
       "      <td>2</td>\n",
       "      <td>4</td>\n",
       "    </tr>\n",
       "  </tbody>\n",
       "</table>\n",
       "</div>"
      ],
      "text/plain": [
       "  feature1 feature2 feature3 feature4 feature5 feature6  Longitude   Latitude  \\\n",
       "0       10       20       30       40       50        1  -8.501373  51.893359   \n",
       "1       11       20       31       41       51        1  -8.501291  51.893462   \n",
       "2       11       20       31       41       51        1  -8.501291  51.893462   \n",
       "3       11       20       31       41       51        1  -8.501291  51.893462   \n",
       "4       11       20       31       41       51        1  -8.501291  51.893462   \n",
       "\n",
       "  LongitudeFake LatitudeLis ServingCell_Lon ServingCell_Lat  \\\n",
       "0     -9.152339   38.736946       -8.491719       51.893905   \n",
       "1     -9.152257   38.737049       -8.491719       51.893905   \n",
       "2     -9.152257   38.737049       -8.491719       51.893905   \n",
       "3     -9.152257   38.737049       -8.491719       51.893905   \n",
       "4     -9.152257   38.737049       -8.491719       51.893905   \n",
       "\n",
       "  ServingCell_Distance Speed  RSRP RSRQ feature7 feature8 target  \n",
       "0               665.24     0  -102  -12        0        0      1  \n",
       "1               658.68     1  -102  -12        0        0      1  \n",
       "2               658.68     1  -102  -13        1        0      2  \n",
       "3               658.68     1  -100  -12        2        1      3  \n",
       "4               658.68     1   -99  -13        3        2      4  "
      ]
     },
     "execution_count": 2,
     "metadata": {},
     "output_type": "execute_result"
    }
   ],
   "source": [
    "df = pd.read_csv('logdata_6.csv',dtype=str)\n",
    "df = df.fillna('None')\n",
    "df.head()"
   ]
  },
  {
   "cell_type": "markdown",
   "metadata": {},
   "source": [
    "Filter out any target with less than 5 entries"
   ]
  },
  {
   "cell_type": "code",
   "execution_count": 3,
   "metadata": {},
   "outputs": [],
   "source": [
    "df = df.groupby('target').filter(lambda x: len(x) >= 5)"
   ]
  },
  {
   "cell_type": "markdown",
   "metadata": {},
   "source": [
    "Create dummy variables for the input features. Features 7 and 8 will be combined into one since they are both history features for the same event."
   ]
  },
  {
   "cell_type": "code",
   "execution_count": 4,
   "metadata": {},
   "outputs": [],
   "source": [
    "def seqtodict(sequence, start=0):\n",
    "    #transform a sequence to a set of pairs to make into a dictionary\n",
    "    n = start\n",
    "    for elem in sequence:\n",
    "        yield elem,n\n",
    "        n += 1    \n",
    "\n",
    "def getItemDict(itemvalues):\n",
    "    itemvalues = list(itemvalues.unique())\n",
    "    itemdict = {}\n",
    "    if 'None' not in itemvalues:\n",
    "        itemvalues = ['None'] + itemvalues\n",
    "    itemdict = dict( seqtodict(itemvalues))\n",
    "    return itemdict\n",
    "\n",
    "itemdict = getItemDict(df['target'])\n",
    "f1code=getItemDict(df['feature1'])\n",
    "f2code=getItemDict(df['feature2'])\n",
    "f3code=getItemDict(df['feature3'])\n",
    "f4code=getItemDict(df['feature4'])\n",
    "f5code=getItemDict(df['feature5'])\n",
    "f6code=getItemDict(df['feature6'])\n",
    "\n",
    "f61code=getItemDict(df['Longitude'])\n",
    "f62code=getItemDict(df['Latitude'])\n",
    "f63code=getItemDict(df['ServingCell_Lon'])\n",
    "f64code=getItemDict(df['ServingCell_Lat'])\n",
    "f65code=getItemDict(df['RSRP'])\n",
    "f66code=getItemDict(df['RSRQ'])\n",
    "\n",
    "def getCodeorNone(x,dictionary):\n",
    "    output = 0\n",
    "    try:\n",
    "        output=dictionary[x]\n",
    "    except:\n",
    "        output=dictionary['None']\n",
    "    return output\n",
    "\n",
    "df['feature1-code'] = df['feature1'].apply(lambda x: getCodeorNone(x,f1code))\n",
    "df['feature2-code'] = df['feature2'].apply(lambda x: getCodeorNone(x,f2code))\n",
    "df['feature3-code'] = df['feature3'].apply(lambda x: getCodeorNone(x,f3code))\n",
    "df['feature4-code'] = df['feature4'].apply(lambda x: getCodeorNone(x,f4code))\n",
    "df['feature5-code'] = df['feature5'].apply(lambda x: getCodeorNone(x,f5code))\n",
    "df['feature6-code'] = df['feature6'].apply(lambda x: getCodeorNone(x,f6code))\n",
    "\n",
    "df['feature61-code'] = df['Longitude'].apply(lambda x: getCodeorNone(x,f61code))\n",
    "df['feature62-code'] = df['Latitude'].apply(lambda x: getCodeorNone(x,f62code))\n",
    "df['feature63-code'] = df['ServingCell_Lon'].apply(lambda x: getCodeorNone(x,f63code))\n",
    "df['feature64-code'] = df['ServingCell_Lat'].apply(lambda x: getCodeorNone(x,f64code))\n",
    "df['feature65-code'] = df['RSRP'].apply(lambda x: getCodeorNone(x,f65code))\n",
    "df['feature66-code'] = df['RSRQ'].apply(lambda x: getCodeorNone(x,f66code))\n",
    "\n",
    "\n",
    "df['feature7-code'] = df['feature7'].apply(lambda x: getCodeorNone(x,itemdict))\n",
    "df['feature8-code'] = df['feature8'].apply(lambda x: getCodeorNone(x,itemdict))\n",
    "df['target-code'] = df['target'].apply(lambda x: getCodeorNone(x,itemdict))\n",
    "\n",
    "nitems = len(itemdict)"
   ]
  },
  {
   "cell_type": "markdown",
   "metadata": {},
   "source": [
    "Map all of the factors to dummy columns"
   ]
  },
  {
   "cell_type": "code",
   "execution_count": 5,
   "metadata": {},
   "outputs": [
    {
     "data": {
      "text/html": [
       "<div>\n",
       "<style scoped>\n",
       "    .dataframe tbody tr th:only-of-type {\n",
       "        vertical-align: middle;\n",
       "    }\n",
       "\n",
       "    .dataframe tbody tr th {\n",
       "        vertical-align: top;\n",
       "    }\n",
       "\n",
       "    .dataframe thead th {\n",
       "        text-align: right;\n",
       "    }\n",
       "</style>\n",
       "<table border=\"1\" class=\"dataframe\">\n",
       "  <thead>\n",
       "    <tr style=\"text-align: right;\">\n",
       "      <th></th>\n",
       "      <th>f1_1</th>\n",
       "      <th>f1_2</th>\n",
       "      <th>f1_3</th>\n",
       "      <th>f1_4</th>\n",
       "      <th>f1_5</th>\n",
       "      <th>f1_6</th>\n",
       "      <th>f1_7</th>\n",
       "      <th>f1_8</th>\n",
       "      <th>f1_9</th>\n",
       "      <th>f1_10</th>\n",
       "      <th>...</th>\n",
       "      <th>pre_94</th>\n",
       "      <th>pre_95</th>\n",
       "      <th>pre_96</th>\n",
       "      <th>pre_97</th>\n",
       "      <th>pre_98</th>\n",
       "      <th>pre_99</th>\n",
       "      <th>pre_100</th>\n",
       "      <th>pre_101</th>\n",
       "      <th>pre_102</th>\n",
       "      <th>pre_103</th>\n",
       "    </tr>\n",
       "  </thead>\n",
       "  <tbody>\n",
       "    <tr>\n",
       "      <td>0</td>\n",
       "      <td>1</td>\n",
       "      <td>0</td>\n",
       "      <td>0</td>\n",
       "      <td>0</td>\n",
       "      <td>0</td>\n",
       "      <td>0</td>\n",
       "      <td>0</td>\n",
       "      <td>0</td>\n",
       "      <td>0</td>\n",
       "      <td>0</td>\n",
       "      <td>...</td>\n",
       "      <td>0.0</td>\n",
       "      <td>0.0</td>\n",
       "      <td>0.0</td>\n",
       "      <td>0.0</td>\n",
       "      <td>0.0</td>\n",
       "      <td>0.0</td>\n",
       "      <td>0.0</td>\n",
       "      <td>0.0</td>\n",
       "      <td>0.0</td>\n",
       "      <td>0.0</td>\n",
       "    </tr>\n",
       "    <tr>\n",
       "      <td>1</td>\n",
       "      <td>0</td>\n",
       "      <td>1</td>\n",
       "      <td>0</td>\n",
       "      <td>0</td>\n",
       "      <td>0</td>\n",
       "      <td>0</td>\n",
       "      <td>0</td>\n",
       "      <td>0</td>\n",
       "      <td>0</td>\n",
       "      <td>0</td>\n",
       "      <td>...</td>\n",
       "      <td>0.0</td>\n",
       "      <td>0.0</td>\n",
       "      <td>0.0</td>\n",
       "      <td>0.0</td>\n",
       "      <td>0.0</td>\n",
       "      <td>0.0</td>\n",
       "      <td>0.0</td>\n",
       "      <td>0.0</td>\n",
       "      <td>0.0</td>\n",
       "      <td>0.0</td>\n",
       "    </tr>\n",
       "    <tr>\n",
       "      <td>2</td>\n",
       "      <td>0</td>\n",
       "      <td>1</td>\n",
       "      <td>0</td>\n",
       "      <td>0</td>\n",
       "      <td>0</td>\n",
       "      <td>0</td>\n",
       "      <td>0</td>\n",
       "      <td>0</td>\n",
       "      <td>0</td>\n",
       "      <td>0</td>\n",
       "      <td>...</td>\n",
       "      <td>0.0</td>\n",
       "      <td>0.0</td>\n",
       "      <td>0.0</td>\n",
       "      <td>0.0</td>\n",
       "      <td>0.0</td>\n",
       "      <td>0.0</td>\n",
       "      <td>0.0</td>\n",
       "      <td>0.0</td>\n",
       "      <td>0.0</td>\n",
       "      <td>0.0</td>\n",
       "    </tr>\n",
       "    <tr>\n",
       "      <td>3</td>\n",
       "      <td>0</td>\n",
       "      <td>1</td>\n",
       "      <td>0</td>\n",
       "      <td>0</td>\n",
       "      <td>0</td>\n",
       "      <td>0</td>\n",
       "      <td>0</td>\n",
       "      <td>0</td>\n",
       "      <td>0</td>\n",
       "      <td>0</td>\n",
       "      <td>...</td>\n",
       "      <td>0.0</td>\n",
       "      <td>0.0</td>\n",
       "      <td>0.0</td>\n",
       "      <td>0.0</td>\n",
       "      <td>0.0</td>\n",
       "      <td>0.0</td>\n",
       "      <td>0.0</td>\n",
       "      <td>0.0</td>\n",
       "      <td>0.0</td>\n",
       "      <td>0.0</td>\n",
       "    </tr>\n",
       "    <tr>\n",
       "      <td>4</td>\n",
       "      <td>0</td>\n",
       "      <td>1</td>\n",
       "      <td>0</td>\n",
       "      <td>0</td>\n",
       "      <td>0</td>\n",
       "      <td>0</td>\n",
       "      <td>0</td>\n",
       "      <td>0</td>\n",
       "      <td>0</td>\n",
       "      <td>0</td>\n",
       "      <td>...</td>\n",
       "      <td>0.0</td>\n",
       "      <td>0.0</td>\n",
       "      <td>0.0</td>\n",
       "      <td>0.0</td>\n",
       "      <td>0.0</td>\n",
       "      <td>0.0</td>\n",
       "      <td>0.0</td>\n",
       "      <td>0.0</td>\n",
       "      <td>0.0</td>\n",
       "      <td>0.0</td>\n",
       "    </tr>\n",
       "  </tbody>\n",
       "</table>\n",
       "<p>5 rows × 1057 columns</p>\n",
       "</div>"
      ],
      "text/plain": [
       "   f1_1  f1_2  f1_3  f1_4  f1_5  f1_6  f1_7  f1_8  f1_9  f1_10  ...  pre_94  \\\n",
       "0     1     0     0     0     0     0     0     0     0      0  ...     0.0   \n",
       "1     0     1     0     0     0     0     0     0     0      0  ...     0.0   \n",
       "2     0     1     0     0     0     0     0     0     0      0  ...     0.0   \n",
       "3     0     1     0     0     0     0     0     0     0      0  ...     0.0   \n",
       "4     0     1     0     0     0     0     0     0     0      0  ...     0.0   \n",
       "\n",
       "   pre_95  pre_96  pre_97  pre_98  pre_99  pre_100  pre_101  pre_102  pre_103  \n",
       "0     0.0     0.0     0.0     0.0     0.0      0.0      0.0      0.0      0.0  \n",
       "1     0.0     0.0     0.0     0.0     0.0      0.0      0.0      0.0      0.0  \n",
       "2     0.0     0.0     0.0     0.0     0.0      0.0      0.0      0.0      0.0  \n",
       "3     0.0     0.0     0.0     0.0     0.0      0.0      0.0      0.0      0.0  \n",
       "4     0.0     0.0     0.0     0.0     0.0      0.0      0.0      0.0      0.0  \n",
       "\n",
       "[5 rows x 1057 columns]"
      ]
     },
     "execution_count": 5,
     "metadata": {},
     "output_type": "execute_result"
    }
   ],
   "source": [
    "udf = pd.get_dummies(df['feature1-code'],prefix='f1')\n",
    "\n",
    "udf = udf.join(pd.get_dummies(df['feature2-code'],prefix='f2'))\n",
    "udf = udf.join(pd.get_dummies(df['feature3-code'],prefix='f3'))\n",
    "udf = udf.join(pd.get_dummies(df['feature4-code'],prefix='f4'))\n",
    "udf = udf.join(pd.get_dummies(df['feature5-code'],prefix='f5'))\n",
    "udf = udf.join(pd.get_dummies(df['feature6-code'],prefix='f6'))\n",
    "\n",
    "udf = udf.join(pd.get_dummies(df['feature61-code'],prefix='f61'))\n",
    "\n",
    "udf = udf.join(pd.get_dummies(df['feature62-code'],prefix='f62'))\n",
    "udf = udf.join(pd.get_dummies(df['feature63-code'],prefix='f63'))\n",
    "udf = udf.join(pd.get_dummies(df['feature64-code'],prefix='f64'))\n",
    "udf = udf.join(pd.get_dummies(df['feature65-code'],prefix='f65'))\n",
    "udf = udf.join(pd.get_dummies(df['feature66-code'],prefix='f66'))\n",
    "\n",
    "\n",
    "               \n",
    "# feature 7 is the 2nd previous user click, so we weight it by 0.5\n",
    "udf = udf.join(pd.get_dummies(df['feature7-code'],prefix='pre')*0.3 + pd.get_dummies(df['feature8-code'],prefix='pre'))\n",
    "feature_columns = udf.columns\n",
    "udf.head()"
   ]
  },
  {
   "cell_type": "markdown",
   "metadata": {},
   "source": [
    "Create test/train split"
   ]
  },
  {
   "cell_type": "code",
   "execution_count": 6,
   "metadata": {},
   "outputs": [
    {
     "name": "stderr",
     "output_type": "stream",
     "text": [
      "Using TensorFlow backend.\n"
     ]
    }
   ],
   "source": [
    "from keras.models import Sequential\n",
    "from keras.layers import Dense, Dropout, Activation\n",
    "from keras.optimizers import SGD\n",
    "\n",
    "from IPython.core.display import display, HTML\n",
    "from keras_tqdm import TQDMNotebookCallback\n",
    "from keras.callbacks import EarlyStopping\n",
    "from keras.utils import to_categorical\n",
    "import heapq\n",
    "\n",
    "one_hot_labels = to_categorical(df['target-code'], num_classes=nitems)\n",
    "\n",
    "X_train, X_test, y_train, y_test = train_test_split(udf,one_hot_labels, test_size=0.2, random_state=23)\n",
    "\n",
    "X_train = np.asarray(X_train)\n",
    "X_test = np.asarray(X_test)\n",
    "y_train = np.asarray(y_train)\n",
    "y_test = np.asarray(y_test)"
   ]
  },
  {
   "cell_type": "markdown",
   "metadata": {},
   "source": [
    "# Set up a Neural Network model\n",
    "\n",
    "We use a two layer perceptron with `relu` activation and two `0.5` dropouts in between. The input dimensionality is the number of feature columns and the output is the number of target classes.\n",
    "\n",
    "We also set up a custom scoring function that checks to see if the target class is in the top N probabilities predicted by the model."
   ]
  },
  {
   "cell_type": "code",
   "execution_count": 7,
   "metadata": {},
   "outputs": [],
   "source": [
    "def getModel(n,num_epochs=20):\n",
    "\n",
    "    model = Sequential()\n",
    "    model.add(Dense(n, activation='relu', input_dim=len(feature_columns)))\n",
    "    model.add(Dropout(0.5))\n",
    "    model.add(Dense(int(n/2), activation='relu'))\n",
    "    model.add(Dropout(0.5))\n",
    "    model.add(Dense(nitems, activation='softmax'))\n",
    "\n",
    "    sgd = SGD(lr=0.01, decay=1e-6, momentum=0.9, nesterov=True)\n",
    "    model.compile(loss='categorical_crossentropy',\n",
    "                  optimizer=sgd,\n",
    "                  metrics=['accuracy'])\n",
    "    \n",
    "    callbacks = [EarlyStopping(monitor='acc', patience=10, verbose=0),\n",
    "            TQDMNotebookCallback()]\n",
    "    model.fit(X_train, y_train,\n",
    "              epochs=num_epochs,\n",
    "              batch_size=128,verbose=0,\n",
    "                 callbacks=callbacks)\n",
    "    \n",
    "    return model\n",
    "\n",
    "\n",
    "def getScore(preds,y_test,topNvalue=10):\n",
    "    \n",
    "    labels = np.argmax(y_test,1)\n",
    "    vals = np.argpartition(preds,-topNvalue)[:,-topNvalue:]\n",
    "    score = float(vals.size - np.count_nonzero((vals.transpose() - labels).transpose()))/len(labels)\n",
    "    \n",
    "    return score"
   ]
  },
  {
   "cell_type": "markdown",
   "metadata": {},
   "source": [
    "Run through a couple of diffent numbers of neurons, looking for the tradeoff between model size and performance."
   ]
  },
  {
   "cell_type": "code",
   "execution_count": 8,
   "metadata": {},
   "outputs": [
    {
     "data": {
      "application/vnd.jupyter.widget-view+json": {
       "model_id": "b6526681100c47a680a79e89fddde96c",
       "version_major": 2,
       "version_minor": 0
      },
      "text/plain": [
       "HBox(children=(IntProgress(value=0, description='Training', max=20, style=ProgressStyle(description_width='ini…"
      ]
     },
     "metadata": {},
     "output_type": "display_data"
    },
    {
     "data": {
      "application/vnd.jupyter.widget-view+json": {
       "model_id": "",
       "version_major": 2,
       "version_minor": 0
      },
      "text/plain": [
       "HBox(children=(IntProgress(value=0, description='Epoch 0', max=2131, style=ProgressStyle(description_width='in…"
      ]
     },
     "metadata": {},
     "output_type": "display_data"
    },
    {
     "name": "stderr",
     "output_type": "stream",
     "text": [
      "C:\\anaconda\\lib\\site-packages\\keras\\callbacks\\callbacks.py:846: RuntimeWarning: Early stopping conditioned on metric `acc` which is not available. Available metrics are: loss,accuracy\n",
      "  (self.monitor, ','.join(list(logs.keys()))), RuntimeWarning\n"
     ]
    },
    {
     "data": {
      "application/vnd.jupyter.widget-view+json": {
       "model_id": "",
       "version_major": 2,
       "version_minor": 0
      },
      "text/plain": [
       "HBox(children=(IntProgress(value=0, description='Epoch 1', max=2131, style=ProgressStyle(description_width='in…"
      ]
     },
     "metadata": {},
     "output_type": "display_data"
    },
    {
     "data": {
      "application/vnd.jupyter.widget-view+json": {
       "model_id": "",
       "version_major": 2,
       "version_minor": 0
      },
      "text/plain": [
       "HBox(children=(IntProgress(value=0, description='Epoch 2', max=2131, style=ProgressStyle(description_width='in…"
      ]
     },
     "metadata": {},
     "output_type": "display_data"
    },
    {
     "data": {
      "application/vnd.jupyter.widget-view+json": {
       "model_id": "",
       "version_major": 2,
       "version_minor": 0
      },
      "text/plain": [
       "HBox(children=(IntProgress(value=0, description='Epoch 3', max=2131, style=ProgressStyle(description_width='in…"
      ]
     },
     "metadata": {},
     "output_type": "display_data"
    },
    {
     "data": {
      "application/vnd.jupyter.widget-view+json": {
       "model_id": "",
       "version_major": 2,
       "version_minor": 0
      },
      "text/plain": [
       "HBox(children=(IntProgress(value=0, description='Epoch 4', max=2131, style=ProgressStyle(description_width='in…"
      ]
     },
     "metadata": {},
     "output_type": "display_data"
    },
    {
     "data": {
      "application/vnd.jupyter.widget-view+json": {
       "model_id": "",
       "version_major": 2,
       "version_minor": 0
      },
      "text/plain": [
       "HBox(children=(IntProgress(value=0, description='Epoch 5', max=2131, style=ProgressStyle(description_width='in…"
      ]
     },
     "metadata": {},
     "output_type": "display_data"
    },
    {
     "data": {
      "application/vnd.jupyter.widget-view+json": {
       "model_id": "",
       "version_major": 2,
       "version_minor": 0
      },
      "text/plain": [
       "HBox(children=(IntProgress(value=0, description='Epoch 6', max=2131, style=ProgressStyle(description_width='in…"
      ]
     },
     "metadata": {},
     "output_type": "display_data"
    },
    {
     "data": {
      "application/vnd.jupyter.widget-view+json": {
       "model_id": "",
       "version_major": 2,
       "version_minor": 0
      },
      "text/plain": [
       "HBox(children=(IntProgress(value=0, description='Epoch 7', max=2131, style=ProgressStyle(description_width='in…"
      ]
     },
     "metadata": {},
     "output_type": "display_data"
    },
    {
     "data": {
      "application/vnd.jupyter.widget-view+json": {
       "model_id": "",
       "version_major": 2,
       "version_minor": 0
      },
      "text/plain": [
       "HBox(children=(IntProgress(value=0, description='Epoch 8', max=2131, style=ProgressStyle(description_width='in…"
      ]
     },
     "metadata": {},
     "output_type": "display_data"
    },
    {
     "data": {
      "application/vnd.jupyter.widget-view+json": {
       "model_id": "",
       "version_major": 2,
       "version_minor": 0
      },
      "text/plain": [
       "HBox(children=(IntProgress(value=0, description='Epoch 9', max=2131, style=ProgressStyle(description_width='in…"
      ]
     },
     "metadata": {},
     "output_type": "display_data"
    },
    {
     "data": {
      "application/vnd.jupyter.widget-view+json": {
       "model_id": "",
       "version_major": 2,
       "version_minor": 0
      },
      "text/plain": [
       "HBox(children=(IntProgress(value=0, description='Epoch 10', max=2131, style=ProgressStyle(description_width='i…"
      ]
     },
     "metadata": {},
     "output_type": "display_data"
    },
    {
     "data": {
      "application/vnd.jupyter.widget-view+json": {
       "model_id": "",
       "version_major": 2,
       "version_minor": 0
      },
      "text/plain": [
       "HBox(children=(IntProgress(value=0, description='Epoch 11', max=2131, style=ProgressStyle(description_width='i…"
      ]
     },
     "metadata": {},
     "output_type": "display_data"
    },
    {
     "data": {
      "application/vnd.jupyter.widget-view+json": {
       "model_id": "",
       "version_major": 2,
       "version_minor": 0
      },
      "text/plain": [
       "HBox(children=(IntProgress(value=0, description='Epoch 12', max=2131, style=ProgressStyle(description_width='i…"
      ]
     },
     "metadata": {},
     "output_type": "display_data"
    },
    {
     "data": {
      "application/vnd.jupyter.widget-view+json": {
       "model_id": "",
       "version_major": 2,
       "version_minor": 0
      },
      "text/plain": [
       "HBox(children=(IntProgress(value=0, description='Epoch 13', max=2131, style=ProgressStyle(description_width='i…"
      ]
     },
     "metadata": {},
     "output_type": "display_data"
    },
    {
     "data": {
      "application/vnd.jupyter.widget-view+json": {
       "model_id": "",
       "version_major": 2,
       "version_minor": 0
      },
      "text/plain": [
       "HBox(children=(IntProgress(value=0, description='Epoch 14', max=2131, style=ProgressStyle(description_width='i…"
      ]
     },
     "metadata": {},
     "output_type": "display_data"
    },
    {
     "data": {
      "application/vnd.jupyter.widget-view+json": {
       "model_id": "",
       "version_major": 2,
       "version_minor": 0
      },
      "text/plain": [
       "HBox(children=(IntProgress(value=0, description='Epoch 15', max=2131, style=ProgressStyle(description_width='i…"
      ]
     },
     "metadata": {},
     "output_type": "display_data"
    },
    {
     "data": {
      "application/vnd.jupyter.widget-view+json": {
       "model_id": "",
       "version_major": 2,
       "version_minor": 0
      },
      "text/plain": [
       "HBox(children=(IntProgress(value=0, description='Epoch 16', max=2131, style=ProgressStyle(description_width='i…"
      ]
     },
     "metadata": {},
     "output_type": "display_data"
    },
    {
     "data": {
      "application/vnd.jupyter.widget-view+json": {
       "model_id": "",
       "version_major": 2,
       "version_minor": 0
      },
      "text/plain": [
       "HBox(children=(IntProgress(value=0, description='Epoch 17', max=2131, style=ProgressStyle(description_width='i…"
      ]
     },
     "metadata": {},
     "output_type": "display_data"
    },
    {
     "data": {
      "application/vnd.jupyter.widget-view+json": {
       "model_id": "",
       "version_major": 2,
       "version_minor": 0
      },
      "text/plain": [
       "HBox(children=(IntProgress(value=0, description='Epoch 18', max=2131, style=ProgressStyle(description_width='i…"
      ]
     },
     "metadata": {},
     "output_type": "display_data"
    },
    {
     "data": {
      "application/vnd.jupyter.widget-view+json": {
       "model_id": "",
       "version_major": 2,
       "version_minor": 0
      },
      "text/plain": [
       "HBox(children=(IntProgress(value=0, description='Epoch 19', max=2131, style=ProgressStyle(description_width='i…"
      ]
     },
     "metadata": {},
     "output_type": "display_data"
    },
    {
     "name": "stdout",
     "output_type": "stream",
     "text": [
      "\n"
     ]
    },
    {
     "data": {
      "application/vnd.jupyter.widget-view+json": {
       "model_id": "8eaaf9a4e0684e50b949d13a43e42da5",
       "version_major": 2,
       "version_minor": 0
      },
      "text/plain": [
       "HBox(children=(IntProgress(value=0, description='Training', max=20, style=ProgressStyle(description_width='ini…"
      ]
     },
     "metadata": {},
     "output_type": "display_data"
    },
    {
     "data": {
      "application/vnd.jupyter.widget-view+json": {
       "model_id": "",
       "version_major": 2,
       "version_minor": 0
      },
      "text/plain": [
       "HBox(children=(IntProgress(value=0, description='Epoch 0', max=2131, style=ProgressStyle(description_width='in…"
      ]
     },
     "metadata": {},
     "output_type": "display_data"
    },
    {
     "name": "stderr",
     "output_type": "stream",
     "text": [
      "C:\\anaconda\\lib\\site-packages\\keras\\callbacks\\callbacks.py:846: RuntimeWarning: Early stopping conditioned on metric `acc` which is not available. Available metrics are: loss,accuracy\n",
      "  (self.monitor, ','.join(list(logs.keys()))), RuntimeWarning\n"
     ]
    },
    {
     "data": {
      "application/vnd.jupyter.widget-view+json": {
       "model_id": "",
       "version_major": 2,
       "version_minor": 0
      },
      "text/plain": [
       "HBox(children=(IntProgress(value=0, description='Epoch 1', max=2131, style=ProgressStyle(description_width='in…"
      ]
     },
     "metadata": {},
     "output_type": "display_data"
    },
    {
     "data": {
      "application/vnd.jupyter.widget-view+json": {
       "model_id": "",
       "version_major": 2,
       "version_minor": 0
      },
      "text/plain": [
       "HBox(children=(IntProgress(value=0, description='Epoch 2', max=2131, style=ProgressStyle(description_width='in…"
      ]
     },
     "metadata": {},
     "output_type": "display_data"
    },
    {
     "data": {
      "application/vnd.jupyter.widget-view+json": {
       "model_id": "",
       "version_major": 2,
       "version_minor": 0
      },
      "text/plain": [
       "HBox(children=(IntProgress(value=0, description='Epoch 3', max=2131, style=ProgressStyle(description_width='in…"
      ]
     },
     "metadata": {},
     "output_type": "display_data"
    },
    {
     "data": {
      "application/vnd.jupyter.widget-view+json": {
       "model_id": "",
       "version_major": 2,
       "version_minor": 0
      },
      "text/plain": [
       "HBox(children=(IntProgress(value=0, description='Epoch 4', max=2131, style=ProgressStyle(description_width='in…"
      ]
     },
     "metadata": {},
     "output_type": "display_data"
    },
    {
     "data": {
      "application/vnd.jupyter.widget-view+json": {
       "model_id": "",
       "version_major": 2,
       "version_minor": 0
      },
      "text/plain": [
       "HBox(children=(IntProgress(value=0, description='Epoch 5', max=2131, style=ProgressStyle(description_width='in…"
      ]
     },
     "metadata": {},
     "output_type": "display_data"
    },
    {
     "data": {
      "application/vnd.jupyter.widget-view+json": {
       "model_id": "",
       "version_major": 2,
       "version_minor": 0
      },
      "text/plain": [
       "HBox(children=(IntProgress(value=0, description='Epoch 6', max=2131, style=ProgressStyle(description_width='in…"
      ]
     },
     "metadata": {},
     "output_type": "display_data"
    },
    {
     "data": {
      "application/vnd.jupyter.widget-view+json": {
       "model_id": "",
       "version_major": 2,
       "version_minor": 0
      },
      "text/plain": [
       "HBox(children=(IntProgress(value=0, description='Epoch 7', max=2131, style=ProgressStyle(description_width='in…"
      ]
     },
     "metadata": {},
     "output_type": "display_data"
    },
    {
     "data": {
      "application/vnd.jupyter.widget-view+json": {
       "model_id": "",
       "version_major": 2,
       "version_minor": 0
      },
      "text/plain": [
       "HBox(children=(IntProgress(value=0, description='Epoch 8', max=2131, style=ProgressStyle(description_width='in…"
      ]
     },
     "metadata": {},
     "output_type": "display_data"
    },
    {
     "data": {
      "application/vnd.jupyter.widget-view+json": {
       "model_id": "",
       "version_major": 2,
       "version_minor": 0
      },
      "text/plain": [
       "HBox(children=(IntProgress(value=0, description='Epoch 9', max=2131, style=ProgressStyle(description_width='in…"
      ]
     },
     "metadata": {},
     "output_type": "display_data"
    },
    {
     "data": {
      "application/vnd.jupyter.widget-view+json": {
       "model_id": "",
       "version_major": 2,
       "version_minor": 0
      },
      "text/plain": [
       "HBox(children=(IntProgress(value=0, description='Epoch 10', max=2131, style=ProgressStyle(description_width='i…"
      ]
     },
     "metadata": {},
     "output_type": "display_data"
    },
    {
     "data": {
      "application/vnd.jupyter.widget-view+json": {
       "model_id": "",
       "version_major": 2,
       "version_minor": 0
      },
      "text/plain": [
       "HBox(children=(IntProgress(value=0, description='Epoch 11', max=2131, style=ProgressStyle(description_width='i…"
      ]
     },
     "metadata": {},
     "output_type": "display_data"
    },
    {
     "data": {
      "application/vnd.jupyter.widget-view+json": {
       "model_id": "",
       "version_major": 2,
       "version_minor": 0
      },
      "text/plain": [
       "HBox(children=(IntProgress(value=0, description='Epoch 12', max=2131, style=ProgressStyle(description_width='i…"
      ]
     },
     "metadata": {},
     "output_type": "display_data"
    },
    {
     "data": {
      "application/vnd.jupyter.widget-view+json": {
       "model_id": "",
       "version_major": 2,
       "version_minor": 0
      },
      "text/plain": [
       "HBox(children=(IntProgress(value=0, description='Epoch 13', max=2131, style=ProgressStyle(description_width='i…"
      ]
     },
     "metadata": {},
     "output_type": "display_data"
    },
    {
     "data": {
      "application/vnd.jupyter.widget-view+json": {
       "model_id": "",
       "version_major": 2,
       "version_minor": 0
      },
      "text/plain": [
       "HBox(children=(IntProgress(value=0, description='Epoch 14', max=2131, style=ProgressStyle(description_width='i…"
      ]
     },
     "metadata": {},
     "output_type": "display_data"
    },
    {
     "data": {
      "application/vnd.jupyter.widget-view+json": {
       "model_id": "",
       "version_major": 2,
       "version_minor": 0
      },
      "text/plain": [
       "HBox(children=(IntProgress(value=0, description='Epoch 15', max=2131, style=ProgressStyle(description_width='i…"
      ]
     },
     "metadata": {},
     "output_type": "display_data"
    },
    {
     "data": {
      "application/vnd.jupyter.widget-view+json": {
       "model_id": "",
       "version_major": 2,
       "version_minor": 0
      },
      "text/plain": [
       "HBox(children=(IntProgress(value=0, description='Epoch 16', max=2131, style=ProgressStyle(description_width='i…"
      ]
     },
     "metadata": {},
     "output_type": "display_data"
    },
    {
     "data": {
      "application/vnd.jupyter.widget-view+json": {
       "model_id": "",
       "version_major": 2,
       "version_minor": 0
      },
      "text/plain": [
       "HBox(children=(IntProgress(value=0, description='Epoch 17', max=2131, style=ProgressStyle(description_width='i…"
      ]
     },
     "metadata": {},
     "output_type": "display_data"
    },
    {
     "data": {
      "application/vnd.jupyter.widget-view+json": {
       "model_id": "",
       "version_major": 2,
       "version_minor": 0
      },
      "text/plain": [
       "HBox(children=(IntProgress(value=0, description='Epoch 18', max=2131, style=ProgressStyle(description_width='i…"
      ]
     },
     "metadata": {},
     "output_type": "display_data"
    },
    {
     "data": {
      "application/vnd.jupyter.widget-view+json": {
       "model_id": "",
       "version_major": 2,
       "version_minor": 0
      },
      "text/plain": [
       "HBox(children=(IntProgress(value=0, description='Epoch 19', max=2131, style=ProgressStyle(description_width='i…"
      ]
     },
     "metadata": {},
     "output_type": "display_data"
    },
    {
     "name": "stdout",
     "output_type": "stream",
     "text": [
      "\n"
     ]
    },
    {
     "data": {
      "application/vnd.jupyter.widget-view+json": {
       "model_id": "d583afde390e4ee3bafed8f5410e36d8",
       "version_major": 2,
       "version_minor": 0
      },
      "text/plain": [
       "HBox(children=(IntProgress(value=0, description='Training', max=20, style=ProgressStyle(description_width='ini…"
      ]
     },
     "metadata": {},
     "output_type": "display_data"
    },
    {
     "data": {
      "application/vnd.jupyter.widget-view+json": {
       "model_id": "",
       "version_major": 2,
       "version_minor": 0
      },
      "text/plain": [
       "HBox(children=(IntProgress(value=0, description='Epoch 0', max=2131, style=ProgressStyle(description_width='in…"
      ]
     },
     "metadata": {},
     "output_type": "display_data"
    },
    {
     "name": "stderr",
     "output_type": "stream",
     "text": [
      "C:\\anaconda\\lib\\site-packages\\keras\\callbacks\\callbacks.py:846: RuntimeWarning: Early stopping conditioned on metric `acc` which is not available. Available metrics are: loss,accuracy\n",
      "  (self.monitor, ','.join(list(logs.keys()))), RuntimeWarning\n"
     ]
    },
    {
     "data": {
      "application/vnd.jupyter.widget-view+json": {
       "model_id": "",
       "version_major": 2,
       "version_minor": 0
      },
      "text/plain": [
       "HBox(children=(IntProgress(value=0, description='Epoch 1', max=2131, style=ProgressStyle(description_width='in…"
      ]
     },
     "metadata": {},
     "output_type": "display_data"
    },
    {
     "data": {
      "application/vnd.jupyter.widget-view+json": {
       "model_id": "",
       "version_major": 2,
       "version_minor": 0
      },
      "text/plain": [
       "HBox(children=(IntProgress(value=0, description='Epoch 2', max=2131, style=ProgressStyle(description_width='in…"
      ]
     },
     "metadata": {},
     "output_type": "display_data"
    },
    {
     "data": {
      "application/vnd.jupyter.widget-view+json": {
       "model_id": "",
       "version_major": 2,
       "version_minor": 0
      },
      "text/plain": [
       "HBox(children=(IntProgress(value=0, description='Epoch 3', max=2131, style=ProgressStyle(description_width='in…"
      ]
     },
     "metadata": {},
     "output_type": "display_data"
    },
    {
     "data": {
      "application/vnd.jupyter.widget-view+json": {
       "model_id": "",
       "version_major": 2,
       "version_minor": 0
      },
      "text/plain": [
       "HBox(children=(IntProgress(value=0, description='Epoch 4', max=2131, style=ProgressStyle(description_width='in…"
      ]
     },
     "metadata": {},
     "output_type": "display_data"
    },
    {
     "data": {
      "application/vnd.jupyter.widget-view+json": {
       "model_id": "",
       "version_major": 2,
       "version_minor": 0
      },
      "text/plain": [
       "HBox(children=(IntProgress(value=0, description='Epoch 5', max=2131, style=ProgressStyle(description_width='in…"
      ]
     },
     "metadata": {},
     "output_type": "display_data"
    },
    {
     "data": {
      "application/vnd.jupyter.widget-view+json": {
       "model_id": "",
       "version_major": 2,
       "version_minor": 0
      },
      "text/plain": [
       "HBox(children=(IntProgress(value=0, description='Epoch 6', max=2131, style=ProgressStyle(description_width='in…"
      ]
     },
     "metadata": {},
     "output_type": "display_data"
    },
    {
     "data": {
      "application/vnd.jupyter.widget-view+json": {
       "model_id": "",
       "version_major": 2,
       "version_minor": 0
      },
      "text/plain": [
       "HBox(children=(IntProgress(value=0, description='Epoch 7', max=2131, style=ProgressStyle(description_width='in…"
      ]
     },
     "metadata": {},
     "output_type": "display_data"
    },
    {
     "data": {
      "application/vnd.jupyter.widget-view+json": {
       "model_id": "",
       "version_major": 2,
       "version_minor": 0
      },
      "text/plain": [
       "HBox(children=(IntProgress(value=0, description='Epoch 8', max=2131, style=ProgressStyle(description_width='in…"
      ]
     },
     "metadata": {},
     "output_type": "display_data"
    },
    {
     "data": {
      "application/vnd.jupyter.widget-view+json": {
       "model_id": "",
       "version_major": 2,
       "version_minor": 0
      },
      "text/plain": [
       "HBox(children=(IntProgress(value=0, description='Epoch 9', max=2131, style=ProgressStyle(description_width='in…"
      ]
     },
     "metadata": {},
     "output_type": "display_data"
    },
    {
     "data": {
      "application/vnd.jupyter.widget-view+json": {
       "model_id": "",
       "version_major": 2,
       "version_minor": 0
      },
      "text/plain": [
       "HBox(children=(IntProgress(value=0, description='Epoch 10', max=2131, style=ProgressStyle(description_width='i…"
      ]
     },
     "metadata": {},
     "output_type": "display_data"
    },
    {
     "data": {
      "application/vnd.jupyter.widget-view+json": {
       "model_id": "",
       "version_major": 2,
       "version_minor": 0
      },
      "text/plain": [
       "HBox(children=(IntProgress(value=0, description='Epoch 11', max=2131, style=ProgressStyle(description_width='i…"
      ]
     },
     "metadata": {},
     "output_type": "display_data"
    },
    {
     "data": {
      "application/vnd.jupyter.widget-view+json": {
       "model_id": "",
       "version_major": 2,
       "version_minor": 0
      },
      "text/plain": [
       "HBox(children=(IntProgress(value=0, description='Epoch 12', max=2131, style=ProgressStyle(description_width='i…"
      ]
     },
     "metadata": {},
     "output_type": "display_data"
    },
    {
     "data": {
      "application/vnd.jupyter.widget-view+json": {
       "model_id": "",
       "version_major": 2,
       "version_minor": 0
      },
      "text/plain": [
       "HBox(children=(IntProgress(value=0, description='Epoch 13', max=2131, style=ProgressStyle(description_width='i…"
      ]
     },
     "metadata": {},
     "output_type": "display_data"
    },
    {
     "data": {
      "application/vnd.jupyter.widget-view+json": {
       "model_id": "",
       "version_major": 2,
       "version_minor": 0
      },
      "text/plain": [
       "HBox(children=(IntProgress(value=0, description='Epoch 14', max=2131, style=ProgressStyle(description_width='i…"
      ]
     },
     "metadata": {},
     "output_type": "display_data"
    },
    {
     "data": {
      "application/vnd.jupyter.widget-view+json": {
       "model_id": "",
       "version_major": 2,
       "version_minor": 0
      },
      "text/plain": [
       "HBox(children=(IntProgress(value=0, description='Epoch 15', max=2131, style=ProgressStyle(description_width='i…"
      ]
     },
     "metadata": {},
     "output_type": "display_data"
    },
    {
     "data": {
      "application/vnd.jupyter.widget-view+json": {
       "model_id": "",
       "version_major": 2,
       "version_minor": 0
      },
      "text/plain": [
       "HBox(children=(IntProgress(value=0, description='Epoch 16', max=2131, style=ProgressStyle(description_width='i…"
      ]
     },
     "metadata": {},
     "output_type": "display_data"
    },
    {
     "data": {
      "application/vnd.jupyter.widget-view+json": {
       "model_id": "",
       "version_major": 2,
       "version_minor": 0
      },
      "text/plain": [
       "HBox(children=(IntProgress(value=0, description='Epoch 17', max=2131, style=ProgressStyle(description_width='i…"
      ]
     },
     "metadata": {},
     "output_type": "display_data"
    },
    {
     "data": {
      "application/vnd.jupyter.widget-view+json": {
       "model_id": "",
       "version_major": 2,
       "version_minor": 0
      },
      "text/plain": [
       "HBox(children=(IntProgress(value=0, description='Epoch 18', max=2131, style=ProgressStyle(description_width='i…"
      ]
     },
     "metadata": {},
     "output_type": "display_data"
    },
    {
     "data": {
      "application/vnd.jupyter.widget-view+json": {
       "model_id": "",
       "version_major": 2,
       "version_minor": 0
      },
      "text/plain": [
       "HBox(children=(IntProgress(value=0, description='Epoch 19', max=2131, style=ProgressStyle(description_width='i…"
      ]
     },
     "metadata": {},
     "output_type": "display_data"
    },
    {
     "name": "stdout",
     "output_type": "stream",
     "text": [
      "\n"
     ]
    },
    {
     "data": {
      "application/vnd.jupyter.widget-view+json": {
       "model_id": "133a6af6ebb246429732c8bbb291a762",
       "version_major": 2,
       "version_minor": 0
      },
      "text/plain": [
       "HBox(children=(IntProgress(value=0, description='Training', max=20, style=ProgressStyle(description_width='ini…"
      ]
     },
     "metadata": {},
     "output_type": "display_data"
    },
    {
     "data": {
      "application/vnd.jupyter.widget-view+json": {
       "model_id": "",
       "version_major": 2,
       "version_minor": 0
      },
      "text/plain": [
       "HBox(children=(IntProgress(value=0, description='Epoch 0', max=2131, style=ProgressStyle(description_width='in…"
      ]
     },
     "metadata": {},
     "output_type": "display_data"
    },
    {
     "name": "stderr",
     "output_type": "stream",
     "text": [
      "C:\\anaconda\\lib\\site-packages\\keras\\callbacks\\callbacks.py:846: RuntimeWarning: Early stopping conditioned on metric `acc` which is not available. Available metrics are: loss,accuracy\n",
      "  (self.monitor, ','.join(list(logs.keys()))), RuntimeWarning\n"
     ]
    },
    {
     "data": {
      "application/vnd.jupyter.widget-view+json": {
       "model_id": "",
       "version_major": 2,
       "version_minor": 0
      },
      "text/plain": [
       "HBox(children=(IntProgress(value=0, description='Epoch 1', max=2131, style=ProgressStyle(description_width='in…"
      ]
     },
     "metadata": {},
     "output_type": "display_data"
    },
    {
     "data": {
      "application/vnd.jupyter.widget-view+json": {
       "model_id": "",
       "version_major": 2,
       "version_minor": 0
      },
      "text/plain": [
       "HBox(children=(IntProgress(value=0, description='Epoch 2', max=2131, style=ProgressStyle(description_width='in…"
      ]
     },
     "metadata": {},
     "output_type": "display_data"
    },
    {
     "data": {
      "application/vnd.jupyter.widget-view+json": {
       "model_id": "",
       "version_major": 2,
       "version_minor": 0
      },
      "text/plain": [
       "HBox(children=(IntProgress(value=0, description='Epoch 3', max=2131, style=ProgressStyle(description_width='in…"
      ]
     },
     "metadata": {},
     "output_type": "display_data"
    },
    {
     "data": {
      "application/vnd.jupyter.widget-view+json": {
       "model_id": "",
       "version_major": 2,
       "version_minor": 0
      },
      "text/plain": [
       "HBox(children=(IntProgress(value=0, description='Epoch 4', max=2131, style=ProgressStyle(description_width='in…"
      ]
     },
     "metadata": {},
     "output_type": "display_data"
    },
    {
     "data": {
      "application/vnd.jupyter.widget-view+json": {
       "model_id": "",
       "version_major": 2,
       "version_minor": 0
      },
      "text/plain": [
       "HBox(children=(IntProgress(value=0, description='Epoch 5', max=2131, style=ProgressStyle(description_width='in…"
      ]
     },
     "metadata": {},
     "output_type": "display_data"
    },
    {
     "data": {
      "application/vnd.jupyter.widget-view+json": {
       "model_id": "",
       "version_major": 2,
       "version_minor": 0
      },
      "text/plain": [
       "HBox(children=(IntProgress(value=0, description='Epoch 6', max=2131, style=ProgressStyle(description_width='in…"
      ]
     },
     "metadata": {},
     "output_type": "display_data"
    },
    {
     "data": {
      "application/vnd.jupyter.widget-view+json": {
       "model_id": "",
       "version_major": 2,
       "version_minor": 0
      },
      "text/plain": [
       "HBox(children=(IntProgress(value=0, description='Epoch 7', max=2131, style=ProgressStyle(description_width='in…"
      ]
     },
     "metadata": {},
     "output_type": "display_data"
    },
    {
     "data": {
      "application/vnd.jupyter.widget-view+json": {
       "model_id": "",
       "version_major": 2,
       "version_minor": 0
      },
      "text/plain": [
       "HBox(children=(IntProgress(value=0, description='Epoch 8', max=2131, style=ProgressStyle(description_width='in…"
      ]
     },
     "metadata": {},
     "output_type": "display_data"
    },
    {
     "data": {
      "application/vnd.jupyter.widget-view+json": {
       "model_id": "",
       "version_major": 2,
       "version_minor": 0
      },
      "text/plain": [
       "HBox(children=(IntProgress(value=0, description='Epoch 9', max=2131, style=ProgressStyle(description_width='in…"
      ]
     },
     "metadata": {},
     "output_type": "display_data"
    },
    {
     "data": {
      "application/vnd.jupyter.widget-view+json": {
       "model_id": "",
       "version_major": 2,
       "version_minor": 0
      },
      "text/plain": [
       "HBox(children=(IntProgress(value=0, description='Epoch 10', max=2131, style=ProgressStyle(description_width='i…"
      ]
     },
     "metadata": {},
     "output_type": "display_data"
    },
    {
     "data": {
      "application/vnd.jupyter.widget-view+json": {
       "model_id": "",
       "version_major": 2,
       "version_minor": 0
      },
      "text/plain": [
       "HBox(children=(IntProgress(value=0, description='Epoch 11', max=2131, style=ProgressStyle(description_width='i…"
      ]
     },
     "metadata": {},
     "output_type": "display_data"
    },
    {
     "data": {
      "application/vnd.jupyter.widget-view+json": {
       "model_id": "",
       "version_major": 2,
       "version_minor": 0
      },
      "text/plain": [
       "HBox(children=(IntProgress(value=0, description='Epoch 12', max=2131, style=ProgressStyle(description_width='i…"
      ]
     },
     "metadata": {},
     "output_type": "display_data"
    },
    {
     "data": {
      "application/vnd.jupyter.widget-view+json": {
       "model_id": "",
       "version_major": 2,
       "version_minor": 0
      },
      "text/plain": [
       "HBox(children=(IntProgress(value=0, description='Epoch 13', max=2131, style=ProgressStyle(description_width='i…"
      ]
     },
     "metadata": {},
     "output_type": "display_data"
    },
    {
     "data": {
      "application/vnd.jupyter.widget-view+json": {
       "model_id": "",
       "version_major": 2,
       "version_minor": 0
      },
      "text/plain": [
       "HBox(children=(IntProgress(value=0, description='Epoch 14', max=2131, style=ProgressStyle(description_width='i…"
      ]
     },
     "metadata": {},
     "output_type": "display_data"
    },
    {
     "data": {
      "application/vnd.jupyter.widget-view+json": {
       "model_id": "",
       "version_major": 2,
       "version_minor": 0
      },
      "text/plain": [
       "HBox(children=(IntProgress(value=0, description='Epoch 15', max=2131, style=ProgressStyle(description_width='i…"
      ]
     },
     "metadata": {},
     "output_type": "display_data"
    },
    {
     "data": {
      "application/vnd.jupyter.widget-view+json": {
       "model_id": "",
       "version_major": 2,
       "version_minor": 0
      },
      "text/plain": [
       "HBox(children=(IntProgress(value=0, description='Epoch 16', max=2131, style=ProgressStyle(description_width='i…"
      ]
     },
     "metadata": {},
     "output_type": "display_data"
    },
    {
     "data": {
      "application/vnd.jupyter.widget-view+json": {
       "model_id": "",
       "version_major": 2,
       "version_minor": 0
      },
      "text/plain": [
       "HBox(children=(IntProgress(value=0, description='Epoch 17', max=2131, style=ProgressStyle(description_width='i…"
      ]
     },
     "metadata": {},
     "output_type": "display_data"
    },
    {
     "data": {
      "application/vnd.jupyter.widget-view+json": {
       "model_id": "",
       "version_major": 2,
       "version_minor": 0
      },
      "text/plain": [
       "HBox(children=(IntProgress(value=0, description='Epoch 18', max=2131, style=ProgressStyle(description_width='i…"
      ]
     },
     "metadata": {},
     "output_type": "display_data"
    },
    {
     "data": {
      "application/vnd.jupyter.widget-view+json": {
       "model_id": "",
       "version_major": 2,
       "version_minor": 0
      },
      "text/plain": [
       "HBox(children=(IntProgress(value=0, description='Epoch 19', max=2131, style=ProgressStyle(description_width='i…"
      ]
     },
     "metadata": {},
     "output_type": "display_data"
    },
    {
     "name": "stdout",
     "output_type": "stream",
     "text": [
      "\n"
     ]
    },
    {
     "data": {
      "text/plain": [
       "Text(0, 0.5, 'Top 10 Score')"
      ]
     },
     "execution_count": 8,
     "metadata": {},
     "output_type": "execute_result"
    },
    {
     "data": {
      "image/png": "[encoded data removed]",
      "text/plain": [
       "<Figure size 432x288 with 1 Axes>"
      ]
     },
     "metadata": {
      "needs_background": "light"
     },
     "output_type": "display_data"
    }
   ],
   "source": [
    "layer1 = [256,512,1024,2048]\n",
    "scores = np.zeros(len(layer1))\n",
    "num=20\n",
    "\n",
    "for n in range(len(layer1)):\n",
    "    model = getModel(layer1[n])\n",
    "    preds = model.predict_proba(X_test)\n",
    "    scores[n] = getScore(preds,y_test,num)\n",
    "import matplotlib.pyplot as plt\n",
    "%matplotlib inline\n",
    "plt.scatter(layer1,scores)\n",
    "plt.xlabel('Layer 1 Size')\n",
    "plt.ylabel('Top 10 Score')"
   ]
  },
  {
   "cell_type": "markdown",
   "metadata": {},
   "source": [
    "It looks like `512` layers is decent, so we'll try that with more rounds."
   ]
  },
  {
   "cell_type": "code",
   "execution_count": 9,
   "metadata": {
    "scrolled": true
   },
   "outputs": [
    {
     "data": {
      "application/vnd.jupyter.widget-view+json": {
       "model_id": "374bf961ad144f48b751b780015640d3",
       "version_major": 2,
       "version_minor": 0
      },
      "text/plain": [
       "HBox(children=(IntProgress(value=0, description='Training', max=300, style=ProgressStyle(description_width='in…"
      ]
     },
     "metadata": {},
     "output_type": "display_data"
    },
    {
     "data": {
      "application/vnd.jupyter.widget-view+json": {
       "model_id": "",
       "version_major": 2,
       "version_minor": 0
      },
      "text/plain": [
       "HBox(children=(IntProgress(value=0, description='Epoch 0', max=2131, style=ProgressStyle(description_width='in…"
      ]
     },
     "metadata": {},
     "output_type": "display_data"
    },
    {
     "name": "stderr",
     "output_type": "stream",
     "text": [
      "C:\\anaconda\\lib\\site-packages\\keras\\callbacks\\callbacks.py:846: RuntimeWarning: Early stopping conditioned on metric `acc` which is not available. Available metrics are: loss,accuracy\n",
      "  (self.monitor, ','.join(list(logs.keys()))), RuntimeWarning\n"
     ]
    },
    {
     "data": {
      "application/vnd.jupyter.widget-view+json": {
       "model_id": "",
       "version_major": 2,
       "version_minor": 0
      },
      "text/plain": [
       "HBox(children=(IntProgress(value=0, description='Epoch 1', max=2131, style=ProgressStyle(description_width='in…"
      ]
     },
     "metadata": {},
     "output_type": "display_data"
    },
    {
     "data": {
      "application/vnd.jupyter.widget-view+json": {
       "model_id": "",
       "version_major": 2,
       "version_minor": 0
      },
      "text/plain": [
       "HBox(children=(IntProgress(value=0, description='Epoch 2', max=2131, style=ProgressStyle(description_width='in…"
      ]
     },
     "metadata": {},
     "output_type": "display_data"
    },
    {
     "data": {
      "application/vnd.jupyter.widget-view+json": {
       "model_id": "",
       "version_major": 2,
       "version_minor": 0
      },
      "text/plain": [
       "HBox(children=(IntProgress(value=0, description='Epoch 3', max=2131, style=ProgressStyle(description_width='in…"
      ]
     },
     "metadata": {},
     "output_type": "display_data"
    },
    {
     "data": {
      "application/vnd.jupyter.widget-view+json": {
       "model_id": "",
       "version_major": 2,
       "version_minor": 0
      },
      "text/plain": [
       "HBox(children=(IntProgress(value=0, description='Epoch 4', max=2131, style=ProgressStyle(description_width='in…"
      ]
     },
     "metadata": {},
     "output_type": "display_data"
    },
    {
     "data": {
      "application/vnd.jupyter.widget-view+json": {
       "model_id": "",
       "version_major": 2,
       "version_minor": 0
      },
      "text/plain": [
       "HBox(children=(IntProgress(value=0, description='Epoch 5', max=2131, style=ProgressStyle(description_width='in…"
      ]
     },
     "metadata": {},
     "output_type": "display_data"
    },
    {
     "data": {
      "application/vnd.jupyter.widget-view+json": {
       "model_id": "",
       "version_major": 2,
       "version_minor": 0
      },
      "text/plain": [
       "HBox(children=(IntProgress(value=0, description='Epoch 6', max=2131, style=ProgressStyle(description_width='in…"
      ]
     },
     "metadata": {},
     "output_type": "display_data"
    },
    {
     "data": {
      "application/vnd.jupyter.widget-view+json": {
       "model_id": "",
       "version_major": 2,
       "version_minor": 0
      },
      "text/plain": [
       "HBox(children=(IntProgress(value=0, description='Epoch 7', max=2131, style=ProgressStyle(description_width='in…"
      ]
     },
     "metadata": {},
     "output_type": "display_data"
    },
    {
     "data": {
      "application/vnd.jupyter.widget-view+json": {
       "model_id": "",
       "version_major": 2,
       "version_minor": 0
      },
      "text/plain": [
       "HBox(children=(IntProgress(value=0, description='Epoch 8', max=2131, style=ProgressStyle(description_width='in…"
      ]
     },
     "metadata": {},
     "output_type": "display_data"
    },
    {
     "data": {
      "application/vnd.jupyter.widget-view+json": {
       "model_id": "",
       "version_major": 2,
       "version_minor": 0
      },
      "text/plain": [
       "HBox(children=(IntProgress(value=0, description='Epoch 9', max=2131, style=ProgressStyle(description_width='in…"
      ]
     },
     "metadata": {},
     "output_type": "display_data"
    },
    {
     "data": {
      "application/vnd.jupyter.widget-view+json": {
       "model_id": "",
       "version_major": 2,
       "version_minor": 0
      },
      "text/plain": [
       "HBox(children=(IntProgress(value=0, description='Epoch 10', max=2131, style=ProgressStyle(description_width='i…"
      ]
     },
     "metadata": {},
     "output_type": "display_data"
    },
    {
     "data": {
      "application/vnd.jupyter.widget-view+json": {
       "model_id": "",
       "version_major": 2,
       "version_minor": 0
      },
      "text/plain": [
       "HBox(children=(IntProgress(value=0, description='Epoch 11', max=2131, style=ProgressStyle(description_width='i…"
      ]
     },
     "metadata": {},
     "output_type": "display_data"
    },
    {
     "data": {
      "application/vnd.jupyter.widget-view+json": {
       "model_id": "",
       "version_major": 2,
       "version_minor": 0
      },
      "text/plain": [
       "HBox(children=(IntProgress(value=0, description='Epoch 12', max=2131, style=ProgressStyle(description_width='i…"
      ]
     },
     "metadata": {},
     "output_type": "display_data"
    },
    {
     "data": {
      "application/vnd.jupyter.widget-view+json": {
       "model_id": "",
       "version_major": 2,
       "version_minor": 0
      },
      "text/plain": [
       "HBox(children=(IntProgress(value=0, description='Epoch 13', max=2131, style=ProgressStyle(description_width='i…"
      ]
     },
     "metadata": {},
     "output_type": "display_data"
    },
    {
     "data": {
      "application/vnd.jupyter.widget-view+json": {
       "model_id": "",
       "version_major": 2,
       "version_minor": 0
      },
      "text/plain": [
       "HBox(children=(IntProgress(value=0, description='Epoch 14', max=2131, style=ProgressStyle(description_width='i…"
      ]
     },
     "metadata": {},
     "output_type": "display_data"
    },
    {
     "data": {
      "application/vnd.jupyter.widget-view+json": {
       "model_id": "",
       "version_major": 2,
       "version_minor": 0
      },
      "text/plain": [
       "HBox(children=(IntProgress(value=0, description='Epoch 15', max=2131, style=ProgressStyle(description_width='i…"
      ]
     },
     "metadata": {},
     "output_type": "display_data"
    },
    {
     "data": {
      "application/vnd.jupyter.widget-view+json": {
       "model_id": "",
       "version_major": 2,
       "version_minor": 0
      },
      "text/plain": [
       "HBox(children=(IntProgress(value=0, description='Epoch 16', max=2131, style=ProgressStyle(description_width='i…"
      ]
     },
     "metadata": {},
     "output_type": "display_data"
    },
    {
     "data": {
      "application/vnd.jupyter.widget-view+json": {
       "model_id": "",
       "version_major": 2,
       "version_minor": 0
      },
      "text/plain": [
       "HBox(children=(IntProgress(value=0, description='Epoch 17', max=2131, style=ProgressStyle(description_width='i…"
      ]
     },
     "metadata": {},
     "output_type": "display_data"
    },
    {
     "data": {
      "application/vnd.jupyter.widget-view+json": {
       "model_id": "",
       "version_major": 2,
       "version_minor": 0
      },
      "text/plain": [
       "HBox(children=(IntProgress(value=0, description='Epoch 18', max=2131, style=ProgressStyle(description_width='i…"
      ]
     },
     "metadata": {},
     "output_type": "display_data"
    },
    {
     "data": {
      "application/vnd.jupyter.widget-view+json": {
       "model_id": "",
       "version_major": 2,
       "version_minor": 0
      },
      "text/plain": [
       "HBox(children=(IntProgress(value=0, description='Epoch 19', max=2131, style=ProgressStyle(description_width='i…"
      ]
     },
     "metadata": {},
     "output_type": "display_data"
    },
    {
     "data": {
      "application/vnd.jupyter.widget-view+json": {
       "model_id": "",
       "version_major": 2,
       "version_minor": 0
      },
      "text/plain": [
       "HBox(children=(IntProgress(value=0, description='Epoch 20', max=2131, style=ProgressStyle(description_width='i…"
      ]
     },
     "metadata": {},
     "output_type": "display_data"
    },
    {
     "data": {
      "application/vnd.jupyter.widget-view+json": {
       "model_id": "",
       "version_major": 2,
       "version_minor": 0
      },
      "text/plain": [
       "HBox(children=(IntProgress(value=0, description='Epoch 21', max=2131, style=ProgressStyle(description_width='i…"
      ]
     },
     "metadata": {},
     "output_type": "display_data"
    },
    {
     "data": {
      "application/vnd.jupyter.widget-view+json": {
       "model_id": "",
       "version_major": 2,
       "version_minor": 0
      },
      "text/plain": [
       "HBox(children=(IntProgress(value=0, description='Epoch 22', max=2131, style=ProgressStyle(description_width='i…"
      ]
     },
     "metadata": {},
     "output_type": "display_data"
    },
    {
     "data": {
      "application/vnd.jupyter.widget-view+json": {
       "model_id": "",
       "version_major": 2,
       "version_minor": 0
      },
      "text/plain": [
       "HBox(children=(IntProgress(value=0, description='Epoch 23', max=2131, style=ProgressStyle(description_width='i…"
      ]
     },
     "metadata": {},
     "output_type": "display_data"
    },
    {
     "data": {
      "application/vnd.jupyter.widget-view+json": {
       "model_id": "",
       "version_major": 2,
       "version_minor": 0
      },
      "text/plain": [
       "HBox(children=(IntProgress(value=0, description='Epoch 24', max=2131, style=ProgressStyle(description_width='i…"
      ]
     },
     "metadata": {},
     "output_type": "display_data"
    },
    {
     "data": {
      "application/vnd.jupyter.widget-view+json": {
       "model_id": "",
       "version_major": 2,
       "version_minor": 0
      },
      "text/plain": [
       "HBox(children=(IntProgress(value=0, description='Epoch 25', max=2131, style=ProgressStyle(description_width='i…"
      ]
     },
     "metadata": {},
     "output_type": "display_data"
    },
    {
     "data": {
      "application/vnd.jupyter.widget-view+json": {
       "model_id": "",
       "version_major": 2,
       "version_minor": 0
      },
      "text/plain": [
       "HBox(children=(IntProgress(value=0, description='Epoch 26', max=2131, style=ProgressStyle(description_width='i…"
      ]
     },
     "metadata": {},
     "output_type": "display_data"
    },
    {
     "data": {
      "application/vnd.jupyter.widget-view+json": {
       "model_id": "",
       "version_major": 2,
       "version_minor": 0
      },
      "text/plain": [
       "HBox(children=(IntProgress(value=0, description='Epoch 27', max=2131, style=ProgressStyle(description_width='i…"
      ]
     },
     "metadata": {},
     "output_type": "display_data"
    },
    {
     "data": {
      "application/vnd.jupyter.widget-view+json": {
       "model_id": "",
       "version_major": 2,
       "version_minor": 0
      },
      "text/plain": [
       "HBox(children=(IntProgress(value=0, description='Epoch 28', max=2131, style=ProgressStyle(description_width='i…"
      ]
     },
     "metadata": {},
     "output_type": "display_data"
    },
    {
     "data": {
      "application/vnd.jupyter.widget-view+json": {
       "model_id": "",
       "version_major": 2,
       "version_minor": 0
      },
      "text/plain": [
       "HBox(children=(IntProgress(value=0, description='Epoch 29', max=2131, style=ProgressStyle(description_width='i…"
      ]
     },
     "metadata": {},
     "output_type": "display_data"
    },
    {
     "data": {
      "application/vnd.jupyter.widget-view+json": {
       "model_id": "",
       "version_major": 2,
       "version_minor": 0
      },
      "text/plain": [
       "HBox(children=(IntProgress(value=0, description='Epoch 30', max=2131, style=ProgressStyle(description_width='i…"
      ]
     },
     "metadata": {},
     "output_type": "display_data"
    },
    {
     "data": {
      "application/vnd.jupyter.widget-view+json": {
       "model_id": "",
       "version_major": 2,
       "version_minor": 0
      },
      "text/plain": [
       "HBox(children=(IntProgress(value=0, description='Epoch 31', max=2131, style=ProgressStyle(description_width='i…"
      ]
     },
     "metadata": {},
     "output_type": "display_data"
    },
    {
     "data": {
      "application/vnd.jupyter.widget-view+json": {
       "model_id": "",
       "version_major": 2,
       "version_minor": 0
      },
      "text/plain": [
       "HBox(children=(IntProgress(value=0, description='Epoch 32', max=2131, style=ProgressStyle(description_width='i…"
      ]
     },
     "metadata": {},
     "output_type": "display_data"
    },
    {
     "data": {
      "application/vnd.jupyter.widget-view+json": {
       "model_id": "",
       "version_major": 2,
       "version_minor": 0
      },
      "text/plain": [
       "HBox(children=(IntProgress(value=0, description='Epoch 33', max=2131, style=ProgressStyle(description_width='i…"
      ]
     },
     "metadata": {},
     "output_type": "display_data"
    },
    {
     "data": {
      "application/vnd.jupyter.widget-view+json": {
       "model_id": "",
       "version_major": 2,
       "version_minor": 0
      },
      "text/plain": [
       "HBox(children=(IntProgress(value=0, description='Epoch 34', max=2131, style=ProgressStyle(description_width='i…"
      ]
     },
     "metadata": {},
     "output_type": "display_data"
    },
    {
     "data": {
      "application/vnd.jupyter.widget-view+json": {
       "model_id": "",
       "version_major": 2,
       "version_minor": 0
      },
      "text/plain": [
       "HBox(children=(IntProgress(value=0, description='Epoch 35', max=2131, style=ProgressStyle(description_width='i…"
      ]
     },
     "metadata": {},
     "output_type": "display_data"
    },
    {
     "data": {
      "application/vnd.jupyter.widget-view+json": {
       "model_id": "",
       "version_major": 2,
       "version_minor": 0
      },
      "text/plain": [
       "HBox(children=(IntProgress(value=0, description='Epoch 36', max=2131, style=ProgressStyle(description_width='i…"
      ]
     },
     "metadata": {},
     "output_type": "display_data"
    },
    {
     "data": {
      "application/vnd.jupyter.widget-view+json": {
       "model_id": "",
       "version_major": 2,
       "version_minor": 0
      },
      "text/plain": [
       "HBox(children=(IntProgress(value=0, description='Epoch 37', max=2131, style=ProgressStyle(description_width='i…"
      ]
     },
     "metadata": {},
     "output_type": "display_data"
    },
    {
     "data": {
      "application/vnd.jupyter.widget-view+json": {
       "model_id": "",
       "version_major": 2,
       "version_minor": 0
      },
      "text/plain": [
       "HBox(children=(IntProgress(value=0, description='Epoch 38', max=2131, style=ProgressStyle(description_width='i…"
      ]
     },
     "metadata": {},
     "output_type": "display_data"
    },
    {
     "data": {
      "application/vnd.jupyter.widget-view+json": {
       "model_id": "",
       "version_major": 2,
       "version_minor": 0
      },
      "text/plain": [
       "HBox(children=(IntProgress(value=0, description='Epoch 39', max=2131, style=ProgressStyle(description_width='i…"
      ]
     },
     "metadata": {},
     "output_type": "display_data"
    },
    {
     "data": {
      "application/vnd.jupyter.widget-view+json": {
       "model_id": "",
       "version_major": 2,
       "version_minor": 0
      },
      "text/plain": [
       "HBox(children=(IntProgress(value=0, description='Epoch 40', max=2131, style=ProgressStyle(description_width='i…"
      ]
     },
     "metadata": {},
     "output_type": "display_data"
    },
    {
     "data": {
      "application/vnd.jupyter.widget-view+json": {
       "model_id": "",
       "version_major": 2,
       "version_minor": 0
      },
      "text/plain": [
       "HBox(children=(IntProgress(value=0, description='Epoch 41', max=2131, style=ProgressStyle(description_width='i…"
      ]
     },
     "metadata": {},
     "output_type": "display_data"
    },
    {
     "data": {
      "application/vnd.jupyter.widget-view+json": {
       "model_id": "",
       "version_major": 2,
       "version_minor": 0
      },
      "text/plain": [
       "HBox(children=(IntProgress(value=0, description='Epoch 42', max=2131, style=ProgressStyle(description_width='i…"
      ]
     },
     "metadata": {},
     "output_type": "display_data"
    },
    {
     "data": {
      "application/vnd.jupyter.widget-view+json": {
       "model_id": "",
       "version_major": 2,
       "version_minor": 0
      },
      "text/plain": [
       "HBox(children=(IntProgress(value=0, description='Epoch 43', max=2131, style=ProgressStyle(description_width='i…"
      ]
     },
     "metadata": {},
     "output_type": "display_data"
    },
    {
     "data": {
      "application/vnd.jupyter.widget-view+json": {
       "model_id": "",
       "version_major": 2,
       "version_minor": 0
      },
      "text/plain": [
       "HBox(children=(IntProgress(value=0, description='Epoch 44', max=2131, style=ProgressStyle(description_width='i…"
      ]
     },
     "metadata": {},
     "output_type": "display_data"
    },
    {
     "data": {
      "application/vnd.jupyter.widget-view+json": {
       "model_id": "",
       "version_major": 2,
       "version_minor": 0
      },
      "text/plain": [
       "HBox(children=(IntProgress(value=0, description='Epoch 45', max=2131, style=ProgressStyle(description_width='i…"
      ]
     },
     "metadata": {},
     "output_type": "display_data"
    },
    {
     "data": {
      "application/vnd.jupyter.widget-view+json": {
       "model_id": "",
       "version_major": 2,
       "version_minor": 0
      },
      "text/plain": [
       "HBox(children=(IntProgress(value=0, description='Epoch 46', max=2131, style=ProgressStyle(description_width='i…"
      ]
     },
     "metadata": {},
     "output_type": "display_data"
    },
    {
     "data": {
      "application/vnd.jupyter.widget-view+json": {
       "model_id": "",
       "version_major": 2,
       "version_minor": 0
      },
      "text/plain": [
       "HBox(children=(IntProgress(value=0, description='Epoch 47', max=2131, style=ProgressStyle(description_width='i…"
      ]
     },
     "metadata": {},
     "output_type": "display_data"
    },
    {
     "data": {
      "application/vnd.jupyter.widget-view+json": {
       "model_id": "",
       "version_major": 2,
       "version_minor": 0
      },
      "text/plain": [
       "HBox(children=(IntProgress(value=0, description='Epoch 48', max=2131, style=ProgressStyle(description_width='i…"
      ]
     },
     "metadata": {},
     "output_type": "display_data"
    },
    {
     "data": {
      "application/vnd.jupyter.widget-view+json": {
       "model_id": "",
       "version_major": 2,
       "version_minor": 0
      },
      "text/plain": [
       "HBox(children=(IntProgress(value=0, description='Epoch 49', max=2131, style=ProgressStyle(description_width='i…"
      ]
     },
     "metadata": {},
     "output_type": "display_data"
    },
    {
     "data": {
      "application/vnd.jupyter.widget-view+json": {
       "model_id": "",
       "version_major": 2,
       "version_minor": 0
      },
      "text/plain": [
       "HBox(children=(IntProgress(value=0, description='Epoch 50', max=2131, style=ProgressStyle(description_width='i…"
      ]
     },
     "metadata": {},
     "output_type": "display_data"
    },
    {
     "data": {
      "application/vnd.jupyter.widget-view+json": {
       "model_id": "",
       "version_major": 2,
       "version_minor": 0
      },
      "text/plain": [
       "HBox(children=(IntProgress(value=0, description='Epoch 51', max=2131, style=ProgressStyle(description_width='i…"
      ]
     },
     "metadata": {},
     "output_type": "display_data"
    },
    {
     "data": {
      "application/vnd.jupyter.widget-view+json": {
       "model_id": "",
       "version_major": 2,
       "version_minor": 0
      },
      "text/plain": [
       "HBox(children=(IntProgress(value=0, description='Epoch 52', max=2131, style=ProgressStyle(description_width='i…"
      ]
     },
     "metadata": {},
     "output_type": "display_data"
    },
    {
     "data": {
      "application/vnd.jupyter.widget-view+json": {
       "model_id": "",
       "version_major": 2,
       "version_minor": 0
      },
      "text/plain": [
       "HBox(children=(IntProgress(value=0, description='Epoch 53', max=2131, style=ProgressStyle(description_width='i…"
      ]
     },
     "metadata": {},
     "output_type": "display_data"
    },
    {
     "data": {
      "application/vnd.jupyter.widget-view+json": {
       "model_id": "",
       "version_major": 2,
       "version_minor": 0
      },
      "text/plain": [
       "HBox(children=(IntProgress(value=0, description='Epoch 54', max=2131, style=ProgressStyle(description_width='i…"
      ]
     },
     "metadata": {},
     "output_type": "display_data"
    },
    {
     "data": {
      "application/vnd.jupyter.widget-view+json": {
       "model_id": "",
       "version_major": 2,
       "version_minor": 0
      },
      "text/plain": [
       "HBox(children=(IntProgress(value=0, description='Epoch 55', max=2131, style=ProgressStyle(description_width='i…"
      ]
     },
     "metadata": {},
     "output_type": "display_data"
    },
    {
     "data": {
      "application/vnd.jupyter.widget-view+json": {
       "model_id": "",
       "version_major": 2,
       "version_minor": 0
      },
      "text/plain": [
       "HBox(children=(IntProgress(value=0, description='Epoch 56', max=2131, style=ProgressStyle(description_width='i…"
      ]
     },
     "metadata": {},
     "output_type": "display_data"
    },
    {
     "data": {
      "application/vnd.jupyter.widget-view+json": {
       "model_id": "",
       "version_major": 2,
       "version_minor": 0
      },
      "text/plain": [
       "HBox(children=(IntProgress(value=0, description='Epoch 57', max=2131, style=ProgressStyle(description_width='i…"
      ]
     },
     "metadata": {},
     "output_type": "display_data"
    },
    {
     "data": {
      "application/vnd.jupyter.widget-view+json": {
       "model_id": "",
       "version_major": 2,
       "version_minor": 0
      },
      "text/plain": [
       "HBox(children=(IntProgress(value=0, description='Epoch 58', max=2131, style=ProgressStyle(description_width='i…"
      ]
     },
     "metadata": {},
     "output_type": "display_data"
    },
    {
     "data": {
      "application/vnd.jupyter.widget-view+json": {
       "model_id": "",
       "version_major": 2,
       "version_minor": 0
      },
      "text/plain": [
       "HBox(children=(IntProgress(value=0, description='Epoch 59', max=2131, style=ProgressStyle(description_width='i…"
      ]
     },
     "metadata": {},
     "output_type": "display_data"
    },
    {
     "data": {
      "application/vnd.jupyter.widget-view+json": {
       "model_id": "",
       "version_major": 2,
       "version_minor": 0
      },
      "text/plain": [
       "HBox(children=(IntProgress(value=0, description='Epoch 60', max=2131, style=ProgressStyle(description_width='i…"
      ]
     },
     "metadata": {},
     "output_type": "display_data"
    },
    {
     "data": {
      "application/vnd.jupyter.widget-view+json": {
       "model_id": "",
       "version_major": 2,
       "version_minor": 0
      },
      "text/plain": [
       "HBox(children=(IntProgress(value=0, description='Epoch 61', max=2131, style=ProgressStyle(description_width='i…"
      ]
     },
     "metadata": {},
     "output_type": "display_data"
    },
    {
     "data": {
      "application/vnd.jupyter.widget-view+json": {
       "model_id": "",
       "version_major": 2,
       "version_minor": 0
      },
      "text/plain": [
       "HBox(children=(IntProgress(value=0, description='Epoch 62', max=2131, style=ProgressStyle(description_width='i…"
      ]
     },
     "metadata": {},
     "output_type": "display_data"
    },
    {
     "data": {
      "application/vnd.jupyter.widget-view+json": {
       "model_id": "",
       "version_major": 2,
       "version_minor": 0
      },
      "text/plain": [
       "HBox(children=(IntProgress(value=0, description='Epoch 63', max=2131, style=ProgressStyle(description_width='i…"
      ]
     },
     "metadata": {},
     "output_type": "display_data"
    },
    {
     "data": {
      "application/vnd.jupyter.widget-view+json": {
       "model_id": "",
       "version_major": 2,
       "version_minor": 0
      },
      "text/plain": [
       "HBox(children=(IntProgress(value=0, description='Epoch 64', max=2131, style=ProgressStyle(description_width='i…"
      ]
     },
     "metadata": {},
     "output_type": "display_data"
    },
    {
     "data": {
      "application/vnd.jupyter.widget-view+json": {
       "model_id": "",
       "version_major": 2,
       "version_minor": 0
      },
      "text/plain": [
       "HBox(children=(IntProgress(value=0, description='Epoch 65', max=2131, style=ProgressStyle(description_width='i…"
      ]
     },
     "metadata": {},
     "output_type": "display_data"
    },
    {
     "data": {
      "application/vnd.jupyter.widget-view+json": {
       "model_id": "",
       "version_major": 2,
       "version_minor": 0
      },
      "text/plain": [
       "HBox(children=(IntProgress(value=0, description='Epoch 66', max=2131, style=ProgressStyle(description_width='i…"
      ]
     },
     "metadata": {},
     "output_type": "display_data"
    },
    {
     "data": {
      "application/vnd.jupyter.widget-view+json": {
       "model_id": "",
       "version_major": 2,
       "version_minor": 0
      },
      "text/plain": [
       "HBox(children=(IntProgress(value=0, description='Epoch 67', max=2131, style=ProgressStyle(description_width='i…"
      ]
     },
     "metadata": {},
     "output_type": "display_data"
    },
    {
     "data": {
      "application/vnd.jupyter.widget-view+json": {
       "model_id": "",
       "version_major": 2,
       "version_minor": 0
      },
      "text/plain": [
       "HBox(children=(IntProgress(value=0, description='Epoch 68', max=2131, style=ProgressStyle(description_width='i…"
      ]
     },
     "metadata": {},
     "output_type": "display_data"
    },
    {
     "data": {
      "application/vnd.jupyter.widget-view+json": {
       "model_id": "",
       "version_major": 2,
       "version_minor": 0
      },
      "text/plain": [
       "HBox(children=(IntProgress(value=0, description='Epoch 69', max=2131, style=ProgressStyle(description_width='i…"
      ]
     },
     "metadata": {},
     "output_type": "display_data"
    },
    {
     "data": {
      "application/vnd.jupyter.widget-view+json": {
       "model_id": "",
       "version_major": 2,
       "version_minor": 0
      },
      "text/plain": [
       "HBox(children=(IntProgress(value=0, description='Epoch 70', max=2131, style=ProgressStyle(description_width='i…"
      ]
     },
     "metadata": {},
     "output_type": "display_data"
    },
    {
     "data": {
      "application/vnd.jupyter.widget-view+json": {
       "model_id": "",
       "version_major": 2,
       "version_minor": 0
      },
      "text/plain": [
       "HBox(children=(IntProgress(value=0, description='Epoch 71', max=2131, style=ProgressStyle(description_width='i…"
      ]
     },
     "metadata": {},
     "output_type": "display_data"
    },
    {
     "data": {
      "application/vnd.jupyter.widget-view+json": {
       "model_id": "",
       "version_major": 2,
       "version_minor": 0
      },
      "text/plain": [
       "HBox(children=(IntProgress(value=0, description='Epoch 72', max=2131, style=ProgressStyle(description_width='i…"
      ]
     },
     "metadata": {},
     "output_type": "display_data"
    },
    {
     "data": {
      "application/vnd.jupyter.widget-view+json": {
       "model_id": "",
       "version_major": 2,
       "version_minor": 0
      },
      "text/plain": [
       "HBox(children=(IntProgress(value=0, description='Epoch 73', max=2131, style=ProgressStyle(description_width='i…"
      ]
     },
     "metadata": {},
     "output_type": "display_data"
    },
    {
     "data": {
      "application/vnd.jupyter.widget-view+json": {
       "model_id": "",
       "version_major": 2,
       "version_minor": 0
      },
      "text/plain": [
       "HBox(children=(IntProgress(value=0, description='Epoch 74', max=2131, style=ProgressStyle(description_width='i…"
      ]
     },
     "metadata": {},
     "output_type": "display_data"
    },
    {
     "data": {
      "application/vnd.jupyter.widget-view+json": {
       "model_id": "",
       "version_major": 2,
       "version_minor": 0
      },
      "text/plain": [
       "HBox(children=(IntProgress(value=0, description='Epoch 75', max=2131, style=ProgressStyle(description_width='i…"
      ]
     },
     "metadata": {},
     "output_type": "display_data"
    },
    {
     "data": {
      "application/vnd.jupyter.widget-view+json": {
       "model_id": "",
       "version_major": 2,
       "version_minor": 0
      },
      "text/plain": [
       "HBox(children=(IntProgress(value=0, description='Epoch 76', max=2131, style=ProgressStyle(description_width='i…"
      ]
     },
     "metadata": {},
     "output_type": "display_data"
    },
    {
     "data": {
      "application/vnd.jupyter.widget-view+json": {
       "model_id": "",
       "version_major": 2,
       "version_minor": 0
      },
      "text/plain": [
       "HBox(children=(IntProgress(value=0, description='Epoch 77', max=2131, style=ProgressStyle(description_width='i…"
      ]
     },
     "metadata": {},
     "output_type": "display_data"
    },
    {
     "data": {
      "application/vnd.jupyter.widget-view+json": {
       "model_id": "",
       "version_major": 2,
       "version_minor": 0
      },
      "text/plain": [
       "HBox(children=(IntProgress(value=0, description='Epoch 78', max=2131, style=ProgressStyle(description_width='i…"
      ]
     },
     "metadata": {},
     "output_type": "display_data"
    },
    {
     "data": {
      "application/vnd.jupyter.widget-view+json": {
       "model_id": "",
       "version_major": 2,
       "version_minor": 0
      },
      "text/plain": [
       "HBox(children=(IntProgress(value=0, description='Epoch 79', max=2131, style=ProgressStyle(description_width='i…"
      ]
     },
     "metadata": {},
     "output_type": "display_data"
    },
    {
     "data": {
      "application/vnd.jupyter.widget-view+json": {
       "model_id": "",
       "version_major": 2,
       "version_minor": 0
      },
      "text/plain": [
       "HBox(children=(IntProgress(value=0, description='Epoch 80', max=2131, style=ProgressStyle(description_width='i…"
      ]
     },
     "metadata": {},
     "output_type": "display_data"
    },
    {
     "data": {
      "application/vnd.jupyter.widget-view+json": {
       "model_id": "",
       "version_major": 2,
       "version_minor": 0
      },
      "text/plain": [
       "HBox(children=(IntProgress(value=0, description='Epoch 81', max=2131, style=ProgressStyle(description_width='i…"
      ]
     },
     "metadata": {},
     "output_type": "display_data"
    },
    {
     "data": {
      "application/vnd.jupyter.widget-view+json": {
       "model_id": "",
       "version_major": 2,
       "version_minor": 0
      },
      "text/plain": [
       "HBox(children=(IntProgress(value=0, description='Epoch 82', max=2131, style=ProgressStyle(description_width='i…"
      ]
     },
     "metadata": {},
     "output_type": "display_data"
    },
    {
     "data": {
      "application/vnd.jupyter.widget-view+json": {
       "model_id": "",
       "version_major": 2,
       "version_minor": 0
      },
      "text/plain": [
       "HBox(children=(IntProgress(value=0, description='Epoch 83', max=2131, style=ProgressStyle(description_width='i…"
      ]
     },
     "metadata": {},
     "output_type": "display_data"
    },
    {
     "data": {
      "application/vnd.jupyter.widget-view+json": {
       "model_id": "",
       "version_major": 2,
       "version_minor": 0
      },
      "text/plain": [
       "HBox(children=(IntProgress(value=0, description='Epoch 84', max=2131, style=ProgressStyle(description_width='i…"
      ]
     },
     "metadata": {},
     "output_type": "display_data"
    },
    {
     "data": {
      "application/vnd.jupyter.widget-view+json": {
       "model_id": "",
       "version_major": 2,
       "version_minor": 0
      },
      "text/plain": [
       "HBox(children=(IntProgress(value=0, description='Epoch 85', max=2131, style=ProgressStyle(description_width='i…"
      ]
     },
     "metadata": {},
     "output_type": "display_data"
    },
    {
     "data": {
      "application/vnd.jupyter.widget-view+json": {
       "model_id": "",
       "version_major": 2,
       "version_minor": 0
      },
      "text/plain": [
       "HBox(children=(IntProgress(value=0, description='Epoch 86', max=2131, style=ProgressStyle(description_width='i…"
      ]
     },
     "metadata": {},
     "output_type": "display_data"
    },
    {
     "data": {
      "application/vnd.jupyter.widget-view+json": {
       "model_id": "",
       "version_major": 2,
       "version_minor": 0
      },
      "text/plain": [
       "HBox(children=(IntProgress(value=0, description='Epoch 87', max=2131, style=ProgressStyle(description_width='i…"
      ]
     },
     "metadata": {},
     "output_type": "display_data"
    },
    {
     "data": {
      "application/vnd.jupyter.widget-view+json": {
       "model_id": "",
       "version_major": 2,
       "version_minor": 0
      },
      "text/plain": [
       "HBox(children=(IntProgress(value=0, description='Epoch 88', max=2131, style=ProgressStyle(description_width='i…"
      ]
     },
     "metadata": {},
     "output_type": "display_data"
    },
    {
     "data": {
      "application/vnd.jupyter.widget-view+json": {
       "model_id": "",
       "version_major": 2,
       "version_minor": 0
      },
      "text/plain": [
       "HBox(children=(IntProgress(value=0, description='Epoch 89', max=2131, style=ProgressStyle(description_width='i…"
      ]
     },
     "metadata": {},
     "output_type": "display_data"
    },
    {
     "data": {
      "application/vnd.jupyter.widget-view+json": {
       "model_id": "",
       "version_major": 2,
       "version_minor": 0
      },
      "text/plain": [
       "HBox(children=(IntProgress(value=0, description='Epoch 90', max=2131, style=ProgressStyle(description_width='i…"
      ]
     },
     "metadata": {},
     "output_type": "display_data"
    },
    {
     "data": {
      "application/vnd.jupyter.widget-view+json": {
       "model_id": "",
       "version_major": 2,
       "version_minor": 0
      },
      "text/plain": [
       "HBox(children=(IntProgress(value=0, description='Epoch 91', max=2131, style=ProgressStyle(description_width='i…"
      ]
     },
     "metadata": {},
     "output_type": "display_data"
    },
    {
     "data": {
      "application/vnd.jupyter.widget-view+json": {
       "model_id": "",
       "version_major": 2,
       "version_minor": 0
      },
      "text/plain": [
       "HBox(children=(IntProgress(value=0, description='Epoch 92', max=2131, style=ProgressStyle(description_width='i…"
      ]
     },
     "metadata": {},
     "output_type": "display_data"
    },
    {
     "data": {
      "application/vnd.jupyter.widget-view+json": {
       "model_id": "",
       "version_major": 2,
       "version_minor": 0
      },
      "text/plain": [
       "HBox(children=(IntProgress(value=0, description='Epoch 93', max=2131, style=ProgressStyle(description_width='i…"
      ]
     },
     "metadata": {},
     "output_type": "display_data"
    },
    {
     "data": {
      "application/vnd.jupyter.widget-view+json": {
       "model_id": "",
       "version_major": 2,
       "version_minor": 0
      },
      "text/plain": [
       "HBox(children=(IntProgress(value=0, description='Epoch 94', max=2131, style=ProgressStyle(description_width='i…"
      ]
     },
     "metadata": {},
     "output_type": "display_data"
    },
    {
     "data": {
      "application/vnd.jupyter.widget-view+json": {
       "model_id": "",
       "version_major": 2,
       "version_minor": 0
      },
      "text/plain": [
       "HBox(children=(IntProgress(value=0, description='Epoch 95', max=2131, style=ProgressStyle(description_width='i…"
      ]
     },
     "metadata": {},
     "output_type": "display_data"
    },
    {
     "data": {
      "application/vnd.jupyter.widget-view+json": {
       "model_id": "",
       "version_major": 2,
       "version_minor": 0
      },
      "text/plain": [
       "HBox(children=(IntProgress(value=0, description='Epoch 96', max=2131, style=ProgressStyle(description_width='i…"
      ]
     },
     "metadata": {},
     "output_type": "display_data"
    },
    {
     "data": {
      "application/vnd.jupyter.widget-view+json": {
       "model_id": "",
       "version_major": 2,
       "version_minor": 0
      },
      "text/plain": [
       "HBox(children=(IntProgress(value=0, description='Epoch 97', max=2131, style=ProgressStyle(description_width='i…"
      ]
     },
     "metadata": {},
     "output_type": "display_data"
    },
    {
     "data": {
      "application/vnd.jupyter.widget-view+json": {
       "model_id": "",
       "version_major": 2,
       "version_minor": 0
      },
      "text/plain": [
       "HBox(children=(IntProgress(value=0, description='Epoch 98', max=2131, style=ProgressStyle(description_width='i…"
      ]
     },
     "metadata": {},
     "output_type": "display_data"
    },
    {
     "data": {
      "application/vnd.jupyter.widget-view+json": {
       "model_id": "",
       "version_major": 2,
       "version_minor": 0
      },
      "text/plain": [
       "HBox(children=(IntProgress(value=0, description='Epoch 99', max=2131, style=ProgressStyle(description_width='i…"
      ]
     },
     "metadata": {},
     "output_type": "display_data"
    },
    {
     "data": {
      "application/vnd.jupyter.widget-view+json": {
       "model_id": "",
       "version_major": 2,
       "version_minor": 0
      },
      "text/plain": [
       "HBox(children=(IntProgress(value=0, description='Epoch 100', max=2131, style=ProgressStyle(description_width='…"
      ]
     },
     "metadata": {},
     "output_type": "display_data"
    },
    {
     "data": {
      "application/vnd.jupyter.widget-view+json": {
       "model_id": "",
       "version_major": 2,
       "version_minor": 0
      },
      "text/plain": [
       "HBox(children=(IntProgress(value=0, description='Epoch 101', max=2131, style=ProgressStyle(description_width='…"
      ]
     },
     "metadata": {},
     "output_type": "display_data"
    },
    {
     "data": {
      "application/vnd.jupyter.widget-view+json": {
       "model_id": "",
       "version_major": 2,
       "version_minor": 0
      },
      "text/plain": [
       "HBox(children=(IntProgress(value=0, description='Epoch 102', max=2131, style=ProgressStyle(description_width='…"
      ]
     },
     "metadata": {},
     "output_type": "display_data"
    },
    {
     "data": {
      "application/vnd.jupyter.widget-view+json": {
       "model_id": "",
       "version_major": 2,
       "version_minor": 0
      },
      "text/plain": [
       "HBox(children=(IntProgress(value=0, description='Epoch 103', max=2131, style=ProgressStyle(description_width='…"
      ]
     },
     "metadata": {},
     "output_type": "display_data"
    },
    {
     "data": {
      "application/vnd.jupyter.widget-view+json": {
       "model_id": "",
       "version_major": 2,
       "version_minor": 0
      },
      "text/plain": [
       "HBox(children=(IntProgress(value=0, description='Epoch 104', max=2131, style=ProgressStyle(description_width='…"
      ]
     },
     "metadata": {},
     "output_type": "display_data"
    },
    {
     "data": {
      "application/vnd.jupyter.widget-view+json": {
       "model_id": "",
       "version_major": 2,
       "version_minor": 0
      },
      "text/plain": [
       "HBox(children=(IntProgress(value=0, description='Epoch 105', max=2131, style=ProgressStyle(description_width='…"
      ]
     },
     "metadata": {},
     "output_type": "display_data"
    },
    {
     "data": {
      "application/vnd.jupyter.widget-view+json": {
       "model_id": "",
       "version_major": 2,
       "version_minor": 0
      },
      "text/plain": [
       "HBox(children=(IntProgress(value=0, description='Epoch 106', max=2131, style=ProgressStyle(description_width='…"
      ]
     },
     "metadata": {},
     "output_type": "display_data"
    },
    {
     "data": {
      "application/vnd.jupyter.widget-view+json": {
       "model_id": "",
       "version_major": 2,
       "version_minor": 0
      },
      "text/plain": [
       "HBox(children=(IntProgress(value=0, description='Epoch 107', max=2131, style=ProgressStyle(description_width='…"
      ]
     },
     "metadata": {},
     "output_type": "display_data"
    },
    {
     "data": {
      "application/vnd.jupyter.widget-view+json": {
       "model_id": "",
       "version_major": 2,
       "version_minor": 0
      },
      "text/plain": [
       "HBox(children=(IntProgress(value=0, description='Epoch 108', max=2131, style=ProgressStyle(description_width='…"
      ]
     },
     "metadata": {},
     "output_type": "display_data"
    },
    {
     "data": {
      "application/vnd.jupyter.widget-view+json": {
       "model_id": "",
       "version_major": 2,
       "version_minor": 0
      },
      "text/plain": [
       "HBox(children=(IntProgress(value=0, description='Epoch 109', max=2131, style=ProgressStyle(description_width='…"
      ]
     },
     "metadata": {},
     "output_type": "display_data"
    },
    {
     "data": {
      "application/vnd.jupyter.widget-view+json": {
       "model_id": "",
       "version_major": 2,
       "version_minor": 0
      },
      "text/plain": [
       "HBox(children=(IntProgress(value=0, description='Epoch 110', max=2131, style=ProgressStyle(description_width='…"
      ]
     },
     "metadata": {},
     "output_type": "display_data"
    },
    {
     "data": {
      "application/vnd.jupyter.widget-view+json": {
       "model_id": "",
       "version_major": 2,
       "version_minor": 0
      },
      "text/plain": [
       "HBox(children=(IntProgress(value=0, description='Epoch 111', max=2131, style=ProgressStyle(description_width='…"
      ]
     },
     "metadata": {},
     "output_type": "display_data"
    },
    {
     "data": {
      "application/vnd.jupyter.widget-view+json": {
       "model_id": "",
       "version_major": 2,
       "version_minor": 0
      },
      "text/plain": [
       "HBox(children=(IntProgress(value=0, description='Epoch 112', max=2131, style=ProgressStyle(description_width='…"
      ]
     },
     "metadata": {},
     "output_type": "display_data"
    },
    {
     "data": {
      "application/vnd.jupyter.widget-view+json": {
       "model_id": "",
       "version_major": 2,
       "version_minor": 0
      },
      "text/plain": [
       "HBox(children=(IntProgress(value=0, description='Epoch 113', max=2131, style=ProgressStyle(description_width='…"
      ]
     },
     "metadata": {},
     "output_type": "display_data"
    },
    {
     "data": {
      "application/vnd.jupyter.widget-view+json": {
       "model_id": "",
       "version_major": 2,
       "version_minor": 0
      },
      "text/plain": [
       "HBox(children=(IntProgress(value=0, description='Epoch 114', max=2131, style=ProgressStyle(description_width='…"
      ]
     },
     "metadata": {},
     "output_type": "display_data"
    },
    {
     "data": {
      "application/vnd.jupyter.widget-view+json": {
       "model_id": "",
       "version_major": 2,
       "version_minor": 0
      },
      "text/plain": [
       "HBox(children=(IntProgress(value=0, description='Epoch 115', max=2131, style=ProgressStyle(description_width='…"
      ]
     },
     "metadata": {},
     "output_type": "display_data"
    },
    {
     "data": {
      "application/vnd.jupyter.widget-view+json": {
       "model_id": "",
       "version_major": 2,
       "version_minor": 0
      },
      "text/plain": [
       "HBox(children=(IntProgress(value=0, description='Epoch 116', max=2131, style=ProgressStyle(description_width='…"
      ]
     },
     "metadata": {},
     "output_type": "display_data"
    },
    {
     "data": {
      "application/vnd.jupyter.widget-view+json": {
       "model_id": "",
       "version_major": 2,
       "version_minor": 0
      },
      "text/plain": [
       "HBox(children=(IntProgress(value=0, description='Epoch 117', max=2131, style=ProgressStyle(description_width='…"
      ]
     },
     "metadata": {},
     "output_type": "display_data"
    },
    {
     "data": {
      "application/vnd.jupyter.widget-view+json": {
       "model_id": "",
       "version_major": 2,
       "version_minor": 0
      },
      "text/plain": [
       "HBox(children=(IntProgress(value=0, description='Epoch 118', max=2131, style=ProgressStyle(description_width='…"
      ]
     },
     "metadata": {},
     "output_type": "display_data"
    },
    {
     "data": {
      "application/vnd.jupyter.widget-view+json": {
       "model_id": "",
       "version_major": 2,
       "version_minor": 0
      },
      "text/plain": [
       "HBox(children=(IntProgress(value=0, description='Epoch 119', max=2131, style=ProgressStyle(description_width='…"
      ]
     },
     "metadata": {},
     "output_type": "display_data"
    },
    {
     "data": {
      "application/vnd.jupyter.widget-view+json": {
       "model_id": "",
       "version_major": 2,
       "version_minor": 0
      },
      "text/plain": [
       "HBox(children=(IntProgress(value=0, description='Epoch 120', max=2131, style=ProgressStyle(description_width='…"
      ]
     },
     "metadata": {},
     "output_type": "display_data"
    },
    {
     "data": {
      "application/vnd.jupyter.widget-view+json": {
       "model_id": "",
       "version_major": 2,
       "version_minor": 0
      },
      "text/plain": [
       "HBox(children=(IntProgress(value=0, description='Epoch 121', max=2131, style=ProgressStyle(description_width='…"
      ]
     },
     "metadata": {},
     "output_type": "display_data"
    },
    {
     "data": {
      "application/vnd.jupyter.widget-view+json": {
       "model_id": "",
       "version_major": 2,
       "version_minor": 0
      },
      "text/plain": [
       "HBox(children=(IntProgress(value=0, description='Epoch 122', max=2131, style=ProgressStyle(description_width='…"
      ]
     },
     "metadata": {},
     "output_type": "display_data"
    },
    {
     "data": {
      "application/vnd.jupyter.widget-view+json": {
       "model_id": "",
       "version_major": 2,
       "version_minor": 0
      },
      "text/plain": [
       "HBox(children=(IntProgress(value=0, description='Epoch 123', max=2131, style=ProgressStyle(description_width='…"
      ]
     },
     "metadata": {},
     "output_type": "display_data"
    },
    {
     "data": {
      "application/vnd.jupyter.widget-view+json": {
       "model_id": "",
       "version_major": 2,
       "version_minor": 0
      },
      "text/plain": [
       "HBox(children=(IntProgress(value=0, description='Epoch 124', max=2131, style=ProgressStyle(description_width='…"
      ]
     },
     "metadata": {},
     "output_type": "display_data"
    },
    {
     "data": {
      "application/vnd.jupyter.widget-view+json": {
       "model_id": "",
       "version_major": 2,
       "version_minor": 0
      },
      "text/plain": [
       "HBox(children=(IntProgress(value=0, description='Epoch 125', max=2131, style=ProgressStyle(description_width='…"
      ]
     },
     "metadata": {},
     "output_type": "display_data"
    },
    {
     "data": {
      "application/vnd.jupyter.widget-view+json": {
       "model_id": "",
       "version_major": 2,
       "version_minor": 0
      },
      "text/plain": [
       "HBox(children=(IntProgress(value=0, description='Epoch 126', max=2131, style=ProgressStyle(description_width='…"
      ]
     },
     "metadata": {},
     "output_type": "display_data"
    },
    {
     "data": {
      "application/vnd.jupyter.widget-view+json": {
       "model_id": "",
       "version_major": 2,
       "version_minor": 0
      },
      "text/plain": [
       "HBox(children=(IntProgress(value=0, description='Epoch 127', max=2131, style=ProgressStyle(description_width='…"
      ]
     },
     "metadata": {},
     "output_type": "display_data"
    },
    {
     "data": {
      "application/vnd.jupyter.widget-view+json": {
       "model_id": "",
       "version_major": 2,
       "version_minor": 0
      },
      "text/plain": [
       "HBox(children=(IntProgress(value=0, description='Epoch 128', max=2131, style=ProgressStyle(description_width='…"
      ]
     },
     "metadata": {},
     "output_type": "display_data"
    },
    {
     "data": {
      "application/vnd.jupyter.widget-view+json": {
       "model_id": "",
       "version_major": 2,
       "version_minor": 0
      },
      "text/plain": [
       "HBox(children=(IntProgress(value=0, description='Epoch 129', max=2131, style=ProgressStyle(description_width='…"
      ]
     },
     "metadata": {},
     "output_type": "display_data"
    },
    {
     "data": {
      "application/vnd.jupyter.widget-view+json": {
       "model_id": "",
       "version_major": 2,
       "version_minor": 0
      },
      "text/plain": [
       "HBox(children=(IntProgress(value=0, description='Epoch 130', max=2131, style=ProgressStyle(description_width='…"
      ]
     },
     "metadata": {},
     "output_type": "display_data"
    },
    {
     "data": {
      "application/vnd.jupyter.widget-view+json": {
       "model_id": "",
       "version_major": 2,
       "version_minor": 0
      },
      "text/plain": [
       "HBox(children=(IntProgress(value=0, description='Epoch 131', max=2131, style=ProgressStyle(description_width='…"
      ]
     },
     "metadata": {},
     "output_type": "display_data"
    },
    {
     "data": {
      "application/vnd.jupyter.widget-view+json": {
       "model_id": "",
       "version_major": 2,
       "version_minor": 0
      },
      "text/plain": [
       "HBox(children=(IntProgress(value=0, description='Epoch 132', max=2131, style=ProgressStyle(description_width='…"
      ]
     },
     "metadata": {},
     "output_type": "display_data"
    },
    {
     "data": {
      "application/vnd.jupyter.widget-view+json": {
       "model_id": "",
       "version_major": 2,
       "version_minor": 0
      },
      "text/plain": [
       "HBox(children=(IntProgress(value=0, description='Epoch 133', max=2131, style=ProgressStyle(description_width='…"
      ]
     },
     "metadata": {},
     "output_type": "display_data"
    },
    {
     "data": {
      "application/vnd.jupyter.widget-view+json": {
       "model_id": "",
       "version_major": 2,
       "version_minor": 0
      },
      "text/plain": [
       "HBox(children=(IntProgress(value=0, description='Epoch 134', max=2131, style=ProgressStyle(description_width='…"
      ]
     },
     "metadata": {},
     "output_type": "display_data"
    },
    {
     "data": {
      "application/vnd.jupyter.widget-view+json": {
       "model_id": "",
       "version_major": 2,
       "version_minor": 0
      },
      "text/plain": [
       "HBox(children=(IntProgress(value=0, description='Epoch 135', max=2131, style=ProgressStyle(description_width='…"
      ]
     },
     "metadata": {},
     "output_type": "display_data"
    },
    {
     "data": {
      "application/vnd.jupyter.widget-view+json": {
       "model_id": "",
       "version_major": 2,
       "version_minor": 0
      },
      "text/plain": [
       "HBox(children=(IntProgress(value=0, description='Epoch 136', max=2131, style=ProgressStyle(description_width='…"
      ]
     },
     "metadata": {},
     "output_type": "display_data"
    },
    {
     "data": {
      "application/vnd.jupyter.widget-view+json": {
       "model_id": "",
       "version_major": 2,
       "version_minor": 0
      },
      "text/plain": [
       "HBox(children=(IntProgress(value=0, description='Epoch 137', max=2131, style=ProgressStyle(description_width='…"
      ]
     },
     "metadata": {},
     "output_type": "display_data"
    },
    {
     "data": {
      "application/vnd.jupyter.widget-view+json": {
       "model_id": "",
       "version_major": 2,
       "version_minor": 0
      },
      "text/plain": [
       "HBox(children=(IntProgress(value=0, description='Epoch 138', max=2131, style=ProgressStyle(description_width='…"
      ]
     },
     "metadata": {},
     "output_type": "display_data"
    },
    {
     "data": {
      "application/vnd.jupyter.widget-view+json": {
       "model_id": "",
       "version_major": 2,
       "version_minor": 0
      },
      "text/plain": [
       "HBox(children=(IntProgress(value=0, description='Epoch 139', max=2131, style=ProgressStyle(description_width='…"
      ]
     },
     "metadata": {},
     "output_type": "display_data"
    },
    {
     "data": {
      "application/vnd.jupyter.widget-view+json": {
       "model_id": "",
       "version_major": 2,
       "version_minor": 0
      },
      "text/plain": [
       "HBox(children=(IntProgress(value=0, description='Epoch 140', max=2131, style=ProgressStyle(description_width='…"
      ]
     },
     "metadata": {},
     "output_type": "display_data"
    },
    {
     "data": {
      "application/vnd.jupyter.widget-view+json": {
       "model_id": "",
       "version_major": 2,
       "version_minor": 0
      },
      "text/plain": [
       "HBox(children=(IntProgress(value=0, description='Epoch 141', max=2131, style=ProgressStyle(description_width='…"
      ]
     },
     "metadata": {},
     "output_type": "display_data"
    },
    {
     "data": {
      "application/vnd.jupyter.widget-view+json": {
       "model_id": "",
       "version_major": 2,
       "version_minor": 0
      },
      "text/plain": [
       "HBox(children=(IntProgress(value=0, description='Epoch 142', max=2131, style=ProgressStyle(description_width='…"
      ]
     },
     "metadata": {},
     "output_type": "display_data"
    },
    {
     "data": {
      "application/vnd.jupyter.widget-view+json": {
       "model_id": "",
       "version_major": 2,
       "version_minor": 0
      },
      "text/plain": [
       "HBox(children=(IntProgress(value=0, description='Epoch 143', max=2131, style=ProgressStyle(description_width='…"
      ]
     },
     "metadata": {},
     "output_type": "display_data"
    },
    {
     "data": {
      "application/vnd.jupyter.widget-view+json": {
       "model_id": "",
       "version_major": 2,
       "version_minor": 0
      },
      "text/plain": [
       "HBox(children=(IntProgress(value=0, description='Epoch 144', max=2131, style=ProgressStyle(description_width='…"
      ]
     },
     "metadata": {},
     "output_type": "display_data"
    },
    {
     "data": {
      "application/vnd.jupyter.widget-view+json": {
       "model_id": "",
       "version_major": 2,
       "version_minor": 0
      },
      "text/plain": [
       "HBox(children=(IntProgress(value=0, description='Epoch 145', max=2131, style=ProgressStyle(description_width='…"
      ]
     },
     "metadata": {},
     "output_type": "display_data"
    },
    {
     "data": {
      "application/vnd.jupyter.widget-view+json": {
       "model_id": "",
       "version_major": 2,
       "version_minor": 0
      },
      "text/plain": [
       "HBox(children=(IntProgress(value=0, description='Epoch 146', max=2131, style=ProgressStyle(description_width='…"
      ]
     },
     "metadata": {},
     "output_type": "display_data"
    },
    {
     "data": {
      "application/vnd.jupyter.widget-view+json": {
       "model_id": "",
       "version_major": 2,
       "version_minor": 0
      },
      "text/plain": [
       "HBox(children=(IntProgress(value=0, description='Epoch 147', max=2131, style=ProgressStyle(description_width='…"
      ]
     },
     "metadata": {},
     "output_type": "display_data"
    },
    {
     "data": {
      "application/vnd.jupyter.widget-view+json": {
       "model_id": "",
       "version_major": 2,
       "version_minor": 0
      },
      "text/plain": [
       "HBox(children=(IntProgress(value=0, description='Epoch 148', max=2131, style=ProgressStyle(description_width='…"
      ]
     },
     "metadata": {},
     "output_type": "display_data"
    },
    {
     "data": {
      "application/vnd.jupyter.widget-view+json": {
       "model_id": "",
       "version_major": 2,
       "version_minor": 0
      },
      "text/plain": [
       "HBox(children=(IntProgress(value=0, description='Epoch 149', max=2131, style=ProgressStyle(description_width='…"
      ]
     },
     "metadata": {},
     "output_type": "display_data"
    },
    {
     "data": {
      "application/vnd.jupyter.widget-view+json": {
       "model_id": "",
       "version_major": 2,
       "version_minor": 0
      },
      "text/plain": [
       "HBox(children=(IntProgress(value=0, description='Epoch 150', max=2131, style=ProgressStyle(description_width='…"
      ]
     },
     "metadata": {},
     "output_type": "display_data"
    },
    {
     "data": {
      "application/vnd.jupyter.widget-view+json": {
       "model_id": "",
       "version_major": 2,
       "version_minor": 0
      },
      "text/plain": [
       "HBox(children=(IntProgress(value=0, description='Epoch 151', max=2131, style=ProgressStyle(description_width='…"
      ]
     },
     "metadata": {},
     "output_type": "display_data"
    },
    {
     "data": {
      "application/vnd.jupyter.widget-view+json": {
       "model_id": "",
       "version_major": 2,
       "version_minor": 0
      },
      "text/plain": [
       "HBox(children=(IntProgress(value=0, description='Epoch 152', max=2131, style=ProgressStyle(description_width='…"
      ]
     },
     "metadata": {},
     "output_type": "display_data"
    },
    {
     "data": {
      "application/vnd.jupyter.widget-view+json": {
       "model_id": "",
       "version_major": 2,
       "version_minor": 0
      },
      "text/plain": [
       "HBox(children=(IntProgress(value=0, description='Epoch 153', max=2131, style=ProgressStyle(description_width='…"
      ]
     },
     "metadata": {},
     "output_type": "display_data"
    },
    {
     "data": {
      "application/vnd.jupyter.widget-view+json": {
       "model_id": "",
       "version_major": 2,
       "version_minor": 0
      },
      "text/plain": [
       "HBox(children=(IntProgress(value=0, description='Epoch 154', max=2131, style=ProgressStyle(description_width='…"
      ]
     },
     "metadata": {},
     "output_type": "display_data"
    },
    {
     "data": {
      "application/vnd.jupyter.widget-view+json": {
       "model_id": "",
       "version_major": 2,
       "version_minor": 0
      },
      "text/plain": [
       "HBox(children=(IntProgress(value=0, description='Epoch 155', max=2131, style=ProgressStyle(description_width='…"
      ]
     },
     "metadata": {},
     "output_type": "display_data"
    },
    {
     "data": {
      "application/vnd.jupyter.widget-view+json": {
       "model_id": "",
       "version_major": 2,
       "version_minor": 0
      },
      "text/plain": [
       "HBox(children=(IntProgress(value=0, description='Epoch 156', max=2131, style=ProgressStyle(description_width='…"
      ]
     },
     "metadata": {},
     "output_type": "display_data"
    },
    {
     "data": {
      "application/vnd.jupyter.widget-view+json": {
       "model_id": "",
       "version_major": 2,
       "version_minor": 0
      },
      "text/plain": [
       "HBox(children=(IntProgress(value=0, description='Epoch 157', max=2131, style=ProgressStyle(description_width='…"
      ]
     },
     "metadata": {},
     "output_type": "display_data"
    },
    {
     "data": {
      "application/vnd.jupyter.widget-view+json": {
       "model_id": "",
       "version_major": 2,
       "version_minor": 0
      },
      "text/plain": [
       "HBox(children=(IntProgress(value=0, description='Epoch 158', max=2131, style=ProgressStyle(description_width='…"
      ]
     },
     "metadata": {},
     "output_type": "display_data"
    },
    {
     "data": {
      "application/vnd.jupyter.widget-view+json": {
       "model_id": "",
       "version_major": 2,
       "version_minor": 0
      },
      "text/plain": [
       "HBox(children=(IntProgress(value=0, description='Epoch 159', max=2131, style=ProgressStyle(description_width='…"
      ]
     },
     "metadata": {},
     "output_type": "display_data"
    },
    {
     "data": {
      "application/vnd.jupyter.widget-view+json": {
       "model_id": "",
       "version_major": 2,
       "version_minor": 0
      },
      "text/plain": [
       "HBox(children=(IntProgress(value=0, description='Epoch 160', max=2131, style=ProgressStyle(description_width='…"
      ]
     },
     "metadata": {},
     "output_type": "display_data"
    },
    {
     "data": {
      "application/vnd.jupyter.widget-view+json": {
       "model_id": "",
       "version_major": 2,
       "version_minor": 0
      },
      "text/plain": [
       "HBox(children=(IntProgress(value=0, description='Epoch 161', max=2131, style=ProgressStyle(description_width='…"
      ]
     },
     "metadata": {},
     "output_type": "display_data"
    },
    {
     "data": {
      "application/vnd.jupyter.widget-view+json": {
       "model_id": "",
       "version_major": 2,
       "version_minor": 0
      },
      "text/plain": [
       "HBox(children=(IntProgress(value=0, description='Epoch 162', max=2131, style=ProgressStyle(description_width='…"
      ]
     },
     "metadata": {},
     "output_type": "display_data"
    },
    {
     "data": {
      "application/vnd.jupyter.widget-view+json": {
       "model_id": "",
       "version_major": 2,
       "version_minor": 0
      },
      "text/plain": [
       "HBox(children=(IntProgress(value=0, description='Epoch 163', max=2131, style=ProgressStyle(description_width='…"
      ]
     },
     "metadata": {},
     "output_type": "display_data"
    },
    {
     "data": {
      "application/vnd.jupyter.widget-view+json": {
       "model_id": "",
       "version_major": 2,
       "version_minor": 0
      },
      "text/plain": [
       "HBox(children=(IntProgress(value=0, description='Epoch 164', max=2131, style=ProgressStyle(description_width='…"
      ]
     },
     "metadata": {},
     "output_type": "display_data"
    },
    {
     "data": {
      "application/vnd.jupyter.widget-view+json": {
       "model_id": "",
       "version_major": 2,
       "version_minor": 0
      },
      "text/plain": [
       "HBox(children=(IntProgress(value=0, description='Epoch 165', max=2131, style=ProgressStyle(description_width='…"
      ]
     },
     "metadata": {},
     "output_type": "display_data"
    },
    {
     "data": {
      "application/vnd.jupyter.widget-view+json": {
       "model_id": "",
       "version_major": 2,
       "version_minor": 0
      },
      "text/plain": [
       "HBox(children=(IntProgress(value=0, description='Epoch 166', max=2131, style=ProgressStyle(description_width='…"
      ]
     },
     "metadata": {},
     "output_type": "display_data"
    },
    {
     "data": {
      "application/vnd.jupyter.widget-view+json": {
       "model_id": "",
       "version_major": 2,
       "version_minor": 0
      },
      "text/plain": [
       "HBox(children=(IntProgress(value=0, description='Epoch 167', max=2131, style=ProgressStyle(description_width='…"
      ]
     },
     "metadata": {},
     "output_type": "display_data"
    },
    {
     "data": {
      "application/vnd.jupyter.widget-view+json": {
       "model_id": "",
       "version_major": 2,
       "version_minor": 0
      },
      "text/plain": [
       "HBox(children=(IntProgress(value=0, description='Epoch 168', max=2131, style=ProgressStyle(description_width='…"
      ]
     },
     "metadata": {},
     "output_type": "display_data"
    },
    {
     "data": {
      "application/vnd.jupyter.widget-view+json": {
       "model_id": "",
       "version_major": 2,
       "version_minor": 0
      },
      "text/plain": [
       "HBox(children=(IntProgress(value=0, description='Epoch 169', max=2131, style=ProgressStyle(description_width='…"
      ]
     },
     "metadata": {},
     "output_type": "display_data"
    },
    {
     "data": {
      "application/vnd.jupyter.widget-view+json": {
       "model_id": "",
       "version_major": 2,
       "version_minor": 0
      },
      "text/plain": [
       "HBox(children=(IntProgress(value=0, description='Epoch 170', max=2131, style=ProgressStyle(description_width='…"
      ]
     },
     "metadata": {},
     "output_type": "display_data"
    },
    {
     "data": {
      "application/vnd.jupyter.widget-view+json": {
       "model_id": "",
       "version_major": 2,
       "version_minor": 0
      },
      "text/plain": [
       "HBox(children=(IntProgress(value=0, description='Epoch 171', max=2131, style=ProgressStyle(description_width='…"
      ]
     },
     "metadata": {},
     "output_type": "display_data"
    },
    {
     "data": {
      "application/vnd.jupyter.widget-view+json": {
       "model_id": "",
       "version_major": 2,
       "version_minor": 0
      },
      "text/plain": [
       "HBox(children=(IntProgress(value=0, description='Epoch 172', max=2131, style=ProgressStyle(description_width='…"
      ]
     },
     "metadata": {},
     "output_type": "display_data"
    },
    {
     "data": {
      "application/vnd.jupyter.widget-view+json": {
       "model_id": "",
       "version_major": 2,
       "version_minor": 0
      },
      "text/plain": [
       "HBox(children=(IntProgress(value=0, description='Epoch 173', max=2131, style=ProgressStyle(description_width='…"
      ]
     },
     "metadata": {},
     "output_type": "display_data"
    },
    {
     "data": {
      "application/vnd.jupyter.widget-view+json": {
       "model_id": "",
       "version_major": 2,
       "version_minor": 0
      },
      "text/plain": [
       "HBox(children=(IntProgress(value=0, description='Epoch 174', max=2131, style=ProgressStyle(description_width='…"
      ]
     },
     "metadata": {},
     "output_type": "display_data"
    },
    {
     "data": {
      "application/vnd.jupyter.widget-view+json": {
       "model_id": "",
       "version_major": 2,
       "version_minor": 0
      },
      "text/plain": [
       "HBox(children=(IntProgress(value=0, description='Epoch 175', max=2131, style=ProgressStyle(description_width='…"
      ]
     },
     "metadata": {},
     "output_type": "display_data"
    },
    {
     "data": {
      "application/vnd.jupyter.widget-view+json": {
       "model_id": "",
       "version_major": 2,
       "version_minor": 0
      },
      "text/plain": [
       "HBox(children=(IntProgress(value=0, description='Epoch 176', max=2131, style=ProgressStyle(description_width='…"
      ]
     },
     "metadata": {},
     "output_type": "display_data"
    },
    {
     "data": {
      "application/vnd.jupyter.widget-view+json": {
       "model_id": "",
       "version_major": 2,
       "version_minor": 0
      },
      "text/plain": [
       "HBox(children=(IntProgress(value=0, description='Epoch 177', max=2131, style=ProgressStyle(description_width='…"
      ]
     },
     "metadata": {},
     "output_type": "display_data"
    },
    {
     "data": {
      "application/vnd.jupyter.widget-view+json": {
       "model_id": "",
       "version_major": 2,
       "version_minor": 0
      },
      "text/plain": [
       "HBox(children=(IntProgress(value=0, description='Epoch 178', max=2131, style=ProgressStyle(description_width='…"
      ]
     },
     "metadata": {},
     "output_type": "display_data"
    },
    {
     "data": {
      "application/vnd.jupyter.widget-view+json": {
       "model_id": "",
       "version_major": 2,
       "version_minor": 0
      },
      "text/plain": [
       "HBox(children=(IntProgress(value=0, description='Epoch 179', max=2131, style=ProgressStyle(description_width='…"
      ]
     },
     "metadata": {},
     "output_type": "display_data"
    },
    {
     "data": {
      "application/vnd.jupyter.widget-view+json": {
       "model_id": "",
       "version_major": 2,
       "version_minor": 0
      },
      "text/plain": [
       "HBox(children=(IntProgress(value=0, description='Epoch 180', max=2131, style=ProgressStyle(description_width='…"
      ]
     },
     "metadata": {},
     "output_type": "display_data"
    },
    {
     "data": {
      "application/vnd.jupyter.widget-view+json": {
       "model_id": "",
       "version_major": 2,
       "version_minor": 0
      },
      "text/plain": [
       "HBox(children=(IntProgress(value=0, description='Epoch 181', max=2131, style=ProgressStyle(description_width='…"
      ]
     },
     "metadata": {},
     "output_type": "display_data"
    },
    {
     "data": {
      "application/vnd.jupyter.widget-view+json": {
       "model_id": "",
       "version_major": 2,
       "version_minor": 0
      },
      "text/plain": [
       "HBox(children=(IntProgress(value=0, description='Epoch 182', max=2131, style=ProgressStyle(description_width='…"
      ]
     },
     "metadata": {},
     "output_type": "display_data"
    },
    {
     "data": {
      "application/vnd.jupyter.widget-view+json": {
       "model_id": "",
       "version_major": 2,
       "version_minor": 0
      },
      "text/plain": [
       "HBox(children=(IntProgress(value=0, description='Epoch 183', max=2131, style=ProgressStyle(description_width='…"
      ]
     },
     "metadata": {},
     "output_type": "display_data"
    },
    {
     "data": {
      "application/vnd.jupyter.widget-view+json": {
       "model_id": "",
       "version_major": 2,
       "version_minor": 0
      },
      "text/plain": [
       "HBox(children=(IntProgress(value=0, description='Epoch 184', max=2131, style=ProgressStyle(description_width='…"
      ]
     },
     "metadata": {},
     "output_type": "display_data"
    },
    {
     "data": {
      "application/vnd.jupyter.widget-view+json": {
       "model_id": "",
       "version_major": 2,
       "version_minor": 0
      },
      "text/plain": [
       "HBox(children=(IntProgress(value=0, description='Epoch 185', max=2131, style=ProgressStyle(description_width='…"
      ]
     },
     "metadata": {},
     "output_type": "display_data"
    },
    {
     "data": {
      "application/vnd.jupyter.widget-view+json": {
       "model_id": "",
       "version_major": 2,
       "version_minor": 0
      },
      "text/plain": [
       "HBox(children=(IntProgress(value=0, description='Epoch 186', max=2131, style=ProgressStyle(description_width='…"
      ]
     },
     "metadata": {},
     "output_type": "display_data"
    },
    {
     "data": {
      "application/vnd.jupyter.widget-view+json": {
       "model_id": "",
       "version_major": 2,
       "version_minor": 0
      },
      "text/plain": [
       "HBox(children=(IntProgress(value=0, description='Epoch 187', max=2131, style=ProgressStyle(description_width='…"
      ]
     },
     "metadata": {},
     "output_type": "display_data"
    },
    {
     "data": {
      "application/vnd.jupyter.widget-view+json": {
       "model_id": "",
       "version_major": 2,
       "version_minor": 0
      },
      "text/plain": [
       "HBox(children=(IntProgress(value=0, description='Epoch 188', max=2131, style=ProgressStyle(description_width='…"
      ]
     },
     "metadata": {},
     "output_type": "display_data"
    },
    {
     "data": {
      "application/vnd.jupyter.widget-view+json": {
       "model_id": "",
       "version_major": 2,
       "version_minor": 0
      },
      "text/plain": [
       "HBox(children=(IntProgress(value=0, description='Epoch 189', max=2131, style=ProgressStyle(description_width='…"
      ]
     },
     "metadata": {},
     "output_type": "display_data"
    },
    {
     "data": {
      "application/vnd.jupyter.widget-view+json": {
       "model_id": "",
       "version_major": 2,
       "version_minor": 0
      },
      "text/plain": [
       "HBox(children=(IntProgress(value=0, description='Epoch 190', max=2131, style=ProgressStyle(description_width='…"
      ]
     },
     "metadata": {},
     "output_type": "display_data"
    },
    {
     "data": {
      "application/vnd.jupyter.widget-view+json": {
       "model_id": "",
       "version_major": 2,
       "version_minor": 0
      },
      "text/plain": [
       "HBox(children=(IntProgress(value=0, description='Epoch 191', max=2131, style=ProgressStyle(description_width='…"
      ]
     },
     "metadata": {},
     "output_type": "display_data"
    },
    {
     "data": {
      "application/vnd.jupyter.widget-view+json": {
       "model_id": "",
       "version_major": 2,
       "version_minor": 0
      },
      "text/plain": [
       "HBox(children=(IntProgress(value=0, description='Epoch 192', max=2131, style=ProgressStyle(description_width='…"
      ]
     },
     "metadata": {},
     "output_type": "display_data"
    },
    {
     "data": {
      "application/vnd.jupyter.widget-view+json": {
       "model_id": "",
       "version_major": 2,
       "version_minor": 0
      },
      "text/plain": [
       "HBox(children=(IntProgress(value=0, description='Epoch 193', max=2131, style=ProgressStyle(description_width='…"
      ]
     },
     "metadata": {},
     "output_type": "display_data"
    },
    {
     "data": {
      "application/vnd.jupyter.widget-view+json": {
       "model_id": "",
       "version_major": 2,
       "version_minor": 0
      },
      "text/plain": [
       "HBox(children=(IntProgress(value=0, description='Epoch 194', max=2131, style=ProgressStyle(description_width='…"
      ]
     },
     "metadata": {},
     "output_type": "display_data"
    },
    {
     "data": {
      "application/vnd.jupyter.widget-view+json": {
       "model_id": "",
       "version_major": 2,
       "version_minor": 0
      },
      "text/plain": [
       "HBox(children=(IntProgress(value=0, description='Epoch 195', max=2131, style=ProgressStyle(description_width='…"
      ]
     },
     "metadata": {},
     "output_type": "display_data"
    },
    {
     "data": {
      "application/vnd.jupyter.widget-view+json": {
       "model_id": "",
       "version_major": 2,
       "version_minor": 0
      },
      "text/plain": [
       "HBox(children=(IntProgress(value=0, description='Epoch 196', max=2131, style=ProgressStyle(description_width='…"
      ]
     },
     "metadata": {},
     "output_type": "display_data"
    },
    {
     "data": {
      "application/vnd.jupyter.widget-view+json": {
       "model_id": "",
       "version_major": 2,
       "version_minor": 0
      },
      "text/plain": [
       "HBox(children=(IntProgress(value=0, description='Epoch 197', max=2131, style=ProgressStyle(description_width='…"
      ]
     },
     "metadata": {},
     "output_type": "display_data"
    },
    {
     "data": {
      "application/vnd.jupyter.widget-view+json": {
       "model_id": "",
       "version_major": 2,
       "version_minor": 0
      },
      "text/plain": [
       "HBox(children=(IntProgress(value=0, description='Epoch 198', max=2131, style=ProgressStyle(description_width='…"
      ]
     },
     "metadata": {},
     "output_type": "display_data"
    },
    {
     "data": {
      "application/vnd.jupyter.widget-view+json": {
       "model_id": "",
       "version_major": 2,
       "version_minor": 0
      },
      "text/plain": [
       "HBox(children=(IntProgress(value=0, description='Epoch 199', max=2131, style=ProgressStyle(description_width='…"
      ]
     },
     "metadata": {},
     "output_type": "display_data"
    },
    {
     "data": {
      "application/vnd.jupyter.widget-view+json": {
       "model_id": "",
       "version_major": 2,
       "version_minor": 0
      },
      "text/plain": [
       "HBox(children=(IntProgress(value=0, description='Epoch 200', max=2131, style=ProgressStyle(description_width='…"
      ]
     },
     "metadata": {},
     "output_type": "display_data"
    },
    {
     "data": {
      "application/vnd.jupyter.widget-view+json": {
       "model_id": "",
       "version_major": 2,
       "version_minor": 0
      },
      "text/plain": [
       "HBox(children=(IntProgress(value=0, description='Epoch 201', max=2131, style=ProgressStyle(description_width='…"
      ]
     },
     "metadata": {},
     "output_type": "display_data"
    },
    {
     "data": {
      "application/vnd.jupyter.widget-view+json": {
       "model_id": "",
       "version_major": 2,
       "version_minor": 0
      },
      "text/plain": [
       "HBox(children=(IntProgress(value=0, description='Epoch 202', max=2131, style=ProgressStyle(description_width='…"
      ]
     },
     "metadata": {},
     "output_type": "display_data"
    },
    {
     "data": {
      "application/vnd.jupyter.widget-view+json": {
       "model_id": "",
       "version_major": 2,
       "version_minor": 0
      },
      "text/plain": [
       "HBox(children=(IntProgress(value=0, description='Epoch 203', max=2131, style=ProgressStyle(description_width='…"
      ]
     },
     "metadata": {},
     "output_type": "display_data"
    },
    {
     "data": {
      "application/vnd.jupyter.widget-view+json": {
       "model_id": "",
       "version_major": 2,
       "version_minor": 0
      },
      "text/plain": [
       "HBox(children=(IntProgress(value=0, description='Epoch 204', max=2131, style=ProgressStyle(description_width='…"
      ]
     },
     "metadata": {},
     "output_type": "display_data"
    },
    {
     "data": {
      "application/vnd.jupyter.widget-view+json": {
       "model_id": "",
       "version_major": 2,
       "version_minor": 0
      },
      "text/plain": [
       "HBox(children=(IntProgress(value=0, description='Epoch 205', max=2131, style=ProgressStyle(description_width='…"
      ]
     },
     "metadata": {},
     "output_type": "display_data"
    },
    {
     "data": {
      "application/vnd.jupyter.widget-view+json": {
       "model_id": "",
       "version_major": 2,
       "version_minor": 0
      },
      "text/plain": [
       "HBox(children=(IntProgress(value=0, description='Epoch 206', max=2131, style=ProgressStyle(description_width='…"
      ]
     },
     "metadata": {},
     "output_type": "display_data"
    },
    {
     "data": {
      "application/vnd.jupyter.widget-view+json": {
       "model_id": "",
       "version_major": 2,
       "version_minor": 0
      },
      "text/plain": [
       "HBox(children=(IntProgress(value=0, description='Epoch 207', max=2131, style=ProgressStyle(description_width='…"
      ]
     },
     "metadata": {},
     "output_type": "display_data"
    },
    {
     "data": {
      "application/vnd.jupyter.widget-view+json": {
       "model_id": "",
       "version_major": 2,
       "version_minor": 0
      },
      "text/plain": [
       "HBox(children=(IntProgress(value=0, description='Epoch 208', max=2131, style=ProgressStyle(description_width='…"
      ]
     },
     "metadata": {},
     "output_type": "display_data"
    },
    {
     "data": {
      "application/vnd.jupyter.widget-view+json": {
       "model_id": "",
       "version_major": 2,
       "version_minor": 0
      },
      "text/plain": [
       "HBox(children=(IntProgress(value=0, description='Epoch 209', max=2131, style=ProgressStyle(description_width='…"
      ]
     },
     "metadata": {},
     "output_type": "display_data"
    },
    {
     "data": {
      "application/vnd.jupyter.widget-view+json": {
       "model_id": "",
       "version_major": 2,
       "version_minor": 0
      },
      "text/plain": [
       "HBox(children=(IntProgress(value=0, description='Epoch 210', max=2131, style=ProgressStyle(description_width='…"
      ]
     },
     "metadata": {},
     "output_type": "display_data"
    },
    {
     "data": {
      "application/vnd.jupyter.widget-view+json": {
       "model_id": "",
       "version_major": 2,
       "version_minor": 0
      },
      "text/plain": [
       "HBox(children=(IntProgress(value=0, description='Epoch 211', max=2131, style=ProgressStyle(description_width='…"
      ]
     },
     "metadata": {},
     "output_type": "display_data"
    },
    {
     "data": {
      "application/vnd.jupyter.widget-view+json": {
       "model_id": "",
       "version_major": 2,
       "version_minor": 0
      },
      "text/plain": [
       "HBox(children=(IntProgress(value=0, description='Epoch 212', max=2131, style=ProgressStyle(description_width='…"
      ]
     },
     "metadata": {},
     "output_type": "display_data"
    },
    {
     "data": {
      "application/vnd.jupyter.widget-view+json": {
       "model_id": "",
       "version_major": 2,
       "version_minor": 0
      },
      "text/plain": [
       "HBox(children=(IntProgress(value=0, description='Epoch 213', max=2131, style=ProgressStyle(description_width='…"
      ]
     },
     "metadata": {},
     "output_type": "display_data"
    },
    {
     "data": {
      "application/vnd.jupyter.widget-view+json": {
       "model_id": "",
       "version_major": 2,
       "version_minor": 0
      },
      "text/plain": [
       "HBox(children=(IntProgress(value=0, description='Epoch 214', max=2131, style=ProgressStyle(description_width='…"
      ]
     },
     "metadata": {},
     "output_type": "display_data"
    },
    {
     "data": {
      "application/vnd.jupyter.widget-view+json": {
       "model_id": "",
       "version_major": 2,
       "version_minor": 0
      },
      "text/plain": [
       "HBox(children=(IntProgress(value=0, description='Epoch 215', max=2131, style=ProgressStyle(description_width='…"
      ]
     },
     "metadata": {},
     "output_type": "display_data"
    },
    {
     "data": {
      "application/vnd.jupyter.widget-view+json": {
       "model_id": "",
       "version_major": 2,
       "version_minor": 0
      },
      "text/plain": [
       "HBox(children=(IntProgress(value=0, description='Epoch 216', max=2131, style=ProgressStyle(description_width='…"
      ]
     },
     "metadata": {},
     "output_type": "display_data"
    },
    {
     "data": {
      "application/vnd.jupyter.widget-view+json": {
       "model_id": "",
       "version_major": 2,
       "version_minor": 0
      },
      "text/plain": [
       "HBox(children=(IntProgress(value=0, description='Epoch 217', max=2131, style=ProgressStyle(description_width='…"
      ]
     },
     "metadata": {},
     "output_type": "display_data"
    },
    {
     "data": {
      "application/vnd.jupyter.widget-view+json": {
       "model_id": "",
       "version_major": 2,
       "version_minor": 0
      },
      "text/plain": [
       "HBox(children=(IntProgress(value=0, description='Epoch 218', max=2131, style=ProgressStyle(description_width='…"
      ]
     },
     "metadata": {},
     "output_type": "display_data"
    },
    {
     "data": {
      "application/vnd.jupyter.widget-view+json": {
       "model_id": "",
       "version_major": 2,
       "version_minor": 0
      },
      "text/plain": [
       "HBox(children=(IntProgress(value=0, description='Epoch 219', max=2131, style=ProgressStyle(description_width='…"
      ]
     },
     "metadata": {},
     "output_type": "display_data"
    },
    {
     "data": {
      "application/vnd.jupyter.widget-view+json": {
       "model_id": "",
       "version_major": 2,
       "version_minor": 0
      },
      "text/plain": [
       "HBox(children=(IntProgress(value=0, description='Epoch 220', max=2131, style=ProgressStyle(description_width='…"
      ]
     },
     "metadata": {},
     "output_type": "display_data"
    },
    {
     "data": {
      "application/vnd.jupyter.widget-view+json": {
       "model_id": "",
       "version_major": 2,
       "version_minor": 0
      },
      "text/plain": [
       "HBox(children=(IntProgress(value=0, description='Epoch 221', max=2131, style=ProgressStyle(description_width='…"
      ]
     },
     "metadata": {},
     "output_type": "display_data"
    },
    {
     "data": {
      "application/vnd.jupyter.widget-view+json": {
       "model_id": "",
       "version_major": 2,
       "version_minor": 0
      },
      "text/plain": [
       "HBox(children=(IntProgress(value=0, description='Epoch 222', max=2131, style=ProgressStyle(description_width='…"
      ]
     },
     "metadata": {},
     "output_type": "display_data"
    },
    {
     "data": {
      "application/vnd.jupyter.widget-view+json": {
       "model_id": "",
       "version_major": 2,
       "version_minor": 0
      },
      "text/plain": [
       "HBox(children=(IntProgress(value=0, description='Epoch 223', max=2131, style=ProgressStyle(description_width='…"
      ]
     },
     "metadata": {},
     "output_type": "display_data"
    },
    {
     "data": {
      "application/vnd.jupyter.widget-view+json": {
       "model_id": "",
       "version_major": 2,
       "version_minor": 0
      },
      "text/plain": [
       "HBox(children=(IntProgress(value=0, description='Epoch 224', max=2131, style=ProgressStyle(description_width='…"
      ]
     },
     "metadata": {},
     "output_type": "display_data"
    },
    {
     "data": {
      "application/vnd.jupyter.widget-view+json": {
       "model_id": "",
       "version_major": 2,
       "version_minor": 0
      },
      "text/plain": [
       "HBox(children=(IntProgress(value=0, description='Epoch 225', max=2131, style=ProgressStyle(description_width='…"
      ]
     },
     "metadata": {},
     "output_type": "display_data"
    },
    {
     "data": {
      "application/vnd.jupyter.widget-view+json": {
       "model_id": "",
       "version_major": 2,
       "version_minor": 0
      },
      "text/plain": [
       "HBox(children=(IntProgress(value=0, description='Epoch 226', max=2131, style=ProgressStyle(description_width='…"
      ]
     },
     "metadata": {},
     "output_type": "display_data"
    },
    {
     "data": {
      "application/vnd.jupyter.widget-view+json": {
       "model_id": "",
       "version_major": 2,
       "version_minor": 0
      },
      "text/plain": [
       "HBox(children=(IntProgress(value=0, description='Epoch 227', max=2131, style=ProgressStyle(description_width='…"
      ]
     },
     "metadata": {},
     "output_type": "display_data"
    },
    {
     "data": {
      "application/vnd.jupyter.widget-view+json": {
       "model_id": "",
       "version_major": 2,
       "version_minor": 0
      },
      "text/plain": [
       "HBox(children=(IntProgress(value=0, description='Epoch 228', max=2131, style=ProgressStyle(description_width='…"
      ]
     },
     "metadata": {},
     "output_type": "display_data"
    },
    {
     "data": {
      "application/vnd.jupyter.widget-view+json": {
       "model_id": "",
       "version_major": 2,
       "version_minor": 0
      },
      "text/plain": [
       "HBox(children=(IntProgress(value=0, description='Epoch 229', max=2131, style=ProgressStyle(description_width='…"
      ]
     },
     "metadata": {},
     "output_type": "display_data"
    },
    {
     "data": {
      "application/vnd.jupyter.widget-view+json": {
       "model_id": "",
       "version_major": 2,
       "version_minor": 0
      },
      "text/plain": [
       "HBox(children=(IntProgress(value=0, description='Epoch 230', max=2131, style=ProgressStyle(description_width='…"
      ]
     },
     "metadata": {},
     "output_type": "display_data"
    },
    {
     "data": {
      "application/vnd.jupyter.widget-view+json": {
       "model_id": "",
       "version_major": 2,
       "version_minor": 0
      },
      "text/plain": [
       "HBox(children=(IntProgress(value=0, description='Epoch 231', max=2131, style=ProgressStyle(description_width='…"
      ]
     },
     "metadata": {},
     "output_type": "display_data"
    },
    {
     "data": {
      "application/vnd.jupyter.widget-view+json": {
       "model_id": "",
       "version_major": 2,
       "version_minor": 0
      },
      "text/plain": [
       "HBox(children=(IntProgress(value=0, description='Epoch 232', max=2131, style=ProgressStyle(description_width='…"
      ]
     },
     "metadata": {},
     "output_type": "display_data"
    },
    {
     "data": {
      "application/vnd.jupyter.widget-view+json": {
       "model_id": "",
       "version_major": 2,
       "version_minor": 0
      },
      "text/plain": [
       "HBox(children=(IntProgress(value=0, description='Epoch 233', max=2131, style=ProgressStyle(description_width='…"
      ]
     },
     "metadata": {},
     "output_type": "display_data"
    },
    {
     "data": {
      "application/vnd.jupyter.widget-view+json": {
       "model_id": "",
       "version_major": 2,
       "version_minor": 0
      },
      "text/plain": [
       "HBox(children=(IntProgress(value=0, description='Epoch 234', max=2131, style=ProgressStyle(description_width='…"
      ]
     },
     "metadata": {},
     "output_type": "display_data"
    },
    {
     "data": {
      "application/vnd.jupyter.widget-view+json": {
       "model_id": "",
       "version_major": 2,
       "version_minor": 0
      },
      "text/plain": [
       "HBox(children=(IntProgress(value=0, description='Epoch 235', max=2131, style=ProgressStyle(description_width='…"
      ]
     },
     "metadata": {},
     "output_type": "display_data"
    },
    {
     "data": {
      "application/vnd.jupyter.widget-view+json": {
       "model_id": "",
       "version_major": 2,
       "version_minor": 0
      },
      "text/plain": [
       "HBox(children=(IntProgress(value=0, description='Epoch 236', max=2131, style=ProgressStyle(description_width='…"
      ]
     },
     "metadata": {},
     "output_type": "display_data"
    },
    {
     "data": {
      "application/vnd.jupyter.widget-view+json": {
       "model_id": "",
       "version_major": 2,
       "version_minor": 0
      },
      "text/plain": [
       "HBox(children=(IntProgress(value=0, description='Epoch 237', max=2131, style=ProgressStyle(description_width='…"
      ]
     },
     "metadata": {},
     "output_type": "display_data"
    },
    {
     "data": {
      "application/vnd.jupyter.widget-view+json": {
       "model_id": "",
       "version_major": 2,
       "version_minor": 0
      },
      "text/plain": [
       "HBox(children=(IntProgress(value=0, description='Epoch 238', max=2131, style=ProgressStyle(description_width='…"
      ]
     },
     "metadata": {},
     "output_type": "display_data"
    },
    {
     "data": {
      "application/vnd.jupyter.widget-view+json": {
       "model_id": "",
       "version_major": 2,
       "version_minor": 0
      },
      "text/plain": [
       "HBox(children=(IntProgress(value=0, description='Epoch 239', max=2131, style=ProgressStyle(description_width='…"
      ]
     },
     "metadata": {},
     "output_type": "display_data"
    },
    {
     "data": {
      "application/vnd.jupyter.widget-view+json": {
       "model_id": "",
       "version_major": 2,
       "version_minor": 0
      },
      "text/plain": [
       "HBox(children=(IntProgress(value=0, description='Epoch 240', max=2131, style=ProgressStyle(description_width='…"
      ]
     },
     "metadata": {},
     "output_type": "display_data"
    },
    {
     "data": {
      "application/vnd.jupyter.widget-view+json": {
       "model_id": "",
       "version_major": 2,
       "version_minor": 0
      },
      "text/plain": [
       "HBox(children=(IntProgress(value=0, description='Epoch 241', max=2131, style=ProgressStyle(description_width='…"
      ]
     },
     "metadata": {},
     "output_type": "display_data"
    },
    {
     "data": {
      "application/vnd.jupyter.widget-view+json": {
       "model_id": "",
       "version_major": 2,
       "version_minor": 0
      },
      "text/plain": [
       "HBox(children=(IntProgress(value=0, description='Epoch 242', max=2131, style=ProgressStyle(description_width='…"
      ]
     },
     "metadata": {},
     "output_type": "display_data"
    },
    {
     "data": {
      "application/vnd.jupyter.widget-view+json": {
       "model_id": "",
       "version_major": 2,
       "version_minor": 0
      },
      "text/plain": [
       "HBox(children=(IntProgress(value=0, description='Epoch 243', max=2131, style=ProgressStyle(description_width='…"
      ]
     },
     "metadata": {},
     "output_type": "display_data"
    },
    {
     "data": {
      "application/vnd.jupyter.widget-view+json": {
       "model_id": "",
       "version_major": 2,
       "version_minor": 0
      },
      "text/plain": [
       "HBox(children=(IntProgress(value=0, description='Epoch 244', max=2131, style=ProgressStyle(description_width='…"
      ]
     },
     "metadata": {},
     "output_type": "display_data"
    },
    {
     "data": {
      "application/vnd.jupyter.widget-view+json": {
       "model_id": "",
       "version_major": 2,
       "version_minor": 0
      },
      "text/plain": [
       "HBox(children=(IntProgress(value=0, description='Epoch 245', max=2131, style=ProgressStyle(description_width='…"
      ]
     },
     "metadata": {},
     "output_type": "display_data"
    },
    {
     "data": {
      "application/vnd.jupyter.widget-view+json": {
       "model_id": "",
       "version_major": 2,
       "version_minor": 0
      },
      "text/plain": [
       "HBox(children=(IntProgress(value=0, description='Epoch 246', max=2131, style=ProgressStyle(description_width='…"
      ]
     },
     "metadata": {},
     "output_type": "display_data"
    },
    {
     "data": {
      "application/vnd.jupyter.widget-view+json": {
       "model_id": "",
       "version_major": 2,
       "version_minor": 0
      },
      "text/plain": [
       "HBox(children=(IntProgress(value=0, description='Epoch 247', max=2131, style=ProgressStyle(description_width='…"
      ]
     },
     "metadata": {},
     "output_type": "display_data"
    },
    {
     "data": {
      "application/vnd.jupyter.widget-view+json": {
       "model_id": "",
       "version_major": 2,
       "version_minor": 0
      },
      "text/plain": [
       "HBox(children=(IntProgress(value=0, description='Epoch 248', max=2131, style=ProgressStyle(description_width='…"
      ]
     },
     "metadata": {},
     "output_type": "display_data"
    },
    {
     "data": {
      "application/vnd.jupyter.widget-view+json": {
       "model_id": "",
       "version_major": 2,
       "version_minor": 0
      },
      "text/plain": [
       "HBox(children=(IntProgress(value=0, description='Epoch 249', max=2131, style=ProgressStyle(description_width='…"
      ]
     },
     "metadata": {},
     "output_type": "display_data"
    },
    {
     "data": {
      "application/vnd.jupyter.widget-view+json": {
       "model_id": "",
       "version_major": 2,
       "version_minor": 0
      },
      "text/plain": [
       "HBox(children=(IntProgress(value=0, description='Epoch 250', max=2131, style=ProgressStyle(description_width='…"
      ]
     },
     "metadata": {},
     "output_type": "display_data"
    },
    {
     "data": {
      "application/vnd.jupyter.widget-view+json": {
       "model_id": "",
       "version_major": 2,
       "version_minor": 0
      },
      "text/plain": [
       "HBox(children=(IntProgress(value=0, description='Epoch 251', max=2131, style=ProgressStyle(description_width='…"
      ]
     },
     "metadata": {},
     "output_type": "display_data"
    },
    {
     "data": {
      "application/vnd.jupyter.widget-view+json": {
       "model_id": "",
       "version_major": 2,
       "version_minor": 0
      },
      "text/plain": [
       "HBox(children=(IntProgress(value=0, description='Epoch 252', max=2131, style=ProgressStyle(description_width='…"
      ]
     },
     "metadata": {},
     "output_type": "display_data"
    },
    {
     "data": {
      "application/vnd.jupyter.widget-view+json": {
       "model_id": "",
       "version_major": 2,
       "version_minor": 0
      },
      "text/plain": [
       "HBox(children=(IntProgress(value=0, description='Epoch 253', max=2131, style=ProgressStyle(description_width='…"
      ]
     },
     "metadata": {},
     "output_type": "display_data"
    },
    {
     "data": {
      "application/vnd.jupyter.widget-view+json": {
       "model_id": "",
       "version_major": 2,
       "version_minor": 0
      },
      "text/plain": [
       "HBox(children=(IntProgress(value=0, description='Epoch 254', max=2131, style=ProgressStyle(description_width='…"
      ]
     },
     "metadata": {},
     "output_type": "display_data"
    },
    {
     "data": {
      "application/vnd.jupyter.widget-view+json": {
       "model_id": "",
       "version_major": 2,
       "version_minor": 0
      },
      "text/plain": [
       "HBox(children=(IntProgress(value=0, description='Epoch 255', max=2131, style=ProgressStyle(description_width='…"
      ]
     },
     "metadata": {},
     "output_type": "display_data"
    },
    {
     "data": {
      "application/vnd.jupyter.widget-view+json": {
       "model_id": "",
       "version_major": 2,
       "version_minor": 0
      },
      "text/plain": [
       "HBox(children=(IntProgress(value=0, description='Epoch 256', max=2131, style=ProgressStyle(description_width='…"
      ]
     },
     "metadata": {},
     "output_type": "display_data"
    },
    {
     "data": {
      "application/vnd.jupyter.widget-view+json": {
       "model_id": "",
       "version_major": 2,
       "version_minor": 0
      },
      "text/plain": [
       "HBox(children=(IntProgress(value=0, description='Epoch 257', max=2131, style=ProgressStyle(description_width='…"
      ]
     },
     "metadata": {},
     "output_type": "display_data"
    },
    {
     "data": {
      "application/vnd.jupyter.widget-view+json": {
       "model_id": "",
       "version_major": 2,
       "version_minor": 0
      },
      "text/plain": [
       "HBox(children=(IntProgress(value=0, description='Epoch 258', max=2131, style=ProgressStyle(description_width='…"
      ]
     },
     "metadata": {},
     "output_type": "display_data"
    },
    {
     "data": {
      "application/vnd.jupyter.widget-view+json": {
       "model_id": "",
       "version_major": 2,
       "version_minor": 0
      },
      "text/plain": [
       "HBox(children=(IntProgress(value=0, description='Epoch 259', max=2131, style=ProgressStyle(description_width='…"
      ]
     },
     "metadata": {},
     "output_type": "display_data"
    },
    {
     "data": {
      "application/vnd.jupyter.widget-view+json": {
       "model_id": "",
       "version_major": 2,
       "version_minor": 0
      },
      "text/plain": [
       "HBox(children=(IntProgress(value=0, description='Epoch 260', max=2131, style=ProgressStyle(description_width='…"
      ]
     },
     "metadata": {},
     "output_type": "display_data"
    },
    {
     "data": {
      "application/vnd.jupyter.widget-view+json": {
       "model_id": "",
       "version_major": 2,
       "version_minor": 0
      },
      "text/plain": [
       "HBox(children=(IntProgress(value=0, description='Epoch 261', max=2131, style=ProgressStyle(description_width='…"
      ]
     },
     "metadata": {},
     "output_type": "display_data"
    },
    {
     "data": {
      "application/vnd.jupyter.widget-view+json": {
       "model_id": "",
       "version_major": 2,
       "version_minor": 0
      },
      "text/plain": [
       "HBox(children=(IntProgress(value=0, description='Epoch 262', max=2131, style=ProgressStyle(description_width='…"
      ]
     },
     "metadata": {},
     "output_type": "display_data"
    },
    {
     "data": {
      "application/vnd.jupyter.widget-view+json": {
       "model_id": "",
       "version_major": 2,
       "version_minor": 0
      },
      "text/plain": [
       "HBox(children=(IntProgress(value=0, description='Epoch 263', max=2131, style=ProgressStyle(description_width='…"
      ]
     },
     "metadata": {},
     "output_type": "display_data"
    },
    {
     "data": {
      "application/vnd.jupyter.widget-view+json": {
       "model_id": "",
       "version_major": 2,
       "version_minor": 0
      },
      "text/plain": [
       "HBox(children=(IntProgress(value=0, description='Epoch 264', max=2131, style=ProgressStyle(description_width='…"
      ]
     },
     "metadata": {},
     "output_type": "display_data"
    },
    {
     "data": {
      "application/vnd.jupyter.widget-view+json": {
       "model_id": "",
       "version_major": 2,
       "version_minor": 0
      },
      "text/plain": [
       "HBox(children=(IntProgress(value=0, description='Epoch 265', max=2131, style=ProgressStyle(description_width='…"
      ]
     },
     "metadata": {},
     "output_type": "display_data"
    },
    {
     "data": {
      "application/vnd.jupyter.widget-view+json": {
       "model_id": "",
       "version_major": 2,
       "version_minor": 0
      },
      "text/plain": [
       "HBox(children=(IntProgress(value=0, description='Epoch 266', max=2131, style=ProgressStyle(description_width='…"
      ]
     },
     "metadata": {},
     "output_type": "display_data"
    },
    {
     "data": {
      "application/vnd.jupyter.widget-view+json": {
       "model_id": "",
       "version_major": 2,
       "version_minor": 0
      },
      "text/plain": [
       "HBox(children=(IntProgress(value=0, description='Epoch 267', max=2131, style=ProgressStyle(description_width='…"
      ]
     },
     "metadata": {},
     "output_type": "display_data"
    },
    {
     "data": {
      "application/vnd.jupyter.widget-view+json": {
       "model_id": "",
       "version_major": 2,
       "version_minor": 0
      },
      "text/plain": [
       "HBox(children=(IntProgress(value=0, description='Epoch 268', max=2131, style=ProgressStyle(description_width='…"
      ]
     },
     "metadata": {},
     "output_type": "display_data"
    },
    {
     "data": {
      "application/vnd.jupyter.widget-view+json": {
       "model_id": "",
       "version_major": 2,
       "version_minor": 0
      },
      "text/plain": [
       "HBox(children=(IntProgress(value=0, description='Epoch 269', max=2131, style=ProgressStyle(description_width='…"
      ]
     },
     "metadata": {},
     "output_type": "display_data"
    },
    {
     "data": {
      "application/vnd.jupyter.widget-view+json": {
       "model_id": "",
       "version_major": 2,
       "version_minor": 0
      },
      "text/plain": [
       "HBox(children=(IntProgress(value=0, description='Epoch 270', max=2131, style=ProgressStyle(description_width='…"
      ]
     },
     "metadata": {},
     "output_type": "display_data"
    },
    {
     "data": {
      "application/vnd.jupyter.widget-view+json": {
       "model_id": "",
       "version_major": 2,
       "version_minor": 0
      },
      "text/plain": [
       "HBox(children=(IntProgress(value=0, description='Epoch 271', max=2131, style=ProgressStyle(description_width='…"
      ]
     },
     "metadata": {},
     "output_type": "display_data"
    },
    {
     "data": {
      "application/vnd.jupyter.widget-view+json": {
       "model_id": "",
       "version_major": 2,
       "version_minor": 0
      },
      "text/plain": [
       "HBox(children=(IntProgress(value=0, description='Epoch 272', max=2131, style=ProgressStyle(description_width='…"
      ]
     },
     "metadata": {},
     "output_type": "display_data"
    },
    {
     "data": {
      "application/vnd.jupyter.widget-view+json": {
       "model_id": "",
       "version_major": 2,
       "version_minor": 0
      },
      "text/plain": [
       "HBox(children=(IntProgress(value=0, description='Epoch 273', max=2131, style=ProgressStyle(description_width='…"
      ]
     },
     "metadata": {},
     "output_type": "display_data"
    },
    {
     "data": {
      "application/vnd.jupyter.widget-view+json": {
       "model_id": "",
       "version_major": 2,
       "version_minor": 0
      },
      "text/plain": [
       "HBox(children=(IntProgress(value=0, description='Epoch 274', max=2131, style=ProgressStyle(description_width='…"
      ]
     },
     "metadata": {},
     "output_type": "display_data"
    },
    {
     "data": {
      "application/vnd.jupyter.widget-view+json": {
       "model_id": "",
       "version_major": 2,
       "version_minor": 0
      },
      "text/plain": [
       "HBox(children=(IntProgress(value=0, description='Epoch 275', max=2131, style=ProgressStyle(description_width='…"
      ]
     },
     "metadata": {},
     "output_type": "display_data"
    },
    {
     "data": {
      "application/vnd.jupyter.widget-view+json": {
       "model_id": "",
       "version_major": 2,
       "version_minor": 0
      },
      "text/plain": [
       "HBox(children=(IntProgress(value=0, description='Epoch 276', max=2131, style=ProgressStyle(description_width='…"
      ]
     },
     "metadata": {},
     "output_type": "display_data"
    },
    {
     "data": {
      "application/vnd.jupyter.widget-view+json": {
       "model_id": "",
       "version_major": 2,
       "version_minor": 0
      },
      "text/plain": [
       "HBox(children=(IntProgress(value=0, description='Epoch 277', max=2131, style=ProgressStyle(description_width='…"
      ]
     },
     "metadata": {},
     "output_type": "display_data"
    },
    {
     "data": {
      "application/vnd.jupyter.widget-view+json": {
       "model_id": "",
       "version_major": 2,
       "version_minor": 0
      },
      "text/plain": [
       "HBox(children=(IntProgress(value=0, description='Epoch 278', max=2131, style=ProgressStyle(description_width='…"
      ]
     },
     "metadata": {},
     "output_type": "display_data"
    },
    {
     "data": {
      "application/vnd.jupyter.widget-view+json": {
       "model_id": "",
       "version_major": 2,
       "version_minor": 0
      },
      "text/plain": [
       "HBox(children=(IntProgress(value=0, description='Epoch 279', max=2131, style=ProgressStyle(description_width='…"
      ]
     },
     "metadata": {},
     "output_type": "display_data"
    },
    {
     "data": {
      "application/vnd.jupyter.widget-view+json": {
       "model_id": "",
       "version_major": 2,
       "version_minor": 0
      },
      "text/plain": [
       "HBox(children=(IntProgress(value=0, description='Epoch 280', max=2131, style=ProgressStyle(description_width='…"
      ]
     },
     "metadata": {},
     "output_type": "display_data"
    },
    {
     "data": {
      "application/vnd.jupyter.widget-view+json": {
       "model_id": "",
       "version_major": 2,
       "version_minor": 0
      },
      "text/plain": [
       "HBox(children=(IntProgress(value=0, description='Epoch 281', max=2131, style=ProgressStyle(description_width='…"
      ]
     },
     "metadata": {},
     "output_type": "display_data"
    },
    {
     "data": {
      "application/vnd.jupyter.widget-view+json": {
       "model_id": "",
       "version_major": 2,
       "version_minor": 0
      },
      "text/plain": [
       "HBox(children=(IntProgress(value=0, description='Epoch 282', max=2131, style=ProgressStyle(description_width='…"
      ]
     },
     "metadata": {},
     "output_type": "display_data"
    },
    {
     "data": {
      "application/vnd.jupyter.widget-view+json": {
       "model_id": "",
       "version_major": 2,
       "version_minor": 0
      },
      "text/plain": [
       "HBox(children=(IntProgress(value=0, description='Epoch 283', max=2131, style=ProgressStyle(description_width='…"
      ]
     },
     "metadata": {},
     "output_type": "display_data"
    },
    {
     "data": {
      "application/vnd.jupyter.widget-view+json": {
       "model_id": "",
       "version_major": 2,
       "version_minor": 0
      },
      "text/plain": [
       "HBox(children=(IntProgress(value=0, description='Epoch 284', max=2131, style=ProgressStyle(description_width='…"
      ]
     },
     "metadata": {},
     "output_type": "display_data"
    },
    {
     "data": {
      "application/vnd.jupyter.widget-view+json": {
       "model_id": "",
       "version_major": 2,
       "version_minor": 0
      },
      "text/plain": [
       "HBox(children=(IntProgress(value=0, description='Epoch 285', max=2131, style=ProgressStyle(description_width='…"
      ]
     },
     "metadata": {},
     "output_type": "display_data"
    },
    {
     "data": {
      "application/vnd.jupyter.widget-view+json": {
       "model_id": "",
       "version_major": 2,
       "version_minor": 0
      },
      "text/plain": [
       "HBox(children=(IntProgress(value=0, description='Epoch 286', max=2131, style=ProgressStyle(description_width='…"
      ]
     },
     "metadata": {},
     "output_type": "display_data"
    },
    {
     "data": {
      "application/vnd.jupyter.widget-view+json": {
       "model_id": "",
       "version_major": 2,
       "version_minor": 0
      },
      "text/plain": [
       "HBox(children=(IntProgress(value=0, description='Epoch 287', max=2131, style=ProgressStyle(description_width='…"
      ]
     },
     "metadata": {},
     "output_type": "display_data"
    },
    {
     "data": {
      "application/vnd.jupyter.widget-view+json": {
       "model_id": "",
       "version_major": 2,
       "version_minor": 0
      },
      "text/plain": [
       "HBox(children=(IntProgress(value=0, description='Epoch 288', max=2131, style=ProgressStyle(description_width='…"
      ]
     },
     "metadata": {},
     "output_type": "display_data"
    },
    {
     "data": {
      "application/vnd.jupyter.widget-view+json": {
       "model_id": "",
       "version_major": 2,
       "version_minor": 0
      },
      "text/plain": [
       "HBox(children=(IntProgress(value=0, description='Epoch 289', max=2131, style=ProgressStyle(description_width='…"
      ]
     },
     "metadata": {},
     "output_type": "display_data"
    },
    {
     "data": {
      "application/vnd.jupyter.widget-view+json": {
       "model_id": "",
       "version_major": 2,
       "version_minor": 0
      },
      "text/plain": [
       "HBox(children=(IntProgress(value=0, description='Epoch 290', max=2131, style=ProgressStyle(description_width='…"
      ]
     },
     "metadata": {},
     "output_type": "display_data"
    },
    {
     "data": {
      "application/vnd.jupyter.widget-view+json": {
       "model_id": "",
       "version_major": 2,
       "version_minor": 0
      },
      "text/plain": [
       "HBox(children=(IntProgress(value=0, description='Epoch 291', max=2131, style=ProgressStyle(description_width='…"
      ]
     },
     "metadata": {},
     "output_type": "display_data"
    },
    {
     "data": {
      "application/vnd.jupyter.widget-view+json": {
       "model_id": "",
       "version_major": 2,
       "version_minor": 0
      },
      "text/plain": [
       "HBox(children=(IntProgress(value=0, description='Epoch 292', max=2131, style=ProgressStyle(description_width='…"
      ]
     },
     "metadata": {},
     "output_type": "display_data"
    },
    {
     "data": {
      "application/vnd.jupyter.widget-view+json": {
       "model_id": "",
       "version_major": 2,
       "version_minor": 0
      },
      "text/plain": [
       "HBox(children=(IntProgress(value=0, description='Epoch 293', max=2131, style=ProgressStyle(description_width='…"
      ]
     },
     "metadata": {},
     "output_type": "display_data"
    },
    {
     "data": {
      "application/vnd.jupyter.widget-view+json": {
       "model_id": "",
       "version_major": 2,
       "version_minor": 0
      },
      "text/plain": [
       "HBox(children=(IntProgress(value=0, description='Epoch 294', max=2131, style=ProgressStyle(description_width='…"
      ]
     },
     "metadata": {},
     "output_type": "display_data"
    },
    {
     "data": {
      "application/vnd.jupyter.widget-view+json": {
       "model_id": "",
       "version_major": 2,
       "version_minor": 0
      },
      "text/plain": [
       "HBox(children=(IntProgress(value=0, description='Epoch 295', max=2131, style=ProgressStyle(description_width='…"
      ]
     },
     "metadata": {},
     "output_type": "display_data"
    },
    {
     "data": {
      "application/vnd.jupyter.widget-view+json": {
       "model_id": "",
       "version_major": 2,
       "version_minor": 0
      },
      "text/plain": [
       "HBox(children=(IntProgress(value=0, description='Epoch 296', max=2131, style=ProgressStyle(description_width='…"
      ]
     },
     "metadata": {},
     "output_type": "display_data"
    },
    {
     "data": {
      "application/vnd.jupyter.widget-view+json": {
       "model_id": "",
       "version_major": 2,
       "version_minor": 0
      },
      "text/plain": [
       "HBox(children=(IntProgress(value=0, description='Epoch 297', max=2131, style=ProgressStyle(description_width='…"
      ]
     },
     "metadata": {},
     "output_type": "display_data"
    },
    {
     "data": {
      "application/vnd.jupyter.widget-view+json": {
       "model_id": "",
       "version_major": 2,
       "version_minor": 0
      },
      "text/plain": [
       "HBox(children=(IntProgress(value=0, description='Epoch 298', max=2131, style=ProgressStyle(description_width='…"
      ]
     },
     "metadata": {},
     "output_type": "display_data"
    },
    {
     "data": {
      "application/vnd.jupyter.widget-view+json": {
       "model_id": "",
       "version_major": 2,
       "version_minor": 0
      },
      "text/plain": [
       "HBox(children=(IntProgress(value=0, description='Epoch 299', max=2131, style=ProgressStyle(description_width='…"
      ]
     },
     "metadata": {},
     "output_type": "display_data"
    },
    {
     "name": "stdout",
     "output_type": "stream",
     "text": [
      "\n"
     ]
    },
    {
     "data": {
      "text/html": [
       "<b> Score: 0.8311444652908068</b>"
      ],
      "text/plain": [
       "<IPython.core.display.HTML object>"
      ]
     },
     "metadata": {},
     "output_type": "display_data"
    }
   ],
   "source": [
    "model1=getModel(512,300)\n",
    "preds = model1.predict_proba(X_test)\n",
    "score=getScore(preds,y_test,num)\n",
    "display(HTML('<b> Score: {}</b>'.format(score)))"
   ]
  },
  {
   "cell_type": "markdown",
   "metadata": {},
   "source": [
    "We save the model for future predictions."
   ]
  },
  {
   "cell_type": "code",
   "execution_count": 10,
   "metadata": {},
   "outputs": [],
   "source": [
    "from keras.models import load_model\n",
    "\n",
    "model1.save('model512.h5')  # creates a HDF5 file 'my_model.h5'\n",
    "del model1  # deletes the existing model\n",
    "\n",
    "# returns a compiled model\n",
    "# identical to the previous one\n",
    "model1 = load_model('model512.h5')"
   ]
  },
  {
   "cell_type": "markdown",
   "metadata": {},
   "source": [
    "Finally, we check to see how the model performs if we choose the top N probabilities."
   ]
  },
  {
   "cell_type": "code",
   "execution_count": 11,
   "metadata": {},
   "outputs": [
    {
     "data": {
      "text/plain": [
       "(0, 1)"
      ]
     },
     "execution_count": 11,
     "metadata": {},
     "output_type": "execute_result"
    },
    {
     "data": {
      "image/png": "[encoded data removed]",
      "text/plain": [
       "<Figure size 432x288 with 1 Axes>"
      ]
     },
     "metadata": {
      "needs_background": "light"
     },
     "output_type": "display_data"
    }
   ],
   "source": [
    "preds = model1.predict_proba(X_test)\n",
    "score_eval = pd.DataFrame({'topN':range(1,40)})\n",
    "score_eval['error'] = score_eval['topN'].apply(lambda x: getScore(preds,y_test,x))\n",
    "score_eval.plot(x='topN',y='error',kind='scatter')\n",
    "plt.ylim(0,1)"
   ]
  },
  {
   "cell_type": "code",
   "execution_count": null,
   "metadata": {},
   "outputs": [],
   "source": [
    "\n"
   ]
  }
 ],
 "metadata": {
  "kernelspec": {
   "display_name": "Python 3",
   "language": "python",
   "name": "python3"
  },
  "language_info": {
   "codemirror_mode": {
    "name": "ipython",
    "version": 3
   },
   "file_extension": ".py",
   "mimetype": "text/x-python",
   "name": "python",
   "nbconvert_exporter": "python",
   "pygments_lexer": "ipython3",
   "version": "3.7.4"
  },
  "widgets": {
   "state": {
    "0020c65107cb4fe9a8bab79179bc370e": {
     "views": [
      {
       "cell_index": 16
      }
     ]
    },
    "01046aa309c94353a05476d03d697962": {
     "views": [
      {
       "cell_index": 16
      }
     ]
    },
    "015adf8398f04b4080e233ecf1975e7f": {
     "views": [
      {
       "cell_index": 17
      }
     ]
    },
    "01e575bd50354848ad0315f2559931eb": {
     "views": [
      {
       "cell_index": 16
      }
     ]
    },
    "02176fdea1b24e55a476eda4fc24c17e": {
     "views": [
      {
       "cell_index": 16
      }
     ]
    },
    "02f4fc302e1146c0ba4947b75422b8a2": {
     "views": [
      {
       "cell_index": 16
      }
     ]
    },
    "030e1f37818e48bfb2662d6336b65a68": {
     "views": [
      {
       "cell_index": 16
      }
     ]
    },
    "036f7559786047a28db56613fa451242": {
     "views": [
      {
       "cell_index": 16
      }
     ]
    },
    "0381c596d0d041d9a77e899a0daad0f5": {
     "views": [
      {
       "cell_index": 16
      }
     ]
    },
    "03e87acf50014a97bfc497619bf04cbe": {
     "views": [
      {
       "cell_index": 16
      }
     ]
    },
    "03eccad0ce9b4a6e8694d2bd7381b08f": {
     "views": [
      {
       "cell_index": 16
      }
     ]
    },
    "03f7b73189a1470aa45685bca1783b30": {
     "views": [
      {
       "cell_index": 16
      }
     ]
    },
    "044edf36c9a44334acd0da22101df615": {
     "views": [
      {
       "cell_index": 16
      }
     ]
    },
    "0464160ce28d4399bb984876dbbe824b": {
     "views": [
      {
       "cell_index": 16
      }
     ]
    },
    "04771c4ea8f545ada98c07f235448998": {
     "views": [
      {
       "cell_index": 16
      }
     ]
    },
    "04c40bfe4fca4d239029af2bd8d02af2": {
     "views": [
      {
       "cell_index": 16
      }
     ]
    },
    "04d161fb373443848f3925aa52a82251": {
     "views": [
      {
       "cell_index": 16
      }
     ]
    },
    "0665da099c174eb2ae52ccfadd0dbc39": {
     "views": [
      {
       "cell_index": 16
      }
     ]
    },
    "0688178a989348df86c80a01313eeb5d": {
     "views": [
      {
       "cell_index": 17
      }
     ]
    },
    "06ad15a24231469ea5c46975f5ab1f49": {
     "views": [
      {
       "cell_index": 16
      }
     ]
    },
    "06c14c338fa8416e868d8733c2ebbf2a": {
     "views": [
      {
       "cell_index": 16
      }
     ]
    },
    "06ec516c81e74c8d9e857d017c336ce0": {
     "views": [
      {
       "cell_index": 16
      }
     ]
    },
    "06f5fcccd4844122b5350921745a3e19": {
     "views": [
      {
       "cell_index": 16
      }
     ]
    },
    "07128903c63247719b3c5f96ca0cde8f": {
     "views": [
      {
       "cell_index": 16
      }
     ]
    },
    "077f0863e02c4d2fb9cc368d825de6b8": {
     "views": [
      {
       "cell_index": 16
      }
     ]
    },
    "07b4ce51adbb4a56809c37e187829a35": {
     "views": [
      {
       "cell_index": 16
      }
     ]
    },
    "080b4e2a296248c9ba7f41abcdc74246": {
     "views": [
      {
       "cell_index": 16
      }
     ]
    },
    "089a4916ec1c4fd594d3deeb2af88507": {
     "views": [
      {
       "cell_index": 16
      }
     ]
    },
    "08b59ee5647d4aeea2afb207a9829fad": {
     "views": [
      {
       "cell_index": 16
      }
     ]
    },
    "08e57f4f659b4257bbcb6cf7bb87bd87": {
     "views": [
      {
       "cell_index": 16
      }
     ]
    },
    "09000b74a6e647718f72c25fc40d2cc4": {
     "views": [
      {
       "cell_index": 16
      }
     ]
    },
    "093b77674f5647269d93b5f9c6767de6": {
     "views": [
      {
       "cell_index": 16
      }
     ]
    },
    "0977853eb5f9455aa796a88f1bf39824": {
     "views": [
      {
       "cell_index": 16
      }
     ]
    },
    "097f5ca65edd4004a3cbfd5080af87d3": {
     "views": [
      {
       "cell_index": 16
      }
     ]
    },
    "098492831f2a42ccbbe420074fa25321": {
     "views": [
      {
       "cell_index": 16
      }
     ]
    },
    "099105e8cf014021998d33fea6e62ebf": {
     "views": [
      {
       "cell_index": 16
      }
     ]
    },
    "0a0d1e81f8d54794aaff9c4c68bf3ae7": {
     "views": [
      {
       "cell_index": 16
      }
     ]
    },
    "0a78ce8e729648a3bc3bce96c9de539a": {
     "views": [
      {
       "cell_index": 16
      }
     ]
    },
    "0bbce33333d547659bc9a8fcdfc97119": {
     "views": [
      {
       "cell_index": 17
      }
     ]
    },
    "0c086526077a425fb3577ea03e22e4e1": {
     "views": [
      {
       "cell_index": 16
      }
     ]
    },
    "0d90efa5de3b43f392add975ba8c6bdf": {
     "views": [
      {
       "cell_index": 16
      }
     ]
    },
    "0dab4e80b24042c896dc9da9ddd5fa04": {
     "views": [
      {
       "cell_index": 16
      }
     ]
    },
    "0dd4ce1d9287443486d5ba0d8338a61c": {
     "views": [
      {
       "cell_index": 16
      }
     ]
    },
    "0dd6634c66bb4ac5a1de410a64cf5280": {
     "views": [
      {
       "cell_index": 16
      }
     ]
    },
    "0def7399a13c4e80b2d7131de679ef08": {
     "views": [
      {
       "cell_index": 16
      }
     ]
    },
    "0df8019b1b2443358258459724971006": {
     "views": [
      {
       "cell_index": 16
      }
     ]
    },
    "0e2adc85062a4516a98abe876c59dcec": {
     "views": [
      {
       "cell_index": 16
      }
     ]
    },
    "0eadc394c88a4667b06d5257134f7f2e": {
     "views": [
      {
       "cell_index": 16
      }
     ]
    },
    "0ed05d0861c84ee1a0fcbae0441f933b": {
     "views": [
      {
       "cell_index": 16
      }
     ]
    },
    "0f2e01118a864c54bc9e389448f69ef2": {
     "views": [
      {
       "cell_index": 16
      }
     ]
    },
    "0f7df66bf1f14d1c873013f0d67b09d1": {
     "views": [
      {
       "cell_index": 16
      }
     ]
    },
    "0f8192a3dfe74c2f9c4ace540df74f29": {
     "views": [
      {
       "cell_index": 18
      }
     ]
    },
    "0fce2da03dbd4757ab0837a62d5bfe2d": {
     "views": [
      {
       "cell_index": 16
      }
     ]
    },
    "0fea40a82d69416a9a1a705d59a603a0": {
     "views": [
      {
       "cell_index": 16
      }
     ]
    },
    "1003db8940f64528a05ed6a7f06c8032": {
     "views": [
      {
       "cell_index": 16
      }
     ]
    },
    "10573ec3ead0403ca8cd1f2be7b9ca9f": {
     "views": [
      {
       "cell_index": 16
      }
     ]
    },
    "10705b3703884d2ca9df0efb0e018616": {
     "views": [
      {
       "cell_index": 18
      }
     ]
    },
    "107ebea7b54643f89f3edb7f7607ccec": {
     "views": [
      {
       "cell_index": 16
      }
     ]
    },
    "1173d1301f3f476e8b39ea4c824563c4": {
     "views": [
      {
       "cell_index": 17
      }
     ]
    },
    "11fcd20c127d4f08bb2f22dc3a772e2c": {
     "views": [
      {
       "cell_index": 16
      }
     ]
    },
    "1253d03e8410402c893a657f016b2d83": {
     "views": [
      {
       "cell_index": 16
      }
     ]
    },
    "125998d1c4a8447ba9348de56ddb3d09": {
     "views": [
      {
       "cell_index": 16
      }
     ]
    },
    "128c61af4e754c47b5c7f2d0b58e65ef": {
     "views": [
      {
       "cell_index": 16
      }
     ]
    },
    "131a2ee7819c4a149c6405683d4473ff": {
     "views": [
      {
       "cell_index": 16
      }
     ]
    },
    "1354b1069e6a465281720c5d42d8f027": {
     "views": [
      {
       "cell_index": 16
      }
     ]
    },
    "135d816e58aa4459ab507a78aa2e94ee": {
     "views": [
      {
       "cell_index": 16
      }
     ]
    },
    "138bd0a04de746f9876299ca9cfb9276": {
     "views": [
      {
       "cell_index": 16
      }
     ]
    },
    "13d0c6e60d63465cad68417eb6d68c78": {
     "views": [
      {
       "cell_index": 16
      }
     ]
    },
    "147b66ebae2542b08a287bbd1c7877fe": {
     "views": [
      {
       "cell_index": 16
      }
     ]
    },
    "14a53eab998e49028e447351530a4ffa": {
     "views": [
      {
       "cell_index": 16
      }
     ]
    },
    "14c4386dccc247ceb99afa494a9ae88f": {
     "views": [
      {
       "cell_index": 16
      }
     ]
    },
    "14d068d48bbd4889b0e58200fb317158": {
     "views": [
      {
       "cell_index": 17
      }
     ]
    },
    "155b8bb1a72344258a9076caa24c03f2": {
     "views": [
      {
       "cell_index": 16
      }
     ]
    },
    "15cc7e7ab12c40d6baf9f87d4cbef25b": {
     "views": [
      {
       "cell_index": 16
      }
     ]
    },
    "15de3395e3c64b1981f974374854ea6c": {
     "views": [
      {
       "cell_index": 16
      }
     ]
    },
    "15fc2b953daf454f861f5345b9890755": {
     "views": [
      {
       "cell_index": 17
      }
     ]
    },
    "15fd857479c44c5383e4f3a497a5e429": {
     "views": [
      {
       "cell_index": 16
      }
     ]
    },
    "1636ea7d96214149ac2bee4ec3d1301d": {
     "views": [
      {
       "cell_index": 17
      }
     ]
    },
    "16385edc719c42eeae15cd708ec72771": {
     "views": [
      {
       "cell_index": 16
      }
     ]
    },
    "1689848661c348e4bc75f61f12bd221a": {
     "views": [
      {
       "cell_index": 16
      }
     ]
    },
    "16e0e97cf751488a9c6306ec9bf85490": {
     "views": [
      {
       "cell_index": 16
      }
     ]
    },
    "16e969ea5ac04014b37e83853d71c93d": {
     "views": [
      {
       "cell_index": 16
      }
     ]
    },
    "16f3147c3c994fa09f3e5e61bdd7b2e0": {
     "views": [
      {
       "cell_index": 16
      }
     ]
    },
    "16ff1f544b4a45d4abff261a1d675474": {
     "views": [
      {
       "cell_index": 16
      }
     ]
    },
    "172b541b104343b181b1ff1501299720": {
     "views": [
      {
       "cell_index": 16
      }
     ]
    },
    "1796a770cc774b349b1e08ec06f76eb5": {
     "views": [
      {
       "cell_index": 16
      }
     ]
    },
    "17b0183e3b8c4e8da7101be42ce1ce47": {
     "views": [
      {
       "cell_index": 16
      }
     ]
    },
    "17f5907bf0dd465ca27415f7e73296b6": {
     "views": [
      {
       "cell_index": 16
      }
     ]
    },
    "183f4897f11a4f918900ec6e12468f60": {
     "views": [
      {
       "cell_index": 16
      }
     ]
    },
    "1854ae90c27e41c48f58282eaa530d01": {
     "views": [
      {
       "cell_index": 16
      }
     ]
    },
    "1856b9595b804920988e8c88d59173f2": {
     "views": [
      {
       "cell_index": 16
      }
     ]
    },
    "18bb568cdf1b4d6b9ffc0522755f4c28": {
     "views": [
      {
       "cell_index": 16
      }
     ]
    },
    "191a94ed5e864a82ad26f42eefde79e2": {
     "views": [
      {
       "cell_index": 17
      }
     ]
    },
    "1928a5ecd9e84c7e8d121247861c3892": {
     "views": [
      {
       "cell_index": 16
      }
     ]
    },
    "196ae09a0f13474d92efe1e385af4495": {
     "views": [
      {
       "cell_index": 16
      }
     ]
    },
    "19fe55434b1f4cccbcfa1d8b3e605351": {
     "views": [
      {
       "cell_index": 16
      }
     ]
    },
    "1a0b2c8e343c49798c618101e78aa2a5": {
     "views": [
      {
       "cell_index": 16
      }
     ]
    },
    "1a34eddabd4645f98ed9cc41190c2c3f": {
     "views": [
      {
       "cell_index": 16
      }
     ]
    },
    "1a4119e9eb1e4bd9a3f9d3a36cea0c55": {
     "views": [
      {
       "cell_index": 16
      }
     ]
    },
    "1a53335ce346455a9d3de94a40902bc8": {
     "views": [
      {
       "cell_index": 16
      }
     ]
    },
    "1a999546226e48a7b6666ed6bc4a7d05": {
     "views": [
      {
       "cell_index": 16
      }
     ]
    },
    "1ad5c7fa343b4e3cb9cbd80a4240ef87": {
     "views": [
      {
       "cell_index": 16
      }
     ]
    },
    "1ae7eb6d4e2c4790acd38bf4dcc378fc": {
     "views": [
      {
       "cell_index": 16
      }
     ]
    },
    "1badab17c63042e0953de1ef6e7b26f8": {
     "views": [
      {
       "cell_index": 16
      }
     ]
    },
    "1c2501c1fdda46dba0f4b616b7fed21f": {
     "views": [
      {
       "cell_index": 16
      }
     ]
    },
    "1cc8dd34bb6c490cac4ba310fc863cd2": {
     "views": [
      {
       "cell_index": 16
      }
     ]
    },
    "1cd6b41df7474eefb0e949500025cbe2": {
     "views": [
      {
       "cell_index": 16
      }
     ]
    },
    "1ceaa5517f7b42bc8c7378fc5a71cd72": {
     "views": [
      {
       "cell_index": 16
      }
     ]
    },
    "1d50ac27bd33436c97501c0bbd538681": {
     "views": [
      {
       "cell_index": 17
      }
     ]
    },
    "1d7246ba46774e0a8d2a26201602c809": {
     "views": [
      {
       "cell_index": 16
      }
     ]
    },
    "1d83f514c22143c4afe3c845c28f6572": {
     "views": [
      {
       "cell_index": 16
      }
     ]
    },
    "1dd13fe3e0aa4418b8074e4e1aabff7a": {
     "views": [
      {
       "cell_index": 16
      }
     ]
    },
    "1e112ae16d13491992e404b7eb27946a": {
     "views": [
      {
       "cell_index": 16
      }
     ]
    },
    "1e7e00b42bff4a25ab208972d4f6b8a9": {
     "views": [
      {
       "cell_index": 16
      }
     ]
    },
    "1eeb1dbb7bba411ba652c37a0db7001a": {
     "views": [
      {
       "cell_index": 16
      }
     ]
    },
    "1f611f5d886347a79a326c314598185a": {
     "views": [
      {
       "cell_index": 16
      }
     ]
    },
    "1fad6bfe5706494ca0bdd97b99ddc0e0": {
     "views": [
      {
       "cell_index": 16
      }
     ]
    },
    "20f907c33a734c43a3ee753d049439f9": {
     "views": [
      {
       "cell_index": 16
      }
     ]
    },
    "217ce7dca8c64da2bc6243ebc8084f79": {
     "views": [
      {
       "cell_index": 16
      }
     ]
    },
    "21b7712efa7d457a827c90ec13354be0": {
     "views": [
      {
       "cell_index": 16
      }
     ]
    },
    "220293f38df04119a759f69849f84372": {
     "views": [
      {
       "cell_index": 16
      }
     ]
    },
    "22f4d2a21fbf46508c57c5e8dfa52658": {
     "views": [
      {
       "cell_index": 16
      }
     ]
    },
    "2345a9e4b3ae492cab80e03a32a5fcd7": {
     "views": [
      {
       "cell_index": 16
      }
     ]
    },
    "2363c320097949779acf87b19e9bda28": {
     "views": [
      {
       "cell_index": 16
      }
     ]
    },
    "238314ed251e4ebaadc56be27aaffba4": {
     "views": [
      {
       "cell_index": 16
      }
     ]
    },
    "23f498e94639485eb508b32825b1b44e": {
     "views": [
      {
       "cell_index": 16
      }
     ]
    },
    "24091c070c4d4060a8b6bcaaa5bb68cd": {
     "views": [
      {
       "cell_index": 16
      }
     ]
    },
    "240d06d956c24fca98d71ba65b7bc39f": {
     "views": [
      {
       "cell_index": 16
      }
     ]
    },
    "243880d28639491180a129990537b6b4": {
     "views": [
      {
       "cell_index": 16
      }
     ]
    },
    "246287592883483e93963df29b1b2cb5": {
     "views": [
      {
       "cell_index": 16
      }
     ]
    },
    "246df459828549f19256445caa6ff34f": {
     "views": [
      {
       "cell_index": 16
      }
     ]
    },
    "2481939e40e242469de652c010923de6": {
     "views": [
      {
       "cell_index": 16
      }
     ]
    },
    "25084eee082d4533b4548435a014b9a5": {
     "views": [
      {
       "cell_index": 16
      }
     ]
    },
    "25e2e88e564d44e6b3fd9508a347dc44": {
     "views": [
      {
       "cell_index": 16
      }
     ]
    },
    "26d11a316cfb418d9556e43eeb9dba9e": {
     "views": [
      {
       "cell_index": 16
      }
     ]
    },
    "26f0ec9df0194204820964af6646b76b": {
     "views": [
      {
       "cell_index": 16
      }
     ]
    },
    "26f7465f60394510b78be1b77effa140": {
     "views": [
      {
       "cell_index": 16
      }
     ]
    },
    "27385e73739a424dbf4e65f4b8452553": {
     "views": [
      {
       "cell_index": 16
      }
     ]
    },
    "27c01ebcb0904bc99a1b70be1ac03ff9": {
     "views": [
      {
       "cell_index": 16
      }
     ]
    },
    "285f1ff27b0346faaab76d82bf41f841": {
     "views": [
      {
       "cell_index": 16
      }
     ]
    },
    "28933157b02243d3b9a4ab4d96d9abd2": {
     "views": [
      {
       "cell_index": 16
      }
     ]
    },
    "28bee19eabfd4968964a1333a7acad44": {
     "views": [
      {
       "cell_index": 16
      }
     ]
    },
    "28c5409e8e8f4fb4b7960d8c89979f8e": {
     "views": [
      {
       "cell_index": 16
      }
     ]
    },
    "28daa1ff6a394b46b79d0a9bd03aa811": {
     "views": [
      {
       "cell_index": 16
      }
     ]
    },
    "291aea4e57f04355bc982bed968bf678": {
     "views": [
      {
       "cell_index": 16
      }
     ]
    },
    "29c16aaad1284613abdfbb414429a72c": {
     "views": [
      {
       "cell_index": 16
      }
     ]
    },
    "29ffa030a8854d208306532ccef3414e": {
     "views": [
      {
       "cell_index": 16
      }
     ]
    },
    "2ab20c461a0c4b9d86881f21b7c58550": {
     "views": [
      {
       "cell_index": 16
      }
     ]
    },
    "2ab8a94e2dba4080937e27c1b964b686": {
     "views": [
      {
       "cell_index": 16
      }
     ]
    },
    "2b9398c315a24e6583ef58ecfeb58e11": {
     "views": [
      {
       "cell_index": 16
      }
     ]
    },
    "2b94161aef3648bb9d0b2cbd79c78dd1": {
     "views": [
      {
       "cell_index": 16
      }
     ]
    },
    "2b9719d3fa674edf9bfa4d5190943b54": {
     "views": [
      {
       "cell_index": 16
      }
     ]
    },
    "2bddba0bccad47248ce38b6d80138e1a": {
     "views": [
      {
       "cell_index": 16
      }
     ]
    },
    "2c90b76151984bd0a46c772d395b78cc": {
     "views": [
      {
       "cell_index": 17
      }
     ]
    },
    "2cb4a076e1f54eee91f3d214e05bba9a": {
     "views": [
      {
       "cell_index": 16
      }
     ]
    },
    "2ce94d2f2b4448d39150eb306dd87101": {
     "views": [
      {
       "cell_index": 16
      }
     ]
    },
    "2d42a8df52434830af2d17f5404d2d58": {
     "views": [
      {
       "cell_index": 16
      }
     ]
    },
    "2d75d56a339946bfaea9a81b8e7d9a11": {
     "views": [
      {
       "cell_index": 16
      }
     ]
    },
    "2db6f60a88604cf280153b02bae08c6f": {
     "views": [
      {
       "cell_index": 16
      }
     ]
    },
    "2de974c3e8c84180a590cce64fd1772d": {
     "views": [
      {
       "cell_index": 16
      }
     ]
    },
    "2e2f48a3984648a78a34d278b6ef94d3": {
     "views": [
      {
       "cell_index": 16
      }
     ]
    },
    "2f061a08fded497e986d258d43f85ac1": {
     "views": [
      {
       "cell_index": 16
      }
     ]
    },
    "2f34a6709efb4e01a5569979dad25b28": {
     "views": [
      {
       "cell_index": 16
      }
     ]
    },
    "2f9e036e7dae44bdb15bab3897a9958a": {
     "views": [
      {
       "cell_index": 17
      }
     ]
    },
    "2fe7d43de1d34a4c93a252674787f193": {
     "views": [
      {
       "cell_index": 16
      }
     ]
    },
    "2ff97cba6660416e8e104214d6ea9091": {
     "views": [
      {
       "cell_index": 16
      }
     ]
    },
    "301114111c2a487fa8acc9930a316df5": {
     "views": [
      {
       "cell_index": 17
      }
     ]
    },
    "301b0a28eddf42918feade7617071452": {
     "views": [
      {
       "cell_index": 17
      }
     ]
    },
    "3023b2f9c02541239a8fb413981a7de5": {
     "views": [
      {
       "cell_index": 16
      }
     ]
    },
    "30f50c3423404060b80c495335c6c0bb": {
     "views": [
      {
       "cell_index": 16
      }
     ]
    },
    "3204142ad64e4b4ca43d606cec8ed9eb": {
     "views": [
      {
       "cell_index": 16
      }
     ]
    },
    "3222448b65d740808117fd3fbbc40478": {
     "views": [
      {
       "cell_index": 16
      }
     ]
    },
    "32772fc7bc6344ae9353515544871010": {
     "views": [
      {
       "cell_index": 16
      }
     ]
    },
    "32c46fb6842c42bbaa686d05acb2964f": {
     "views": [
      {
       "cell_index": 16
      }
     ]
    },
    "32c7d6e555404225ad8c08fdcb5fc83c": {
     "views": [
      {
       "cell_index": 16
      }
     ]
    },
    "336bf5d1a9f34b62b70f38cd0272a5d1": {
     "views": [
      {
       "cell_index": 16
      }
     ]
    },
    "33db9ce779a24bbfa6c4e2802dfd2f12": {
     "views": [
      {
       "cell_index": 18
      }
     ]
    },
    "345a7f5c933348df822394762782e1da": {
     "views": [
      {
       "cell_index": 16
      }
     ]
    },
    "346d7c1275054978853e107e47b6548d": {
     "views": [
      {
       "cell_index": 16
      }
     ]
    },
    "3481bcff54a34b1aac2d4e2715e9a3de": {
     "views": [
      {
       "cell_index": 16
      }
     ]
    },
    "3491c2079264455aa37e6da448fce6c7": {
     "views": [
      {
       "cell_index": 18
      }
     ]
    },
    "3492d69d837247c48419e4624ee6866e": {
     "views": [
      {
       "cell_index": 16
      }
     ]
    },
    "355481dab025491b94427d7fee0eea3f": {
     "views": [
      {
       "cell_index": 16
      }
     ]
    },
    "35b1ce957c2544c1a2feaf4f1b513de6": {
     "views": [
      {
       "cell_index": 16
      }
     ]
    },
    "35d8dc18aa84458bbe462b5447933a15": {
     "views": [
      {
       "cell_index": 16
      }
     ]
    },
    "3662aa41b1d148b380f4a2df28968e96": {
     "views": [
      {
       "cell_index": 16
      }
     ]
    },
    "36e4c75b2e584d8b9f60d507e9fec039": {
     "views": [
      {
       "cell_index": 16
      }
     ]
    },
    "371fabd8dfb44a1e91dba2ae40dba200": {
     "views": [
      {
       "cell_index": 16
      }
     ]
    },
    "37436716129b4a7d95d7e79b00925f84": {
     "views": [
      {
       "cell_index": 16
      }
     ]
    },
    "3765871fc05c451dbfe8b3b3c7a37529": {
     "views": [
      {
       "cell_index": 16
      }
     ]
    },
    "37a39ca6f45f44ed98696a4679e86c54": {
     "views": [
      {
       "cell_index": 18
      }
     ]
    },
    "37d77dbc03cb4e829b4a94f9e64f91ac": {
     "views": [
      {
       "cell_index": 16
      }
     ]
    },
    "3883a172f2754512bb1ea53ec1493a68": {
     "views": [
      {
       "cell_index": 16
      }
     ]
    },
    "38b15a55d414411184b923def773b092": {
     "views": [
      {
       "cell_index": 16
      }
     ]
    },
    "38d864c116d54392b023cdf7501d22cf": {
     "views": [
      {
       "cell_index": 16
      }
     ]
    },
    "39980d5c432640d98760d2647c647e5c": {
     "views": [
      {
       "cell_index": 16
      }
     ]
    },
    "39a7235d205348fa83ee6d76d3d6cd52": {
     "views": [
      {
       "cell_index": 18
      }
     ]
    },
    "3a5dacd3b7a04c4f8278652637dfc432": {
     "views": [
      {
       "cell_index": 16
      }
     ]
    },
    "3ac52809323e4e34a806aa985bb3fe9e": {
     "views": [
      {
       "cell_index": 16
      }
     ]
    },
    "3af7f89daa2244a79740419e73ed7702": {
     "views": [
      {
       "cell_index": 16
      }
     ]
    },
    "3b1f0d648c224833a9bc8763a2537618": {
     "views": [
      {
       "cell_index": 16
      }
     ]
    },
    "3b2d991fb1c54d3ebd4b8aa9a9f3c1d9": {
     "views": [
      {
       "cell_index": 16
      }
     ]
    },
    "3b79ac7bfdf24153af21ea2ab606bf97": {
     "views": [
      {
       "cell_index": 16
      }
     ]
    },
    "3c5ac542022b4d0fad8ba8026c513d6f": {
     "views": [
      {
       "cell_index": 16
      }
     ]
    },
    "3c746b38aa864ae1a0f1a703ea8d61b4": {
     "views": [
      {
       "cell_index": 16
      }
     ]
    },
    "3cdc12f313434ec09b19c641a1ed8326": {
     "views": [
      {
       "cell_index": 16
      }
     ]
    },
    "3ced2e802ac74293b0a8654aef214e95": {
     "views": [
      {
       "cell_index": 16
      }
     ]
    },
    "3d32dc0ff0894212bc605a7cc3e1296e": {
     "views": [
      {
       "cell_index": 16
      }
     ]
    },
    "3d35102ade05422fbf2f63eeccb8a587": {
     "views": [
      {
       "cell_index": 16
      }
     ]
    },
    "3d4546e45b9a4b2c911736fce6d5bb7e": {
     "views": [
      {
       "cell_index": 16
      }
     ]
    },
    "3d5693666272492ea1fd56ada82a549e": {
     "views": [
      {
       "cell_index": 16
      }
     ]
    },
    "3d794ea7bdbb4206a0b2f7654da0a0c0": {
     "views": [
      {
       "cell_index": 16
      }
     ]
    },
    "3db34cfd079440479994c09f1b94e4b4": {
     "views": [
      {
       "cell_index": 16
      }
     ]
    },
    "3dd2779b1a16421ba83975f93472941d": {
     "views": [
      {
       "cell_index": 16
      }
     ]
    },
    "3e6230c9e6d645da9beb149b6b8807db": {
     "views": [
      {
       "cell_index": 18
      }
     ]
    },
    "3e90fc60b2f84ded858883b8a8487c11": {
     "views": [
      {
       "cell_index": 16
      }
     ]
    },
    "3eeade4ec44f4457badd4a6197e88d6f": {
     "views": [
      {
       "cell_index": 16
      }
     ]
    },
    "3f28ba8fa3c646b0af4033f6ddee1d29": {
     "views": [
      {
       "cell_index": 16
      }
     ]
    },
    "3f3c7c33956447a2b185c9c81bb2c33b": {
     "views": [
      {
       "cell_index": 16
      }
     ]
    },
    "3f4adbaf29cc4a0492542018c1c546cc": {
     "views": [
      {
       "cell_index": 16
      }
     ]
    },
    "3f6b5c1c1a1647fe93bfc8b4bda9827d": {
     "views": [
      {
       "cell_index": 16
      }
     ]
    },
    "3fdd767bb0fa43a684d91448c4689179": {
     "views": [
      {
       "cell_index": 16
      }
     ]
    },
    "40aab031723b40aba2ffa4ab3a661081": {
     "views": [
      {
       "cell_index": 16
      }
     ]
    },
    "411024ff204343898f699c213dc8d61c": {
     "views": [
      {
       "cell_index": 18
      }
     ]
    },
    "41500b2813ad43e29eb68553541a9ddd": {
     "views": [
      {
       "cell_index": 16
      }
     ]
    },
    "417df20804cc4027b8698125aa6268f6": {
     "views": [
      {
       "cell_index": 16
      }
     ]
    },
    "41c97ee998d34cf6a559d215029525a8": {
     "views": [
      {
       "cell_index": 16
      }
     ]
    },
    "41e15f4d8f8d4d72a9e76ae42ce4c0d5": {
     "views": [
      {
       "cell_index": 18
      }
     ]
    },
    "41e78791068b4a36b215749d4680ca48": {
     "views": [
      {
       "cell_index": 16
      }
     ]
    },
    "424889a407d2438692266a090131c0e5": {
     "views": [
      {
       "cell_index": 16
      }
     ]
    },
    "425f34a8dc494a2eaba40fbf8d8a11a1": {
     "views": [
      {
       "cell_index": 16
      }
     ]
    },
    "42f874a342f641a1b1928ce24596f1de": {
     "views": [
      {
       "cell_index": 16
      }
     ]
    },
    "4309b0718d6c4e219b7a14cb62511761": {
     "views": [
      {
       "cell_index": 17
      }
     ]
    },
    "43dc4d1995044c799c4bd42a1cee9d20": {
     "views": [
      {
       "cell_index": 16
      }
     ]
    },
    "43e1048e19e74d63bb040e29e16b960c": {
     "views": [
      {
       "cell_index": 16
      }
     ]
    },
    "441eae2eac0340a68ceb8749e7ccec90": {
     "views": [
      {
       "cell_index": 16
      }
     ]
    },
    "44927aa3dd2f4cc796494e92facac8d8": {
     "views": [
      {
       "cell_index": 16
      }
     ]
    },
    "4554376d635e4af085db06670cfe91bd": {
     "views": [
      {
       "cell_index": 16
      }
     ]
    },
    "459404280653468cb3220c035aaa5a7f": {
     "views": [
      {
       "cell_index": 18
      }
     ]
    },
    "45e13533bda545fda19cdd877f776183": {
     "views": [
      {
       "cell_index": 16
      }
     ]
    },
    "45f8dca80a5d4e12ba3cd39adec64616": {
     "views": [
      {
       "cell_index": 16
      }
     ]
    },
    "460980b8bfc846758fa2fbdd82d60fac": {
     "views": [
      {
       "cell_index": 16
      }
     ]
    },
    "46228f952f374fb390807b5ad009b7c7": {
     "views": [
      {
       "cell_index": 16
      }
     ]
    },
    "4624e593593f49d4b5719634aeb2855b": {
     "views": [
      {
       "cell_index": 16
      }
     ]
    },
    "464706ba4f1f4e068b750199a3170fff": {
     "views": [
      {
       "cell_index": 16
      }
     ]
    },
    "46b1a35875744df5845af20b88322803": {
     "views": [
      {
       "cell_index": 16
      }
     ]
    },
    "4713005262364596b03b8194a19cce55": {
     "views": [
      {
       "cell_index": 16
      }
     ]
    },
    "4726bff0c93447c889be5924ac6431e0": {
     "views": [
      {
       "cell_index": 16
      }
     ]
    },
    "47869f44d4724e48b821a931713e3763": {
     "views": [
      {
       "cell_index": 16
      }
     ]
    },
    "47a8bc3d32794498b04df712aea83817": {
     "views": [
      {
       "cell_index": 16
      }
     ]
    },
    "480fcfdb6ed34dc3a19bc30978a1ae4d": {
     "views": [
      {
       "cell_index": 16
      }
     ]
    },
    "481aebce078e4ba1b4ef3a9c255fada8": {
     "views": [
      {
       "cell_index": 16
      }
     ]
    },
    "486487205c2c4ebb801e2c9402cd018a": {
     "views": [
      {
       "cell_index": 16
      }
     ]
    },
    "4901025ed9f34b4c963d9efcba967304": {
     "views": [
      {
       "cell_index": 16
      }
     ]
    },
    "4a2c1130547e4243947441f87b9910ef": {
     "views": [
      {
       "cell_index": 16
      }
     ]
    },
    "4ab3e5bca527473d9c6775780f4d7750": {
     "views": [
      {
       "cell_index": 16
      }
     ]
    },
    "4ac6bfcb2d13411bbd164fce74fe2b5f": {
     "views": [
      {
       "cell_index": 16
      }
     ]
    },
    "4b37407a91cd4de09d22dcc060a45978": {
     "views": [
      {
       "cell_index": 16
      }
     ]
    },
    "4bcc5c476fed4021b0d5cac37e3bc758": {
     "views": [
      {
       "cell_index": 18
      }
     ]
    },
    "4c02d393b0194aaba83a2afed21fc6f4": {
     "views": [
      {
       "cell_index": 16
      }
     ]
    },
    "4c2199c06ff6447cb66f8ce58842e33b": {
     "views": [
      {
       "cell_index": 16
      }
     ]
    },
    "4cc77b31940b44adac64108df4d40abc": {
     "views": [
      {
       "cell_index": 16
      }
     ]
    },
    "4d494d6878ab420e851540bb5f11c488": {
     "views": [
      {
       "cell_index": 16
      }
     ]
    },
    "4d6224fc28eb429f8353a090eb026d5e": {
     "views": [
      {
       "cell_index": 16
      }
     ]
    },
    "4d7e34aac202424dbc25a85d24b55030": {
     "views": [
      {
       "cell_index": 16
      }
     ]
    },
    "4d841032161b45adb6606ae01813481f": {
     "views": [
      {
       "cell_index": 16
      }
     ]
    },
    "4dd56c574e2a484e885f6621b4496f2d": {
     "views": [
      {
       "cell_index": 16
      }
     ]
    },
    "4de28900a19c4a769f4e491f4754f114": {
     "views": [
      {
       "cell_index": 16
      }
     ]
    },
    "4df61882fa4d4bf4b9001c589599fcc7": {
     "views": [
      {
       "cell_index": 16
      }
     ]
    },
    "4e02209ec7cc48b79b6562c5fac7926a": {
     "views": [
      {
       "cell_index": 16
      }
     ]
    },
    "4e4c3342ac694cc98daad3f31b4969bb": {
     "views": [
      {
       "cell_index": 16
      }
     ]
    },
    "4e9a4aad022d44b9b365a674685f304d": {
     "views": [
      {
       "cell_index": 16
      }
     ]
    },
    "4eaefc453bea45c6ac154ff12990e7d5": {
     "views": [
      {
       "cell_index": 16
      }
     ]
    },
    "4fcd35b4c0304f2fa5b274454b9a7ee4": {
     "views": [
      {
       "cell_index": 16
      }
     ]
    },
    "500d24e9b24641adb6cb4e3c40ad02ac": {
     "views": [
      {
       "cell_index": 16
      }
     ]
    },
    "50758de81ddb401498b6c9c6ec47d374": {
     "views": [
      {
       "cell_index": 16
      }
     ]
    },
    "508db3978837453e985552b3bcf70ca7": {
     "views": [
      {
       "cell_index": 16
      }
     ]
    },
    "50f204c48866448d883eaec7ac27202d": {
     "views": [
      {
       "cell_index": 16
      }
     ]
    },
    "5146ef662fd6449a86cb66856182de41": {
     "views": [
      {
       "cell_index": 16
      }
     ]
    },
    "514b5a183b8c42649a316b771bb0f27b": {
     "views": [
      {
       "cell_index": 16
      }
     ]
    },
    "51c8162cd17247cf9a0288139347e975": {
     "views": [
      {
       "cell_index": 16
      }
     ]
    },
    "51d88354a630478580436192886cf687": {
     "views": [
      {
       "cell_index": 16
      }
     ]
    },
    "51eecef1daf54cccbb35294b4dc371e2": {
     "views": [
      {
       "cell_index": 16
      }
     ]
    },
    "521a20ad83bc4380891d9cb138fbd681": {
     "views": [
      {
       "cell_index": 16
      }
     ]
    },
    "52abdeabb89b4e2b9650fe2af8a67ebb": {
     "views": [
      {
       "cell_index": 16
      }
     ]
    },
    "52ca0a9a5e3b4687940563a7b8569342": {
     "views": [
      {
       "cell_index": 16
      }
     ]
    },
    "52cff05039994d8e8c480f1bc3200db6": {
     "views": [
      {
       "cell_index": 16
      }
     ]
    },
    "52de97223f2848e7b6c8fba317e41549": {
     "views": [
      {
       "cell_index": 16
      }
     ]
    },
    "53102060d95a4af080a057b27b149a81": {
     "views": [
      {
       "cell_index": 16
      }
     ]
    },
    "533754d9db274fc7aff3181529a15fe3": {
     "views": [
      {
       "cell_index": 16
      }
     ]
    },
    "533f1b59e1484aacb9abf712fe6be71f": {
     "views": [
      {
       "cell_index": 16
      }
     ]
    },
    "535621b1b66c4bf2a8541356a47f1609": {
     "views": [
      {
       "cell_index": 16
      }
     ]
    },
    "538e9d254f69442783657468fa33f8e2": {
     "views": [
      {
       "cell_index": 16
      }
     ]
    },
    "53b13cf317c94269942414bd47523144": {
     "views": [
      {
       "cell_index": 16
      }
     ]
    },
    "5420a09831504b33912b9faa7e49ae28": {
     "views": [
      {
       "cell_index": 16
      }
     ]
    },
    "54230bb1648a4d909f3e728cd0aa21b7": {
     "views": [
      {
       "cell_index": 16
      }
     ]
    },
    "5426846524d94cd888a42197aa821f61": {
     "views": [
      {
       "cell_index": 16
      }
     ]
    },
    "54672fcf68e449c1938a0c540545cb99": {
     "views": [
      {
       "cell_index": 16
      }
     ]
    },
    "54dd6dc62e0740f69918f054886170d4": {
     "views": [
      {
       "cell_index": 16
      }
     ]
    },
    "54ec02fab89b4594b198f2b29e5d933b": {
     "views": [
      {
       "cell_index": 16
      }
     ]
    },
    "5554ea2d9bae4fe9a166a54bc0b0bc88": {
     "views": [
      {
       "cell_index": 16
      }
     ]
    },
    "558abfb7d14a42748020c9b63633df10": {
     "views": [
      {
       "cell_index": 16
      }
     ]
    },
    "55e142782d8a4ab7970e1b564e16c6bc": {
     "views": [
      {
       "cell_index": 16
      }
     ]
    },
    "55e4ce1a37644311acfb71819f188a53": {
     "views": [
      {
       "cell_index": 16
      }
     ]
    },
    "56a76310807449beb7ba5da2ffaf33ce": {
     "views": [
      {
       "cell_index": 16
      }
     ]
    },
    "56d0b419c15f4f789da93a83df91b64b": {
     "views": [
      {
       "cell_index": 16
      }
     ]
    },
    "56e8ec70b2cf4435bf6c103e265ce39d": {
     "views": [
      {
       "cell_index": 16
      }
     ]
    },
    "56f54a63fd5644cdb1a148a4d34b0c28": {
     "views": [
      {
       "cell_index": 16
      }
     ]
    },
    "56f8959efb8047d9a3944964dbef1817": {
     "views": [
      {
       "cell_index": 16
      }
     ]
    },
    "5704618499c9452a934c30437c2cbe3c": {
     "views": [
      {
       "cell_index": 16
      }
     ]
    },
    "5725020388f149088d48d6c38dc1c2a6": {
     "views": [
      {
       "cell_index": 16
      }
     ]
    },
    "58331f93dca7493299c1340602a463cc": {
     "views": [
      {
       "cell_index": 16
      }
     ]
    },
    "587e3e20f5b142029ccc81251e9c8aad": {
     "views": [
      {
       "cell_index": 16
      }
     ]
    },
    "589017655dab4e35990f86cdebd31b27": {
     "views": [
      {
       "cell_index": 16
      }
     ]
    },
    "58ce68a7d8db459d9dd77f1820855078": {
     "views": [
      {
       "cell_index": 16
      }
     ]
    },
    "5900f75f7e39457984a51ee0c1201773": {
     "views": [
      {
       "cell_index": 16
      }
     ]
    },
    "593dc022d4e844efb1bbf9fce2faf10c": {
     "views": [
      {
       "cell_index": 16
      }
     ]
    },
    "59f0410e062f4aabae37d90cc86ccbe5": {
     "views": [
      {
       "cell_index": 16
      }
     ]
    },
    "5a1ef164d4f648f584a623ef9d9eb9fc": {
     "views": [
      {
       "cell_index": 16
      }
     ]
    },
    "5a246a758a624b6d8621fc6d6c19716a": {
     "views": [
      {
       "cell_index": 16
      }
     ]
    },
    "5a2faec683e248929a36b292c565543d": {
     "views": [
      {
       "cell_index": 16
      }
     ]
    },
    "5a857e998c9e4a6584227d0b4520061b": {
     "views": [
      {
       "cell_index": 16
      }
     ]
    },
    "5aa60394e5544b7d8d9eb6052ed83f3e": {
     "views": [
      {
       "cell_index": 16
      }
     ]
    },
    "5aff4a1b082b4ddbaab4a47ad91887a3": {
     "views": [
      {
       "cell_index": 16
      }
     ]
    },
    "5b55a5410dbd4b518eae81a6ffba01be": {
     "views": [
      {
       "cell_index": 16
      }
     ]
    },
    "5c0514d297ce476fbb9c0baf49a4ddbe": {
     "views": [
      {
       "cell_index": 16
      }
     ]
    },
    "5c1cae2aa27046fa8f60da9b79f6ad3e": {
     "views": [
      {
       "cell_index": 16
      }
     ]
    },
    "5c4e66af4b21406c9a55ae664871cd13": {
     "views": [
      {
       "cell_index": 16
      }
     ]
    },
    "5c88ddbe9d99449dafc0fb7af8843122": {
     "views": [
      {
       "cell_index": 16
      }
     ]
    },
    "5cc8a6bbfc7e4c2389978bc1ae116013": {
     "views": [
      {
       "cell_index": 16
      }
     ]
    },
    "5d1fb4a71fdd46ac94107d0f6bc49cdd": {
     "views": [
      {
       "cell_index": 16
      }
     ]
    },
    "5e30f94b637c42ba81753b086e988de0": {
     "views": [
      {
       "cell_index": 16
      }
     ]
    },
    "5e89ef6123ff4957a8ef4a2103ad853a": {
     "views": [
      {
       "cell_index": 16
      }
     ]
    },
    "5f7862509fab42d7a82590d9477a2614": {
     "views": [
      {
       "cell_index": 16
      }
     ]
    },
    "5f8eb10ea8ad431db32c3ae41ce124f9": {
     "views": [
      {
       "cell_index": 16
      }
     ]
    },
    "5fa6ca68cde74b0f913fc0896ba7be7a": {
     "views": [
      {
       "cell_index": 16
      }
     ]
    },
    "5fefac771285427d9da159fd6d9712d4": {
     "views": [
      {
       "cell_index": 16
      }
     ]
    },
    "6010a180d4f14cbf9b59e84a9e25b7f6": {
     "views": [
      {
       "cell_index": 16
      }
     ]
    },
    "6013bce2eee04760a8521066673a5be6": {
     "views": [
      {
       "cell_index": 16
      }
     ]
    },
    "6059d3ec88854251a70d80fd8b17730d": {
     "views": [
      {
       "cell_index": 16
      }
     ]
    },
    "60b2c5a585114cff932afafe04f8817e": {
     "views": [
      {
       "cell_index": 18
      }
     ]
    },
    "60db34a85c144be3a65af1359a7599eb": {
     "views": [
      {
       "cell_index": 16
      }
     ]
    },
    "6199443dfa8740d6ba327b0596fcf0e6": {
     "views": [
      {
       "cell_index": 16
      }
     ]
    },
    "628f4fa7c4a04933b5c373d2ccbfb6f4": {
     "views": [
      {
       "cell_index": 16
      }
     ]
    },
    "6290991ca2c94ab6afd798229c715281": {
     "views": [
      {
       "cell_index": 16
      }
     ]
    },
    "6293c176c47443c5a1ebf2db49d571bf": {
     "views": [
      {
       "cell_index": 16
      }
     ]
    },
    "634d37f4a3e84d2d8a81e3548217fe24": {
     "views": [
      {
       "cell_index": 16
      }
     ]
    },
    "63d4716a57da448b9502132a2a73555f": {
     "views": [
      {
       "cell_index": 16
      }
     ]
    },
    "6400120dd02f4c048da6d760da8d950f": {
     "views": [
      {
       "cell_index": 16
      }
     ]
    },
    "64e9624846444afeac614561e36df629": {
     "views": [
      {
       "cell_index": 16
      }
     ]
    },
    "652a1e9280954bf497a8c8e5c6e08f14": {
     "views": [
      {
       "cell_index": 16
      }
     ]
    },
    "652d0a20f2524e9197d24d16d2eeab94": {
     "views": [
      {
       "cell_index": 16
      }
     ]
    },
    "65891da836c44613a5f85f4215b9017d": {
     "views": [
      {
       "cell_index": 16
      }
     ]
    },
    "65ad32980ad14779b8eee948d5b84107": {
     "views": [
      {
       "cell_index": 16
      }
     ]
    },
    "6648e4f0226f41ad8e6a62b854c4782d": {
     "views": [
      {
       "cell_index": 16
      }
     ]
    },
    "6667ad85e0924eaa87c96ac672620c99": {
     "views": [
      {
       "cell_index": 16
      }
     ]
    },
    "6683187f21664587adb757c6c812efee": {
     "views": [
      {
       "cell_index": 16
      }
     ]
    },
    "668cf74e4f134efe92a895b092ddb900": {
     "views": [
      {
       "cell_index": 16
      }
     ]
    },
    "669983ffd4624771abd51c836ac0e74f": {
     "views": [
      {
       "cell_index": 16
      }
     ]
    },
    "671cffc1329a45f38ffab649d8dc5d0f": {
     "views": [
      {
       "cell_index": 16
      }
     ]
    },
    "67245b136b6e4a84b3cd611f582b834d": {
     "views": [
      {
       "cell_index": 17
      }
     ]
    },
    "6788e81681db47859ece6284e51e2a21": {
     "views": [
      {
       "cell_index": 16
      }
     ]
    },
    "67d5d2fda9294f1a9bc5e2269a930971": {
     "views": [
      {
       "cell_index": 16
      }
     ]
    },
    "67e3f7098cf84d439714324f8aaf7d21": {
     "views": [
      {
       "cell_index": 16
      }
     ]
    },
    "680be900de35462bbac30dd1fb6f661a": {
     "views": [
      {
       "cell_index": 16
      }
     ]
    },
    "680cbe47b55d4e48be154f56305622cf": {
     "views": [
      {
       "cell_index": 16
      }
     ]
    },
    "68154ad0c17c4be9b9ce8bbca1525461": {
     "views": [
      {
       "cell_index": 16
      }
     ]
    },
    "68159d0eea9645f3adff59c952d51145": {
     "views": [
      {
       "cell_index": 16
      }
     ]
    },
    "68d828433549465fa2b8bca57b367d8f": {
     "views": [
      {
       "cell_index": 16
      }
     ]
    },
    "6968309af5504f6db3eeebc036dbd4a4": {
     "views": [
      {
       "cell_index": 16
      }
     ]
    },
    "6a2cd87c07384a03b567b88978484cca": {
     "views": [
      {
       "cell_index": 16
      }
     ]
    },
    "6b38abeda54340629d6aa646fc322b6f": {
     "views": [
      {
       "cell_index": 16
      }
     ]
    },
    "6b398e5e508944af90b4c89efbd1c320": {
     "views": [
      {
       "cell_index": 16
      }
     ]
    },
    "6b6fce51db6849628bfcda288f87f065": {
     "views": [
      {
       "cell_index": 16
      }
     ]
    },
    "6b7e69aff5694b37b3f8f5da72f1768a": {
     "views": [
      {
       "cell_index": 16
      }
     ]
    },
    "6bbf452278ae4493a3906b9cedaa2c15": {
     "views": [
      {
       "cell_index": 16
      }
     ]
    },
    "6bd800c0c1384285af9e603dd222184d": {
     "views": [
      {
       "cell_index": 16
      }
     ]
    },
    "6c100dd8650d409ca2bd0b6e6747a898": {
     "views": [
      {
       "cell_index": 16
      }
     ]
    },
    "6c2fd50a4cea49508b3fffc597d50b91": {
     "views": [
      {
       "cell_index": 16
      }
     ]
    },
    "6c5999c5629b40308d07887be0c76b31": {
     "views": [
      {
       "cell_index": 16
      }
     ]
    },
    "6c7f7cd181ab4d7bb535714d6cc2d375": {
     "views": [
      {
       "cell_index": 16
      }
     ]
    },
    "6c91b783d8d54594ada4d8e0086def0a": {
     "views": [
      {
       "cell_index": 16
      }
     ]
    },
    "6c99eb5d440a41abafcddf61305b3f02": {
     "views": [
      {
       "cell_index": 16
      }
     ]
    },
    "6d0783d4978d432498048279c483e8e2": {
     "views": [
      {
       "cell_index": 16
      }
     ]
    },
    "6d0e369d0f46471492f2ef0a042fcf43": {
     "views": [
      {
       "cell_index": 16
      }
     ]
    },
    "6d288a1a7916425da0214982f2395911": {
     "views": [
      {
       "cell_index": 16
      }
     ]
    },
    "6d3fde7a3dfc4ca5b3369b2791b69f7a": {
     "views": [
      {
       "cell_index": 17
      }
     ]
    },
    "6d8e1621b9194727aa902441a8350827": {
     "views": [
      {
       "cell_index": 16
      }
     ]
    },
    "6dac98bd2e914724bc043f4b7eec8995": {
     "views": [
      {
       "cell_index": 16
      }
     ]
    },
    "6e18f8d684ba4f83bd29223284feca65": {
     "views": [
      {
       "cell_index": 16
      }
     ]
    },
    "6eababbf1d174f90bd52ba8d7e563f1f": {
     "views": [
      {
       "cell_index": 16
      }
     ]
    },
    "6eb93660a8984589b01a7c0f7ff92909": {
     "views": [
      {
       "cell_index": 16
      }
     ]
    },
    "6eca1a06b53e45a3aaf353dbdf11b027": {
     "views": [
      {
       "cell_index": 16
      }
     ]
    },
    "6ef555b7e14543c78c0cc80ac7508b88": {
     "views": [
      {
       "cell_index": 16
      }
     ]
    },
    "6f806828938d4e96b7bcb0269059e1dd": {
     "views": [
      {
       "cell_index": 16
      }
     ]
    },
    "6f88690e1f504e8b8557d0f336da3a6f": {
     "views": [
      {
       "cell_index": 16
      }
     ]
    },
    "6fb56629cd9242488d0ae51adbc66a9e": {
     "views": [
      {
       "cell_index": 16
      }
     ]
    },
    "6fcba926453a443fb52099a2c66eb006": {
     "views": [
      {
       "cell_index": 16
      }
     ]
    },
    "70332e54bb8f4f2aa94e61fd0632f8f2": {
     "views": [
      {
       "cell_index": 16
      }
     ]
    },
    "703dcba2ff3b42269ffc75381bd2baf1": {
     "views": [
      {
       "cell_index": 16
      }
     ]
    },
    "7046defdf33842fc8a995935c1898ca7": {
     "views": [
      {
       "cell_index": 17
      }
     ]
    },
    "70a18b8c4ead41c0a0d9ac3ae4d543c4": {
     "views": [
      {
       "cell_index": 16
      }
     ]
    },
    "70b489b4eab748a088433727dd469ec4": {
     "views": [
      {
       "cell_index": 16
      }
     ]
    },
    "70f2530f7f39416e95d75c26b9e053a0": {
     "views": [
      {
       "cell_index": 16
      }
     ]
    },
    "713b557c6ea042eb97822dd038d1040a": {
     "views": [
      {
       "cell_index": 16
      }
     ]
    },
    "721fad0867f14b2ebe87a42d0157b05e": {
     "views": [
      {
       "cell_index": 16
      }
     ]
    },
    "728213d82cfc4d259eb144d5d0082343": {
     "views": [
      {
       "cell_index": 16
      }
     ]
    },
    "72a848f9fcf44b8aa076f461d8075e46": {
     "views": [
      {
       "cell_index": 16
      }
     ]
    },
    "7313d370aaaf414a96d0814639121b30": {
     "views": [
      {
       "cell_index": 16
      }
     ]
    },
    "748331e8caec41fca952478c5d52d66f": {
     "views": [
      {
       "cell_index": 16
      }
     ]
    },
    "75ea3d6dbe994d8682848b9bdfc90da1": {
     "views": [
      {
       "cell_index": 16
      }
     ]
    },
    "762a692a79eb4315831ddffa22414769": {
     "views": [
      {
       "cell_index": 16
      }
     ]
    },
    "7654613100ce47bb95822b048279344b": {
     "views": [
      {
       "cell_index": 16
      }
     ]
    },
    "7791c0bf35714f54a35e1ee9ac9ed899": {
     "views": [
      {
       "cell_index": 16
      }
     ]
    },
    "77b219ce76034eeb860ea86219aaa7c6": {
     "views": [
      {
       "cell_index": 16
      }
     ]
    },
    "78d7dd3e724f4d86a348d5257780d11a": {
     "views": [
      {
       "cell_index": 16
      }
     ]
    },
    "78dfdac475fd43fca20ddbfc814ac78a": {
     "views": [
      {
       "cell_index": 16
      }
     ]
    },
    "796ac7c3b2e74a6d8087b4fbc2387da2": {
     "views": [
      {
       "cell_index": 16
      }
     ]
    },
    "79a8b68747114d3ea1ec30c5ba462d88": {
     "views": [
      {
       "cell_index": 16
      }
     ]
    },
    "7a4cfa7e2fe0407a8362c484ef02bc5e": {
     "views": [
      {
       "cell_index": 17
      }
     ]
    },
    "7a87b47f11804c1eb494cbec42b66092": {
     "views": [
      {
       "cell_index": 16
      }
     ]
    },
    "7a9152868ce34c79a7fd016cb8e5bb1f": {
     "views": [
      {
       "cell_index": 16
      }
     ]
    },
    "7ab5971b760b4c60b837eea2377935d7": {
     "views": [
      {
       "cell_index": 16
      }
     ]
    },
    "7ac4064474494efe9be4e65868cc5d10": {
     "views": [
      {
       "cell_index": 16
      }
     ]
    },
    "7ad14e46811c484aa0aa550f599eb613": {
     "views": [
      {
       "cell_index": 16
      }
     ]
    },
    "7aece3a1999b49028b2e8ff7525eafb0": {
     "views": [
      {
       "cell_index": 16
      }
     ]
    },
    "7b303d3ae3564280bb7d01ddf913f4d3": {
     "views": [
      {
       "cell_index": 16
      }
     ]
    },
    "7b38d9b4b6b84550b0de8a617db9c426": {
     "views": [
      {
       "cell_index": 16
      }
     ]
    },
    "7b4e1633cf5749f19019f86ffa9776b3": {
     "views": [
      {
       "cell_index": 16
      }
     ]
    },
    "7b722fd3f9f54ff3ad405e3db7533100": {
     "views": [
      {
       "cell_index": 16
      }
     ]
    },
    "7bb82593decf41948fa1a472b2953a9a": {
     "views": [
      {
       "cell_index": 16
      }
     ]
    },
    "7bbe3b7870454ccdbdb10ca7ef7a36cd": {
     "views": [
      {
       "cell_index": 16
      }
     ]
    },
    "7cd99378560440649271bb6146c994f6": {
     "views": [
      {
       "cell_index": 16
      }
     ]
    },
    "7d1ab3b319ce4a1abaf344d93dc7b892": {
     "views": [
      {
       "cell_index": 16
      }
     ]
    },
    "7de52eac89e94a7b8efee29307abfa5d": {
     "views": [
      {
       "cell_index": 18
      }
     ]
    },
    "7e258ec151b24ce4a4a224ed3c88f58d": {
     "views": [
      {
       "cell_index": 16
      }
     ]
    },
    "7e7da1b737ab45499c46cbcb1a49d3f6": {
     "views": [
      {
       "cell_index": 16
      }
     ]
    },
    "7e9d4ce99df9441298552f1f43a08d26": {
     "views": [
      {
       "cell_index": 16
      }
     ]
    },
    "7f25c1812fc24cf2a0ed1388e0456fbf": {
     "views": [
      {
       "cell_index": 16
      }
     ]
    },
    "7f720ae5be004bbeb6055d07e81bf103": {
     "views": [
      {
       "cell_index": 16
      }
     ]
    },
    "804f574cda854ba3b42b99ba900ae603": {
     "views": [
      {
       "cell_index": 16
      }
     ]
    },
    "80aa3ab4b0374b10ae01519b80f93d4c": {
     "views": [
      {
       "cell_index": 16
      }
     ]
    },
    "813b15fc2f3c49c19b836fb79a491722": {
     "views": [
      {
       "cell_index": 16
      }
     ]
    },
    "815099fad5404e71b05af32c8d9093a2": {
     "views": [
      {
       "cell_index": 16
      }
     ]
    },
    "8162c24774604c3cb1c6d6c9296087d5": {
     "views": [
      {
       "cell_index": 16
      }
     ]
    },
    "816e955791e043ee81dfaf707270b99f": {
     "views": [
      {
       "cell_index": 16
      }
     ]
    },
    "81aeb752b00f4b479a36a7db2d7c1b3a": {
     "views": [
      {
       "cell_index": 16
      }
     ]
    },
    "81f226e2b1614c02a03e9ad5d9df135e": {
     "views": [
      {
       "cell_index": 16
      }
     ]
    },
    "82385e69574b4a17bf9357ad5a57527c": {
     "views": [
      {
       "cell_index": 16
      }
     ]
    },
    "8294ffde0c4f4bb094ed4be2468e4dfc": {
     "views": [
      {
       "cell_index": 16
      }
     ]
    },
    "82cec8f545f74de98ac83f55afc598f8": {
     "views": [
      {
       "cell_index": 16
      }
     ]
    },
    "82edfad39bf742d781e0c0ade9f73a5b": {
     "views": [
      {
       "cell_index": 16
      }
     ]
    },
    "832784de30a64ff7b4f9da4ab70872dd": {
     "views": [
      {
       "cell_index": 16
      }
     ]
    },
    "8339ad52f2e04329b77f3df364d21748": {
     "views": [
      {
       "cell_index": 16
      }
     ]
    },
    "833c94912ba84d8aab165fbbee9d42d1": {
     "views": [
      {
       "cell_index": 16
      }
     ]
    },
    "835ff493ff364a1c8faac101702d6a37": {
     "views": [
      {
       "cell_index": 16
      }
     ]
    },
    "83802ad50cc44355acbdbe2d9f40f284": {
     "views": [
      {
       "cell_index": 16
      }
     ]
    },
    "83bc2ce3e3c449d0a7110d847e98f5df": {
     "views": [
      {
       "cell_index": 16
      }
     ]
    },
    "843a7cd34e47493e9dc959805ea18de0": {
     "views": [
      {
       "cell_index": 16
      }
     ]
    },
    "848edafef0c3441e98ae92ec792121de": {
     "views": [
      {
       "cell_index": 16
      }
     ]
    },
    "84fc5c85a15d4b58a96108fade0af2b5": {
     "views": [
      {
       "cell_index": 16
      }
     ]
    },
    "85076e288dad43c596382e1bb247356f": {
     "views": [
      {
       "cell_index": 16
      }
     ]
    },
    "85aea73b38d9464689b997b91ae97c0d": {
     "views": [
      {
       "cell_index": 16
      }
     ]
    },
    "85f5313db981445babb3f42899129e4b": {
     "views": [
      {
       "cell_index": 16
      }
     ]
    },
    "871f62cd337745dbb18af9c9cd33fa27": {
     "views": [
      {
       "cell_index": 16
      }
     ]
    },
    "878cddb213f24166b2230d5d75880c66": {
     "views": [
      {
       "cell_index": 16
      }
     ]
    },
    "87d00423957947478daeae7e07f8c1a8": {
     "views": [
      {
       "cell_index": 16
      }
     ]
    },
    "881d76a089e54146b812662979b2ae9e": {
     "views": [
      {
       "cell_index": 16
      }
     ]
    },
    "884368f9fb61487eabcfbb6952260afb": {
     "views": [
      {
       "cell_index": 16
      }
     ]
    },
    "8853b4a706ac4cd4b132bf6be9c71c8f": {
     "views": [
      {
       "cell_index": 16
      }
     ]
    },
    "899dba6f64e8467191d1429c4f29113a": {
     "views": [
      {
       "cell_index": 16
      }
     ]
    },
    "89b266d06e904bc2b02ce3d341537fd6": {
     "views": [
      {
       "cell_index": 16
      }
     ]
    },
    "89e6c584ea234084892295428ae6d960": {
     "views": [
      {
       "cell_index": 16
      }
     ]
    },
    "8a1b6e02b6c24be4bf75dfe49e5ba17b": {
     "views": [
      {
       "cell_index": 16
      }
     ]
    },
    "8a2ad4bf574047a8baf21ba7523ace58": {
     "views": [
      {
       "cell_index": 16
      }
     ]
    },
    "8aa2360650934cd09000d66fceb6131f": {
     "views": [
      {
       "cell_index": 16
      }
     ]
    },
    "8ab1f280c9a4437095bf262557cb8a27": {
     "views": [
      {
       "cell_index": 16
      }
     ]
    },
    "8ad3bfb8ce5847dbb4b47ff4c749ba9a": {
     "views": [
      {
       "cell_index": 16
      }
     ]
    },
    "8be8a5bd0ba6474b95bf1d432e06c623": {
     "views": [
      {
       "cell_index": 16
      }
     ]
    },
    "8c06023b56d34d6fb1ba2d7cfed41e92": {
     "views": [
      {
       "cell_index": 16
      }
     ]
    },
    "8c27b352752948b786a6fa75ef5af156": {
     "views": [
      {
       "cell_index": 16
      }
     ]
    },
    "8c2d8e448dc94472897cb317135eb60a": {
     "views": [
      {
       "cell_index": 16
      }
     ]
    },
    "8c5ac2f837dc48d993b19265cee64540": {
     "views": [
      {
       "cell_index": 16
      }
     ]
    },
    "8ccf1b7f7f534498af6a4d6f575c4437": {
     "views": [
      {
       "cell_index": 16
      }
     ]
    },
    "8cfb451ee5144700b9334334a3b06fa3": {
     "views": [
      {
       "cell_index": 16
      }
     ]
    },
    "8d3e5e8e345e4497adc1feb34ba6fb67": {
     "views": [
      {
       "cell_index": 16
      }
     ]
    },
    "8d996544b3df429e889add93e30bb98d": {
     "views": [
      {
       "cell_index": 16
      }
     ]
    },
    "8dff0939d4614376b7e1a9f4fe38bb49": {
     "views": [
      {
       "cell_index": 16
      }
     ]
    },
    "8e61c95dc07a49f3b5662b3498424ee0": {
     "views": [
      {
       "cell_index": 16
      }
     ]
    },
    "8e8532d45d324a40b58090982dd85533": {
     "views": [
      {
       "cell_index": 17
      }
     ]
    },
    "8ee33f204b1c42e3857585deb16b4c06": {
     "views": [
      {
       "cell_index": 16
      }
     ]
    },
    "8f043088b653448b9d1fa4c5bf2b827a": {
     "views": [
      {
       "cell_index": 16
      }
     ]
    },
    "8f2fa7a1132d40d9b1d84f6445a503fd": {
     "views": [
      {
       "cell_index": 16
      }
     ]
    },
    "8fcafcf1bc1e41beb41427ba9792324d": {
     "views": [
      {
       "cell_index": 16
      }
     ]
    },
    "900194ca12884a18884dee1a38995933": {
     "views": [
      {
       "cell_index": 16
      }
     ]
    },
    "906a232c48dc4805a7cf9c914533c38a": {
     "views": [
      {
       "cell_index": 16
      }
     ]
    },
    "9163ef63970449128bb2fabe32c7231b": {
     "views": [
      {
       "cell_index": 16
      }
     ]
    },
    "91a2eeca9aa34a17ad9c04ac2c6e256a": {
     "views": [
      {
       "cell_index": 18
      }
     ]
    },
    "91e2e8427e1643898234c797c5a47592": {
     "views": [
      {
       "cell_index": 16
      }
     ]
    },
    "91ed6a6ae4564c8a8074d4ec6d6c39f7": {
     "views": [
      {
       "cell_index": 17
      }
     ]
    },
    "92421e7a9c82418a8c837ede4ba710c2": {
     "views": [
      {
       "cell_index": 16
      }
     ]
    },
    "92751a101e3c45acad4a68bf1a1c8b92": {
     "views": [
      {
       "cell_index": 16
      }
     ]
    },
    "92c0196780b54981bf72db899ba966d4": {
     "views": [
      {
       "cell_index": 16
      }
     ]
    },
    "92ccdc10fefa437b9277b0625e206c29": {
     "views": [
      {
       "cell_index": 16
      }
     ]
    },
    "92d1a8ad4b83445a91b60626c659c871": {
     "views": [
      {
       "cell_index": 16
      }
     ]
    },
    "93379ea661d44e3c9b830dab988553aa": {
     "views": [
      {
       "cell_index": 16
      }
     ]
    },
    "93e80d7261ce4fff8176a55b1230dea3": {
     "views": [
      {
       "cell_index": 16
      }
     ]
    },
    "9440adf896f146fa8ca1b7747f7f5228": {
     "views": [
      {
       "cell_index": 16
      }
     ]
    },
    "9442df8ca7f1417fb067337103b7bcde": {
     "views": [
      {
       "cell_index": 16
      }
     ]
    },
    "9451c0a8f6ff4fcdb943409b2a31f070": {
     "views": [
      {
       "cell_index": 17
      }
     ]
    },
    "9464150aa5bf439ebdc68fed136aa72c": {
     "views": [
      {
       "cell_index": 16
      }
     ]
    },
    "949eb310b3e745c189c202a72bd5c21d": {
     "views": [
      {
       "cell_index": 16
      }
     ]
    },
    "94ad428cbe26400eb3eb5d27213c44eb": {
     "views": [
      {
       "cell_index": 16
      }
     ]
    },
    "94e6fec8d80b42cab9c2f4dafb45f17a": {
     "views": [
      {
       "cell_index": 16
      }
     ]
    },
    "95007f068682438490df7a33ad7264ec": {
     "views": [
      {
       "cell_index": 16
      }
     ]
    },
    "95371ba6961c442cafd99b8c4dfe2b58": {
     "views": [
      {
       "cell_index": 16
      }
     ]
    },
    "95682e84c59842ecbabb43380635a09e": {
     "views": [
      {
       "cell_index": 16
      }
     ]
    },
    "957a98473f924579a5926026d53729cd": {
     "views": [
      {
       "cell_index": 16
      }
     ]
    },
    "957d10a114574322bdf9b4170f9f5fdc": {
     "views": [
      {
       "cell_index": 16
      }
     ]
    },
    "962c49ccc1de46b783b7b8c74c3fd3a8": {
     "views": [
      {
       "cell_index": 16
      }
     ]
    },
    "9684d0a63eaa406f853fd0b0a1511f1a": {
     "views": [
      {
       "cell_index": 17
      }
     ]
    },
    "970488766fad43c88777f0c6c6b90fa2": {
     "views": [
      {
       "cell_index": 16
      }
     ]
    },
    "977b4cf48cc24d488ee7f7b167f63d26": {
     "views": [
      {
       "cell_index": 16
      }
     ]
    },
    "9786a88f9a024f2c97cd002f793bdb82": {
     "views": [
      {
       "cell_index": 16
      }
     ]
    },
    "97cb22b2ed4e467ca4fccaa60adc039d": {
     "views": [
      {
       "cell_index": 16
      }
     ]
    },
    "97d00b635ceb47d99a95021ff0003728": {
     "views": [
      {
       "cell_index": 16
      }
     ]
    },
    "97e834c79e874eae8c9d9ac8510ee537": {
     "views": [
      {
       "cell_index": 16
      }
     ]
    },
    "983e98e95238444fb4abbda708864471": {
     "views": [
      {
       "cell_index": 16
      }
     ]
    },
    "9867ff33bdfe4bdaa9d00ea9f8898ae3": {
     "views": [
      {
       "cell_index": 16
      }
     ]
    },
    "9887e2ad03b546b4a069a4246db555ed": {
     "views": [
      {
       "cell_index": 16
      }
     ]
    },
    "989b67cb64ba49399655070b96dbf9d2": {
     "views": [
      {
       "cell_index": 16
      }
     ]
    },
    "98bf8ae316694942972d1aa188068711": {
     "views": [
      {
       "cell_index": 16
      }
     ]
    },
    "98f30c6989864f60a92bdbd1d38577e7": {
     "views": [
      {
       "cell_index": 17
      }
     ]
    },
    "98f9d358d8794888828049cea69bc3a4": {
     "views": [
      {
       "cell_index": 16
      }
     ]
    },
    "995e9eece7af4e18b19f6a1a56f18265": {
     "views": [
      {
       "cell_index": 16
      }
     ]
    },
    "99750735553643ebbbd63ca7c35c9376": {
     "views": [
      {
       "cell_index": 16
      }
     ]
    },
    "9977f782d7a544bca85322c039c16a35": {
     "views": [
      {
       "cell_index": 16
      }
     ]
    },
    "9a890a7834024a08a657aecb11c43e79": {
     "views": [
      {
       "cell_index": 16
      }
     ]
    },
    "9b01b326cca24ca18f9fe2b2d8c56ae5": {
     "views": [
      {
       "cell_index": 16
      }
     ]
    },
    "9b0c0ad20e8f4b7a9c56ebdf5ac3e273": {
     "views": [
      {
       "cell_index": 16
      }
     ]
    },
    "9b5a05eab6df40a68e59eb42fa554c2b": {
     "views": [
      {
       "cell_index": 16
      }
     ]
    },
    "9b8a686a29ca43f189ac40ece7f13150": {
     "views": [
      {
       "cell_index": 16
      }
     ]
    },
    "9bea6aa9825840259ef3bfabc8dee4dd": {
     "views": [
      {
       "cell_index": 16
      }
     ]
    },
    "9c1aaa8ba02e463fb98dfdac0b27d7fa": {
     "views": [
      {
       "cell_index": 16
      }
     ]
    },
    "9cd48d958a6a4e1a9acd365bdf63675a": {
     "views": [
      {
       "cell_index": 16
      }
     ]
    },
    "9e3680a691114077b713c15e48e30cd5": {
     "views": [
      {
       "cell_index": 16
      }
     ]
    },
    "9ea4a5070f3d4909a5b9e406081060cd": {
     "views": [
      {
       "cell_index": 16
      }
     ]
    },
    "9eef41ce1fc748f1b527164da3f8d9df": {
     "views": [
      {
       "cell_index": 16
      }
     ]
    },
    "9f34404a6e7f46f69705b3d897ed8ee2": {
     "views": [
      {
       "cell_index": 16
      }
     ]
    },
    "a01d850030d04e0791fcc42d7eaf88cb": {
     "views": [
      {
       "cell_index": 16
      }
     ]
    },
    "a048ccaf06d94d5685570312244de913": {
     "views": [
      {
       "cell_index": 16
      }
     ]
    },
    "a04b624970944ccf8e9baff2ffb2f0e3": {
     "views": [
      {
       "cell_index": 16
      }
     ]
    },
    "a0a8f902de64429783b04e66433f7b9a": {
     "views": [
      {
       "cell_index": 16
      }
     ]
    },
    "a0ebd864906f45c79fdc8e079f2339c9": {
     "views": [
      {
       "cell_index": 16
      }
     ]
    },
    "a114d1942f33440ea2e017df5ea05c65": {
     "views": [
      {
       "cell_index": 18
      }
     ]
    },
    "a15bfcea9b834448bcdd92e1f75e5a67": {
     "views": [
      {
       "cell_index": 16
      }
     ]
    },
    "a1f52672c0704412916d2e84d9a7372c": {
     "views": [
      {
       "cell_index": 18
      }
     ]
    },
    "a23d089adfb24161b90224c4a00b2f99": {
     "views": [
      {
       "cell_index": 16
      }
     ]
    },
    "a26cedace24949c49327b57044db669c": {
     "views": [
      {
       "cell_index": 16
      }
     ]
    },
    "a2773fcdfc774e80add39b49747fe649": {
     "views": [
      {
       "cell_index": 16
      }
     ]
    },
    "a2aa1d1755684eadbd1379701e51ccaa": {
     "views": [
      {
       "cell_index": 16
      }
     ]
    },
    "a2b7e94753b44d91bd6c2b1d4b86530b": {
     "views": [
      {
       "cell_index": 16
      }
     ]
    },
    "a37541c455ad4fd696620a65e1efe8b5": {
     "views": [
      {
       "cell_index": 16
      }
     ]
    },
    "a3b0716d88af424c8f605c7cd1eaa6bb": {
     "views": [
      {
       "cell_index": 16
      }
     ]
    },
    "a3bf8ab976c64218bf56336274de5117": {
     "views": [
      {
       "cell_index": 16
      }
     ]
    },
    "a40ccb526fcd4af2b1504af8fc11b3bf": {
     "views": [
      {
       "cell_index": 16
      }
     ]
    },
    "a43e32495c8e48068a69e72aa55f0462": {
     "views": [
      {
       "cell_index": 18
      }
     ]
    },
    "a462d57037bd4eaa835d1f4143b00f0d": {
     "views": [
      {
       "cell_index": 16
      }
     ]
    },
    "a4aaf8c86a6a4c64a3de006a83760f1d": {
     "views": [
      {
       "cell_index": 16
      }
     ]
    },
    "a4dd56fb4b014920b78f3fa0d63b9f78": {
     "views": [
      {
       "cell_index": 16
      }
     ]
    },
    "a4fe348b757740a3a55c6c19a0686744": {
     "views": [
      {
       "cell_index": 16
      }
     ]
    },
    "a5114d1b380f4fcdad4c589d0f4a07f1": {
     "views": [
      {
       "cell_index": 16
      }
     ]
    },
    "a564eac272f343efa6e8b6776a04f79c": {
     "views": [
      {
       "cell_index": 16
      }
     ]
    },
    "a609659c67434d1ab54d96f787efecc7": {
     "views": [
      {
       "cell_index": 16
      }
     ]
    },
    "a67df3f297274fdd9e831881b40cedc0": {
     "views": [
      {
       "cell_index": 16
      }
     ]
    },
    "a68e9d959cc347ea8ae38894a3a84ed7": {
     "views": [
      {
       "cell_index": 16
      }
     ]
    },
    "a6f5309db9334e01b01874a3c5d701ce": {
     "views": [
      {
       "cell_index": 16
      }
     ]
    },
    "a7a1ab2fc32c402aa26d50204a356e3f": {
     "views": [
      {
       "cell_index": 16
      }
     ]
    },
    "a7f466b25188488e86356ff873653401": {
     "views": [
      {
       "cell_index": 16
      }
     ]
    },
    "a82fcb928b2c49e58ea9b0e9560bb1f1": {
     "views": [
      {
       "cell_index": 16
      }
     ]
    },
    "a885727111464d76bee52a2ea32c4a17": {
     "views": [
      {
       "cell_index": 16
      }
     ]
    },
    "a88f35b137104d90865e5d59537f07df": {
     "views": [
      {
       "cell_index": 18
      }
     ]
    },
    "a8c021bf462a462e94d8e2949ae8ba55": {
     "views": [
      {
       "cell_index": 16
      }
     ]
    },
    "a8c0a1c45fd14fb4a6e37ea0dce30c45": {
     "views": [
      {
       "cell_index": 16
      }
     ]
    },
    "a8c4243f2a55401da80da2f8645ca2f0": {
     "views": [
      {
       "cell_index": 16
      }
     ]
    },
    "a95231a0ce694c95bec4ef173cce9183": {
     "views": [
      {
       "cell_index": 18
      }
     ]
    },
    "a9b23d8ff9bc4fa3bd58b0ae365ac6ac": {
     "views": [
      {
       "cell_index": 16
      }
     ]
    },
    "a9bb57c0e46b46558c1120c303949a88": {
     "views": [
      {
       "cell_index": 16
      }
     ]
    },
    "aa3fe32ff35a42189c01fbeae96643f9": {
     "views": [
      {
       "cell_index": 16
      }
     ]
    },
    "aa8be84ac05d4661b81eb5d0e60fab28": {
     "views": [
      {
       "cell_index": 16
      }
     ]
    },
    "ab4cd82892b44140ae888b172cccd779": {
     "views": [
      {
       "cell_index": 17
      }
     ]
    },
    "ac3bf3d8f4604d0c9646f098f840267d": {
     "views": [
      {
       "cell_index": 16
      }
     ]
    },
    "ac829802e2dd4f69a843c49c3de8d850": {
     "views": [
      {
       "cell_index": 16
      }
     ]
    },
    "ac86f2e0d236473db15125a45a4d17a1": {
     "views": [
      {
       "cell_index": 16
      }
     ]
    },
    "aca8d5c8a92c40448e8ed3698aef8585": {
     "views": [
      {
       "cell_index": 16
      }
     ]
    },
    "acc7c85793cc4ddcbdfdc7630478e387": {
     "views": [
      {
       "cell_index": 16
      }
     ]
    },
    "ad1a90a3dfd24bf7ba942336d34838e1": {
     "views": [
      {
       "cell_index": 16
      }
     ]
    },
    "ad9ee1a94c1e484e99be206c4aa68da5": {
     "views": [
      {
       "cell_index": 16
      }
     ]
    },
    "ae0c6b3404b34a5b93c4fcc5e875cd1c": {
     "views": [
      {
       "cell_index": 16
      }
     ]
    },
    "ae3f4db4b12d435fbbdd4ec3779d55c8": {
     "views": [
      {
       "cell_index": 16
      }
     ]
    },
    "ae5dabcfb4ec40759cd07a32f85e210d": {
     "views": [
      {
       "cell_index": 16
      }
     ]
    },
    "ae9694073f1e4111905d36c47509eb9b": {
     "views": [
      {
       "cell_index": 16
      }
     ]
    },
    "aef51a6a5c4348ffaa91eba7b86b739a": {
     "views": [
      {
       "cell_index": 16
      }
     ]
    },
    "aeff894a65d94f778189c6d1f00840a6": {
     "views": [
      {
       "cell_index": 16
      }
     ]
    },
    "af6212a2066c454fb93a14574b38c7a3": {
     "views": [
      {
       "cell_index": 16
      }
     ]
    },
    "afbb6451679b4aa883dfc017b0b1f106": {
     "views": [
      {
       "cell_index": 16
      }
     ]
    },
    "aff47b88fe3541058c069c727813ac02": {
     "views": [
      {
       "cell_index": 16
      }
     ]
    },
    "b030993df1c24a8d8e17b5084f041b20": {
     "views": [
      {
       "cell_index": 16
      }
     ]
    },
    "b104130e3cc848afa7e8d217abcdd95b": {
     "views": [
      {
       "cell_index": 16
      }
     ]
    },
    "b114016e2b514552b8d1b8918b295848": {
     "views": [
      {
       "cell_index": 16
      }
     ]
    },
    "b13c41fd81c440c8b4110caaebc71956": {
     "views": [
      {
       "cell_index": 16
      }
     ]
    },
    "b14489369a0e4660ba79d786a40b0765": {
     "views": [
      {
       "cell_index": 16
      }
     ]
    },
    "b18aea1ed4c2452c9cf667f03bbda0bc": {
     "views": [
      {
       "cell_index": 16
      }
     ]
    },
    "b22860105f0e4b1c9f14318cad7799b8": {
     "views": [
      {
       "cell_index": 16
      }
     ]
    },
    "b246203e52984b60a66acb0936acda62": {
     "views": [
      {
       "cell_index": 16
      }
     ]
    },
    "b2a6bcd2f2c7473f99dc14ad66e1add5": {
     "views": [
      {
       "cell_index": 16
      }
     ]
    },
    "b2f9e7f7d0c74721a3098ae57fd20bf1": {
     "views": [
      {
       "cell_index": 16
      }
     ]
    },
    "b3ed6189600e4a68b4c29c8eb671cca3": {
     "views": [
      {
       "cell_index": 16
      }
     ]
    },
    "b41879fdd60546e19e30f37947c41c08": {
     "views": [
      {
       "cell_index": 16
      }
     ]
    },
    "b48335e30d2b431eb9e0a774e3dc9341": {
     "views": [
      {
       "cell_index": 16
      }
     ]
    },
    "b4cde06dc66f44b2965402fbd3c0d98c": {
     "views": [
      {
       "cell_index": 16
      }
     ]
    },
    "b4eb34b050b44e248eaa4d2b59ec851b": {
     "views": [
      {
       "cell_index": 16
      }
     ]
    },
    "b52ce4d9090d4bfeab4b47b95b502b3e": {
     "views": [
      {
       "cell_index": 16
      }
     ]
    },
    "b63976d992184f53b0960e22e8305365": {
     "views": [
      {
       "cell_index": 16
      }
     ]
    },
    "b64bf90e8a844a57a83c81086f2e2cd7": {
     "views": [
      {
       "cell_index": 16
      }
     ]
    },
    "b6e3d91ebdff441ca5745c9884e45752": {
     "views": [
      {
       "cell_index": 16
      }
     ]
    },
    "b6e8f503fa484ff6850884d9c7d16e7c": {
     "views": [
      {
       "cell_index": 16
      }
     ]
    },
    "b6ea3e25522f4f28a2976877a8559b38": {
     "views": [
      {
       "cell_index": 16
      }
     ]
    },
    "b71f7463453f40208a64059128d39d3a": {
     "views": [
      {
       "cell_index": 16
      }
     ]
    },
    "b74a7a232d7a4f86a293b47b377c9562": {
     "views": [
      {
       "cell_index": 16
      }
     ]
    },
    "b7a4851a5309483fb4044488118919dc": {
     "views": [
      {
       "cell_index": 16
      }
     ]
    },
    "b7d1b93d374d4f97b7eb53e7c52c4264": {
     "views": [
      {
       "cell_index": 16
      }
     ]
    },
    "b7e46959c5354d6cbfccd47f7c78710e": {
     "views": [
      {
       "cell_index": 16
      }
     ]
    },
    "b7e9534be7924d3781c144550fd2a7dd": {
     "views": [
      {
       "cell_index": 16
      }
     ]
    },
    "b84975c6af9e43fa932043e770d1caf3": {
     "views": [
      {
       "cell_index": 16
      }
     ]
    },
    "b849d6b238834b059d39666cbb7183fb": {
     "views": [
      {
       "cell_index": 16
      }
     ]
    },
    "b957f7334c14479ea02be5658d573d92": {
     "views": [
      {
       "cell_index": 16
      }
     ]
    },
    "b9a0dd947d7543a3aca92b7e83eadecc": {
     "views": [
      {
       "cell_index": 16
      }
     ]
    },
    "ba38f7c110c34e1fbae2f8e5a595b535": {
     "views": [
      {
       "cell_index": 16
      }
     ]
    },
    "ba5e17bd22894947998db9c7bb1dafae": {
     "views": [
      {
       "cell_index": 18
      }
     ]
    },
    "ba63a3c451a342d18fa4d91dab3b299d": {
     "views": [
      {
       "cell_index": 17
      }
     ]
    },
    "bae4fc09c7a64a7ba93889b005af8c1f": {
     "views": [
      {
       "cell_index": 16
      }
     ]
    },
    "bb54bee23c6b4bfa8e2c05662b6af663": {
     "views": [
      {
       "cell_index": 16
      }
     ]
    },
    "bb801ccc159740d797a674d588d4a855": {
     "views": [
      {
       "cell_index": 16
      }
     ]
    },
    "bbee55b52ee7420d9ec116e89a552640": {
     "views": [
      {
       "cell_index": 16
      }
     ]
    },
    "bc380c30e9894e35b714594c7fe43e0d": {
     "views": [
      {
       "cell_index": 16
      }
     ]
    },
    "bc45faa8a563435cbb0ee165d5f2ddea": {
     "views": [
      {
       "cell_index": 16
      }
     ]
    },
    "bc6333bbcbcb4d4388fd447540770ec4": {
     "views": [
      {
       "cell_index": 16
      }
     ]
    },
    "bd36ac5ae4ba4795b7cc257605fc09b5": {
     "views": [
      {
       "cell_index": 16
      }
     ]
    },
    "bd42006efaca4cca883669df198e4a2f": {
     "views": [
      {
       "cell_index": 16
      }
     ]
    },
    "bd76192973d44acaa06647449722539b": {
     "views": [
      {
       "cell_index": 16
      }
     ]
    },
    "beb0445ae1b64b8484b2cfddf8d966ca": {
     "views": [
      {
       "cell_index": 16
      }
     ]
    },
    "bec790fea5954f0282c6ca2ed4f4adb5": {
     "views": [
      {
       "cell_index": 16
      }
     ]
    },
    "becd0fc3b722492e876c45396b0fa0e5": {
     "views": [
      {
       "cell_index": 16
      }
     ]
    },
    "bed028f13fc74832950e93abf6886483": {
     "views": [
      {
       "cell_index": 16
      }
     ]
    },
    "bf1c794274dc40a684112ad4eba1e195": {
     "views": [
      {
       "cell_index": 16
      }
     ]
    },
    "bf4a3d85096046dbb5d5c713df06f845": {
     "views": [
      {
       "cell_index": 16
      }
     ]
    },
    "bf8e204303844a458cee0ffe4ee333c7": {
     "views": [
      {
       "cell_index": 16
      }
     ]
    },
    "bfcf57d216424ccbbec633c27e59ce62": {
     "views": [
      {
       "cell_index": 16
      }
     ]
    },
    "bffa7b4cf3f546048a4198d6009ae800": {
     "views": [
      {
       "cell_index": 16
      }
     ]
    },
    "bfffc9efb80a4df0a7a78e9bb817c590": {
     "views": [
      {
       "cell_index": 16
      }
     ]
    },
    "c0008c240ee34c7f8acb9ca9f29ffbee": {
     "views": [
      {
       "cell_index": 16
      }
     ]
    },
    "c012c1e9e71b4b48b5408435a3064058": {
     "views": [
      {
       "cell_index": 16
      }
     ]
    },
    "c03f5d8fef814d3a8539128bd3cb9d97": {
     "views": [
      {
       "cell_index": 16
      }
     ]
    },
    "c1206571c9c04e57877b5330919671c3": {
     "views": [
      {
       "cell_index": 16
      }
     ]
    },
    "c16198d574844e9b959610c611be0a55": {
     "views": [
      {
       "cell_index": 16
      }
     ]
    },
    "c1b2b011e99c421d807b5a22c4a62cb6": {
     "views": [
      {
       "cell_index": 16
      }
     ]
    },
    "c1c5cbdaeeb14f4e9bdd8891b197d7bf": {
     "views": [
      {
       "cell_index": 16
      }
     ]
    },
    "c1e6c6844ade4591b1bbc1657c5a322f": {
     "views": [
      {
       "cell_index": 16
      }
     ]
    },
    "c1fc3bd5c3e949d6bffe87a408f17e13": {
     "views": [
      {
       "cell_index": 16
      }
     ]
    },
    "c234c6922dfa47af9e51024e7df7f035": {
     "views": [
      {
       "cell_index": 17
      }
     ]
    },
    "c2392ed54849447382d86de861b59f5e": {
     "views": [
      {
       "cell_index": 16
      }
     ]
    },
    "c2a220b2a4934c5e803536d4c1f28181": {
     "views": [
      {
       "cell_index": 16
      }
     ]
    },
    "c2adc6b437754022b3dced069b10ce08": {
     "views": [
      {
       "cell_index": 16
      }
     ]
    },
    "c2c12c5c309d4593bd2f06e0d5dd15c6": {
     "views": [
      {
       "cell_index": 16
      }
     ]
    },
    "c30bd557cd68437d92046ac44ca89822": {
     "views": [
      {
       "cell_index": 16
      }
     ]
    },
    "c38acc92c0874c909cae0c011b6509f6": {
     "views": [
      {
       "cell_index": 16
      }
     ]
    },
    "c3a5ec6ea0d94e0e9614ecebab344ed7": {
     "views": [
      {
       "cell_index": 16
      }
     ]
    },
    "c3e7955e640b479ea272092ede0940cb": {
     "views": [
      {
       "cell_index": 16
      }
     ]
    },
    "c433d1b0b8434c73b5056762284b15d3": {
     "views": [
      {
       "cell_index": 16
      }
     ]
    },
    "c4adb6abc390404bbf4204341612ad20": {
     "views": [
      {
       "cell_index": 16
      }
     ]
    },
    "c4b3ff38b1824341b127ef2aae626aa4": {
     "views": [
      {
       "cell_index": 16
      }
     ]
    },
    "c4ddf714f6a0476db64fc879490e6229": {
     "views": [
      {
       "cell_index": 16
      }
     ]
    },
    "c4f5377ba45041a7a300ff2624e3ff2c": {
     "views": [
      {
       "cell_index": 16
      }
     ]
    },
    "c56387d5bf2b4046b525a74465364f95": {
     "views": [
      {
       "cell_index": 16
      }
     ]
    },
    "c5d1d77695264390892a0a81d8cd7a2a": {
     "views": [
      {
       "cell_index": 16
      }
     ]
    },
    "c609624e2a9442e8bde5e1a0dcac2a7c": {
     "views": [
      {
       "cell_index": 16
      }
     ]
    },
    "c60eb731252e4334ba11e3a3d0390e23": {
     "views": [
      {
       "cell_index": 16
      }
     ]
    },
    "c64ddbef3ee4484f817608cd8bd56eff": {
     "views": [
      {
       "cell_index": 16
      }
     ]
    },
    "c6539dc8485049e89469fd7d3aa9c351": {
     "views": [
      {
       "cell_index": 16
      }
     ]
    },
    "c6b1ca4abe944d1d811c3d62246f54ee": {
     "views": [
      {
       "cell_index": 16
      }
     ]
    },
    "c751ca18113e4afcaffbe71403fd415e": {
     "views": [
      {
       "cell_index": 16
      }
     ]
    },
    "c752b9f277904b4db8d0c378d4eb29a1": {
     "views": [
      {
       "cell_index": 16
      }
     ]
    },
    "c75ca383d45944cdbd17827dc77dd706": {
     "views": [
      {
       "cell_index": 16
      }
     ]
    },
    "c7fb34867afc42ff9162442e9d08805d": {
     "views": [
      {
       "cell_index": 16
      }
     ]
    },
    "c82103c31cde49f4ab548bf8d80a65af": {
     "views": [
      {
       "cell_index": 16
      }
     ]
    },
    "c8780fbfb0da48808b7534be75f14194": {
     "views": [
      {
       "cell_index": 16
      }
     ]
    },
    "c8b5a489df73423696c486bb7869a0de": {
     "views": [
      {
       "cell_index": 16
      }
     ]
    },
    "c8e986d0c646426f8b7bb74ec4f2bed7": {
     "views": [
      {
       "cell_index": 16
      }
     ]
    },
    "c953065d35394d3cac7ccb634635c822": {
     "views": [
      {
       "cell_index": 16
      }
     ]
    },
    "c97f6ff467d64ffb8d40058fa51f6fea": {
     "views": [
      {
       "cell_index": 16
      }
     ]
    },
    "ca08bf047c3343ae97c5192257ccedfe": {
     "views": [
      {
       "cell_index": 16
      }
     ]
    },
    "ca3057f75dee40d687ae07f2fdc4530a": {
     "views": [
      {
       "cell_index": 16
      }
     ]
    },
    "ca52bbd583464db4ba83e0b427902784": {
     "views": [
      {
       "cell_index": 16
      }
     ]
    },
    "ca893b587f534163b2c010db0a59e64c": {
     "views": [
      {
       "cell_index": 16
      }
     ]
    },
    "cadf8ed2a5f9476aba845bc0e0cadacf": {
     "views": [
      {
       "cell_index": 16
      }
     ]
    },
    "cafa36e076754045a468c63b7f3cfe40": {
     "views": [
      {
       "cell_index": 16
      }
     ]
    },
    "cb6baa1b5a8d4a838e54d9dd71f8054a": {
     "views": [
      {
       "cell_index": 16
      }
     ]
    },
    "cbee03ad85364cf8865851e4039dd52f": {
     "views": [
      {
       "cell_index": 16
      }
     ]
    },
    "ccf535e2911541dd9efcfc7f72d4f5b9": {
     "views": [
      {
       "cell_index": 16
      }
     ]
    },
    "cdc066c375394e92abd357b9e77b026d": {
     "views": [
      {
       "cell_index": 16
      }
     ]
    },
    "ce110321a556420893bea767aac859ee": {
     "views": [
      {
       "cell_index": 16
      }
     ]
    },
    "ce18a877b4fa447997192f77047b5b6c": {
     "views": [
      {
       "cell_index": 16
      }
     ]
    },
    "ce4bd24662c34e0ea47b0729d98726bd": {
     "views": [
      {
       "cell_index": 16
      }
     ]
    },
    "cefe49b667284be6b10a18d54fb17f9c": {
     "views": [
      {
       "cell_index": 16
      }
     ]
    },
    "cf29da1c7fdf4c65be199fa9a4ccd82d": {
     "views": [
      {
       "cell_index": 16
      }
     ]
    },
    "cf9383cdf8c64b92956ccd67ec351135": {
     "views": [
      {
       "cell_index": 16
      }
     ]
    },
    "cf9bcef7951c42bcb6e7477a73930b4e": {
     "views": [
      {
       "cell_index": 16
      }
     ]
    },
    "cff6b7b907cd443bb4d598fe784534c5": {
     "views": [
      {
       "cell_index": 16
      }
     ]
    },
    "d008a2b29ea34885a83868d07437ff40": {
     "views": [
      {
       "cell_index": 16
      }
     ]
    },
    "d023a4ff97214022ba7aadacd2bb4490": {
     "views": [
      {
       "cell_index": 16
      }
     ]
    },
    "d0542447aee94a5c87227126890d51e9": {
     "views": [
      {
       "cell_index": 16
      }
     ]
    },
    "d1071e180b3f422ab6bbe82594c08f83": {
     "views": [
      {
       "cell_index": 17
      }
     ]
    },
    "d125bb5fa5514663822f00d3e204317c": {
     "views": [
      {
       "cell_index": 16
      }
     ]
    },
    "d12e9ae9d8ce49d8b1f367a8bdbb32d6": {
     "views": [
      {
       "cell_index": 16
      }
     ]
    },
    "d168d626dd3a4486bca6c6896367a420": {
     "views": [
      {
       "cell_index": 16
      }
     ]
    },
    "d253e227d18443699c5be37614ae1358": {
     "views": [
      {
       "cell_index": 16
      }
     ]
    },
    "d2e0265e6a20477cb5bb8fe7beb4bee5": {
     "views": [
      {
       "cell_index": 16
      }
     ]
    },
    "d31dabfd1b2c4570ab96c7b76928e989": {
     "views": [
      {
       "cell_index": 16
      }
     ]
    },
    "d32f4ae25aa947b8b92ad3cc3ab5a046": {
     "views": [
      {
       "cell_index": 16
      }
     ]
    },
    "d38496b7ba1547e0bde8548e59aef991": {
     "views": [
      {
       "cell_index": 16
      }
     ]
    },
    "d388c0c5521048b28aa33ce074486ac2": {
     "views": [
      {
       "cell_index": 16
      }
     ]
    },
    "d389f8a9a11f427786ad7da545cac951": {
     "views": [
      {
       "cell_index": 17
      }
     ]
    },
    "d3930f5f339a45edb2b5a79e313c161b": {
     "views": [
      {
       "cell_index": 16
      }
     ]
    },
    "d3b15594f1f64ff5822f003d8538fe68": {
     "views": [
      {
       "cell_index": 16
      }
     ]
    },
    "d4178ea701b3441f82bff40119a23026": {
     "views": [
      {
       "cell_index": 16
      }
     ]
    },
    "d4342820104b4e15be0587ddcb6bd288": {
     "views": [
      {
       "cell_index": 16
      }
     ]
    },
    "d440a73ae9734d2bbdb1327df014d3de": {
     "views": [
      {
       "cell_index": 16
      }
     ]
    },
    "d4988190eb51407c9c24f5df72a33386": {
     "views": [
      {
       "cell_index": 16
      }
     ]
    },
    "d4a171a9761d45ea95f4ceae98cc464e": {
     "views": [
      {
       "cell_index": 16
      }
     ]
    },
    "d51c3d3651eb477aa0627ed2096c14eb": {
     "views": [
      {
       "cell_index": 16
      }
     ]
    },
    "d532af29f68e4aadad6bac4d004ad3ca": {
     "views": [
      {
       "cell_index": 16
      }
     ]
    },
    "d5b5bcb8320b4ef3b27cad5d29a6e4e1": {
     "views": [
      {
       "cell_index": 16
      }
     ]
    },
    "d5c16419bfb741efabfc78dad3cc4794": {
     "views": [
      {
       "cell_index": 16
      }
     ]
    },
    "d6296b48d56f4196bd60c3eb01230939": {
     "views": [
      {
       "cell_index": 16
      }
     ]
    },
    "d633352ae32344bebb823b38990f63b6": {
     "views": [
      {
       "cell_index": 16
      }
     ]
    },
    "d654d3f4501a4906b24122b452930917": {
     "views": [
      {
       "cell_index": 16
      }
     ]
    },
    "d662a0f82a5c4813b4b436acc9613481": {
     "views": [
      {
       "cell_index": 16
      }
     ]
    },
    "d682438534e74598a2be94b74ce5c754": {
     "views": [
      {
       "cell_index": 18
      }
     ]
    },
    "d6b6fd2bf7a845ae8b4878d8abfbba9e": {
     "views": [
      {
       "cell_index": 16
      }
     ]
    },
    "d6eec90d90424aaebdd3eb145ebce729": {
     "views": [
      {
       "cell_index": 17
      }
     ]
    },
    "d6f4386434464d259afb0485bd8fd6bf": {
     "views": [
      {
       "cell_index": 16
      }
     ]
    },
    "d6f47dc617d1478a87f66b42fa609be9": {
     "views": [
      {
       "cell_index": 16
      }
     ]
    },
    "d7bd6802f95a426c9887d530689f5327": {
     "views": [
      {
       "cell_index": 16
      }
     ]
    },
    "d7dbede0723c4029ae5d8f4a6e92c067": {
     "views": [
      {
       "cell_index": 16
      }
     ]
    },
    "d81ce3471e08440585fb87843619d4e1": {
     "views": [
      {
       "cell_index": 17
      }
     ]
    },
    "d8b3b0c0e8694c2f93f5a2c95cbad474": {
     "views": [
      {
       "cell_index": 16
      }
     ]
    },
    "d8b54d9957584dc5881ef0c3c1cca565": {
     "views": [
      {
       "cell_index": 16
      }
     ]
    },
    "d8fd334c87c94b1ab2f3cec45eb7815a": {
     "views": [
      {
       "cell_index": 18
      }
     ]
    },
    "d92b728f3f8a4454b8c7c217e344c641": {
     "views": [
      {
       "cell_index": 16
      }
     ]
    },
    "d92dd7834b8846bf8c0ebf11ecf66ac7": {
     "views": [
      {
       "cell_index": 16
      }
     ]
    },
    "d9e24f43caa14fb18c01294380f57bdd": {
     "views": [
      {
       "cell_index": 18
      }
     ]
    },
    "d9f72650d141404e99f4af934c095a98": {
     "views": [
      {
       "cell_index": 16
      }
     ]
    },
    "da5222144e994c249ee48929e5b98c05": {
     "views": [
      {
       "cell_index": 16
      }
     ]
    },
    "da9d4e0032eb4abab8597a167a2fbd91": {
     "views": [
      {
       "cell_index": 18
      }
     ]
    },
    "dabf34758e674351b54fa6ec9c96cf29": {
     "views": [
      {
       "cell_index": 16
      }
     ]
    },
    "daca61fd04e44d7b97164ad4f8d4bd08": {
     "views": [
      {
       "cell_index": 16
      }
     ]
    },
    "db5454a1eab24d86a654b3b16a10a4b1": {
     "views": [
      {
       "cell_index": 16
      }
     ]
    },
    "dc99075d98fa432fab3364f229afbe56": {
     "views": [
      {
       "cell_index": 18
      }
     ]
    },
    "dce1fd0891764ecf985a15de09d34ef3": {
     "views": [
      {
       "cell_index": 16
      }
     ]
    },
    "dd0842870d9f47bda4f33aed2d70e4cf": {
     "views": [
      {
       "cell_index": 16
      }
     ]
    },
    "dd6b2bd18e394d3cac5913e6466847a6": {
     "views": [
      {
       "cell_index": 16
      }
     ]
    },
    "de552a52634b4c7eaae484356481d3ea": {
     "views": [
      {
       "cell_index": 16
      }
     ]
    },
    "de9420d71bc941dd9598b43a0ab5a713": {
     "views": [
      {
       "cell_index": 16
      }
     ]
    },
    "debaba08b0094b77a63fb6d823c9ee0a": {
     "views": [
      {
       "cell_index": 16
      }
     ]
    },
    "deff06faa13245b4a6544b3f8b30c988": {
     "views": [
      {
       "cell_index": 16
      }
     ]
    },
    "df911b19e0314cf8af08b3c5f8abf6dd": {
     "views": [
      {
       "cell_index": 16
      }
     ]
    },
    "e093cf26841b44719c5757a9a5982486": {
     "views": [
      {
       "cell_index": 16
      }
     ]
    },
    "e0a56088889940f58cad262d078ab6b6": {
     "views": [
      {
       "cell_index": 16
      }
     ]
    },
    "e0bbbbfb827647e5ab5f98a8bbc3e70b": {
     "views": [
      {
       "cell_index": 16
      }
     ]
    },
    "e0fe3fda7ee84c989690d1be566e94e8": {
     "views": [
      {
       "cell_index": 16
      }
     ]
    },
    "e218530377bc4eb9a3b8c3294ab0977d": {
     "views": [
      {
       "cell_index": 16
      }
     ]
    },
    "e2266392cbf04f31a23a0d2b93515fb6": {
     "views": [
      {
       "cell_index": 16
      }
     ]
    },
    "e2e8c98e820e4992993803ffa3c44232": {
     "views": [
      {
       "cell_index": 16
      }
     ]
    },
    "e3163d0399074a0f919a450eb16e989b": {
     "views": [
      {
       "cell_index": 16
      }
     ]
    },
    "e327aedb266c4029ae74b41b26fe10ec": {
     "views": [
      {
       "cell_index": 16
      }
     ]
    },
    "e3859c2797904923ad46226fc37631af": {
     "views": [
      {
       "cell_index": 16
      }
     ]
    },
    "e4c919ba3c354618a3a44e307d6b4ea9": {
     "views": [
      {
       "cell_index": 16
      }
     ]
    },
    "e52f42aefe0c43e99a392ebe16ae2b33": {
     "views": [
      {
       "cell_index": 16
      }
     ]
    },
    "e65b53e0c7a446de81be4cd07bda194b": {
     "views": [
      {
       "cell_index": 16
      }
     ]
    },
    "e677481c6e9d4d74b9325c76868f8469": {
     "views": [
      {
       "cell_index": 16
      }
     ]
    },
    "e6989c5af652442299d662c5b5dc1e49": {
     "views": [
      {
       "cell_index": 16
      }
     ]
    },
    "e734c3a130f4489ebf45b5c3c8850890": {
     "views": [
      {
       "cell_index": 16
      }
     ]
    },
    "e77ac74ab2bf4e7d8aeecfa770dfd830": {
     "views": [
      {
       "cell_index": 16
      }
     ]
    },
    "e77c965f77e443749f157e398802e464": {
     "views": [
      {
       "cell_index": 16
      }
     ]
    },
    "e77de8011efc411d9db1dc3002ec202e": {
     "views": [
      {
       "cell_index": 16
      }
     ]
    },
    "e7f6b44de73d436ba896dfb25ca07590": {
     "views": [
      {
       "cell_index": 16
      }
     ]
    },
    "e83ba47f09bd4ac289a18dd55d49a6c0": {
     "views": [
      {
       "cell_index": 16
      }
     ]
    },
    "e847e2fd545445a6973ed5915c241f88": {
     "views": [
      {
       "cell_index": 16
      }
     ]
    },
    "e88d57bd2f824073bfc22d39b7fb551a": {
     "views": [
      {
       "cell_index": 16
      }
     ]
    },
    "e891cee781e3497293979361b5e01774": {
     "views": [
      {
       "cell_index": 16
      }
     ]
    },
    "e92f412d19d24289912492043ac1da5f": {
     "views": [
      {
       "cell_index": 16
      }
     ]
    },
    "e97a8dbc7da940a980389043bc5d3e0e": {
     "views": [
      {
       "cell_index": 16
      }
     ]
    },
    "e99ad92db3b14a28904c03c77e4d810a": {
     "views": [
      {
       "cell_index": 16
      }
     ]
    },
    "e9e6819eb46d42288c9101e153280c17": {
     "views": [
      {
       "cell_index": 16
      }
     ]
    },
    "ea29e59d5e32452db0468eeb778223c2": {
     "views": [
      {
       "cell_index": 16
      }
     ]
    },
    "ea43d416b1ac424eaa7d019c8a3c4816": {
     "views": [
      {
       "cell_index": 16
      }
     ]
    },
    "ea9d0a3208fa4c8d9eb68ca79411f434": {
     "views": [
      {
       "cell_index": 16
      }
     ]
    },
    "eaac56c8904e48a5a1ae65255fd9a023": {
     "views": [
      {
       "cell_index": 16
      }
     ]
    },
    "eacf691db4c6471ab061296a1843474e": {
     "views": [
      {
       "cell_index": 16
      }
     ]
    },
    "eafe632a852c48dfb2d0a77d5797913c": {
     "views": [
      {
       "cell_index": 16
      }
     ]
    },
    "eb10f12918024a1399f5e225162055af": {
     "views": [
      {
       "cell_index": 16
      }
     ]
    },
    "eb1b5546d98242cf9a1f226d32464586": {
     "views": [
      {
       "cell_index": 16
      }
     ]
    },
    "eb31529d80d14cdc852ae59d50d5fe98": {
     "views": [
      {
       "cell_index": 16
      }
     ]
    },
    "eb53ee930cec4538963d1fea2f20a915": {
     "views": [
      {
       "cell_index": 16
      }
     ]
    },
    "ebe6f30cbbcb4925b189b60e1adfa06c": {
     "views": [
      {
       "cell_index": 16
      }
     ]
    },
    "ecfb43a134e744dba02fe3414ef61499": {
     "views": [
      {
       "cell_index": 16
      }
     ]
    },
    "ed2cdb5d919f4139a04fdacbbc96ed80": {
     "views": [
      {
       "cell_index": 16
      }
     ]
    },
    "ed30f8969207497890a3e037f8f0aafc": {
     "views": [
      {
       "cell_index": 16
      }
     ]
    },
    "ed488021abc242f7b02d729c7793889e": {
     "views": [
      {
       "cell_index": 16
      }
     ]
    },
    "ed732da6cd1947dc95ce19ed91621deb": {
     "views": [
      {
       "cell_index": 16
      }
     ]
    },
    "ee44c66cca28444f913ce36539a93d2e": {
     "views": [
      {
       "cell_index": 16
      }
     ]
    },
    "ef518250297749b7ab672ad092ded2ad": {
     "views": [
      {
       "cell_index": 16
      }
     ]
    },
    "ef791f4cd97f414c9b7ebd4fa174331b": {
     "views": [
      {
       "cell_index": 16
      }
     ]
    },
    "efd29dcd9712451bbc9daa5490eff68f": {
     "views": [
      {
       "cell_index": 16
      }
     ]
    },
    "f064b7b8dda4465d89ac3fcceff9c02c": {
     "views": [
      {
       "cell_index": 18
      }
     ]
    },
    "f29d2751166d4ed59616e8246a004d15": {
     "views": [
      {
       "cell_index": 18
      }
     ]
    },
    "f36e6ea12a3d41c7827a6140724e542b": {
     "views": [
      {
       "cell_index": 16
      }
     ]
    },
    "f3884aa172154a22a7bc9b64fd876a65": {
     "views": [
      {
       "cell_index": 17
      }
     ]
    },
    "f46c849476d64d059fcd30709e47a8b3": {
     "views": [
      {
       "cell_index": 16
      }
     ]
    },
    "f475b13537df4ecebe67c3b9985bc384": {
     "views": [
      {
       "cell_index": 16
      }
     ]
    },
    "f4a72393013b4940a1d4f6893db3fa13": {
     "views": [
      {
       "cell_index": 16
      }
     ]
    },
    "f4f0b262e828446a8d70138684f3426c": {
     "views": [
      {
       "cell_index": 16
      }
     ]
    },
    "f576dbb28eb5439894a1631f711cd192": {
     "views": [
      {
       "cell_index": 16
      }
     ]
    },
    "f59849766cee499ba9b06f447d7ed454": {
     "views": [
      {
       "cell_index": 16
      }
     ]
    },
    "f619994446e844b3ab6fd3293ec36988": {
     "views": [
      {
       "cell_index": 16
      }
     ]
    },
    "f69e8ddaaec8443cbb95d6e3a53f10a8": {
     "views": [
      {
       "cell_index": 16
      }
     ]
    },
    "f764875836c643959eb3cd5d1ef970e3": {
     "views": [
      {
       "cell_index": 16
      }
     ]
    },
    "f79096eea18a4c9b8bb320482d650587": {
     "views": [
      {
       "cell_index": 16
      }
     ]
    },
    "f87c9ee1f9844a0294c47f9af35375dd": {
     "views": [
      {
       "cell_index": 16
      }
     ]
    },
    "f88fd86e553e4fd18542e2bab919581e": {
     "views": [
      {
       "cell_index": 16
      }
     ]
    },
    "f8bcf8f6a31640b9939d237581722dbc": {
     "views": [
      {
       "cell_index": 16
      }
     ]
    },
    "f8bfa257960545278f62e1bcd0d18b79": {
     "views": [
      {
       "cell_index": 16
      }
     ]
    },
    "f8e04500798e4066bdef34b37f27e399": {
     "views": [
      {
       "cell_index": 16
      }
     ]
    },
    "f8e5a81e1ea94836898915056b46ab9f": {
     "views": [
      {
       "cell_index": 16
      }
     ]
    },
    "f90bf61350c348deab69e9fb80c80ba1": {
     "views": [
      {
       "cell_index": 16
      }
     ]
    },
    "f9136261a2574746bb66cf4eed93131a": {
     "views": [
      {
       "cell_index": 16
      }
     ]
    },
    "f96ef840da9c4464a1006fa49ed43f87": {
     "views": [
      {
       "cell_index": 16
      }
     ]
    },
    "f99dbd62b32642be91f87b064b24fce3": {
     "views": [
      {
       "cell_index": 16
      }
     ]
    },
    "f9b7db6210a845838f917f0cee516568": {
     "views": [
      {
       "cell_index": 16
      }
     ]
    },
    "f9eb2cc32a9b4061a3544512345d1581": {
     "views": [
      {
       "cell_index": 16
      }
     ]
    },
    "fab84276e01a42e1b63d20220663d0b3": {
     "views": [
      {
       "cell_index": 18
      }
     ]
    },
    "fb4d9aaaf02c40ca86dd0ff944989795": {
     "views": [
      {
       "cell_index": 16
      }
     ]
    },
    "fc2b21c0f50849ab937cb6709376bff6": {
     "views": [
      {
       "cell_index": 16
      }
     ]
    },
    "fcb815e0fe694e9db029f39877f992df": {
     "views": [
      {
       "cell_index": 16
      }
     ]
    },
    "fd6424a5d70a4409b687279f1be70f90": {
     "views": [
      {
       "cell_index": 16
      }
     ]
    },
    "fd798ffd0ac3466891f6e9b85673ec13": {
     "views": [
      {
       "cell_index": 16
      }
     ]
    },
    "fde5617f566b40d78e375b8728f98cb4": {
     "views": [
      {
       "cell_index": 16
      }
     ]
    },
    "fdf2c7ef22774a44a92143994cf82948": {
     "views": [
      {
       "cell_index": 16
      }
     ]
    },
    "fdf71e35bf9844b1a7a89c3361a896a4": {
     "views": [
      {
       "cell_index": 16
      }
     ]
    },
    "fe1dc3af10f849acbd3fa769810366ea": {
     "views": [
      {
       "cell_index": 16
      }
     ]
    },
    "fe328f3d73944dbbad904de4e67a675b": {
     "views": [
      {
       "cell_index": 16
      }
     ]
    },
    "fead3bcda3984725bf9da7e3f6e9de29": {
     "views": [
      {
       "cell_index": 16
      }
     ]
    },
    "ff5c4dd8e5c743038ce453a9a53517ae": {
     "views": [
      {
       "cell_index": 16
      }
     ]
    },
    "ff63b2be1cb24645ac6ed41a4d3f8537": {
     "views": [
      {
       "cell_index": 16
      }
     ]
    },
    "ffdcdb1fe1474f4290d4d3d2fcfd72cc": {
     "views": [
      {
       "cell_index": 16
      }
     ]
    }
   },
   "version": "1.2.0"
  }
 },
 "nbformat": 4,
 "nbformat_minor": 2
}
